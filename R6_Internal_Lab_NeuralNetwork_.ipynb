{
  "nbformat": 4,
  "nbformat_minor": 0,
  "metadata": {
    "colab": {
      "name": "R6_Internal_Lab_NeuralNetwork .ipynb",
      "provenance": [],
      "collapsed_sections": []
    },
    "kernelspec": {
      "name": "python3",
      "display_name": "Python 3"
    }
  },
  "cells": [
    {
      "cell_type": "markdown",
      "metadata": {
        "id": "zUZjPnVXGz0Z",
        "colab_type": "text"
      },
      "source": [
        "# The Iris Dataset\n",
        "The data set consists of 50 samples from each of three species of Iris (Iris setosa, Iris virginica and Iris versicolor). Four features were measured from each sample: the length and the width of the sepals and petals, in centimeters.\n",
        "\n",
        "The dataset contains a set of 150 records under five attributes - petal length, petal width, sepal length, sepal width and species."
      ]
    },
    {
      "cell_type": "markdown",
      "metadata": {
        "id": "RMbmpriavLE9",
        "colab_type": "text"
      },
      "source": [
        "### Specifying the TensorFlow version\n",
        "Running `import tensorflow` will import the default version (currently 1.x). You can use 2.x by running a cell with the `tensorflow_version` magic **before** you run `import tensorflow`."
      ]
    },
    {
      "cell_type": "code",
      "metadata": {
        "id": "aiiEvJWgjZpA",
        "colab_type": "code",
        "colab": {}
      },
      "source": [
        ""
      ],
      "execution_count": 0,
      "outputs": []
    },
    {
      "cell_type": "code",
      "metadata": {
        "colab_type": "code",
        "id": "fu8bUU__oa7h",
        "colab": {
          "base_uri": "https://localhost:8080/",
          "height": 35
        },
        "outputId": "ec4e67a6-64b6-4786-9d16-e266ac5cafc9"
      },
      "source": [
        "%tensorflow_version 2.x"
      ],
      "execution_count": 1,
      "outputs": [
        {
          "output_type": "stream",
          "text": [
            "TensorFlow 2.x selected.\n"
          ],
          "name": "stdout"
        }
      ]
    },
    {
      "cell_type": "markdown",
      "metadata": {
        "colab_type": "text",
        "id": "bLz1Ckvfvn6D"
      },
      "source": [
        "### Import TensorFlow\n",
        "Once you have specified a version via this magic, you can run `import tensorflow` as normal and verify which version was imported as follows:"
      ]
    },
    {
      "cell_type": "code",
      "metadata": {
        "colab_type": "code",
        "id": "CWrzVTLOvn6M",
        "colab": {
          "base_uri": "https://localhost:8080/",
          "height": 35
        },
        "outputId": "42cb5bd2-9b80-4b0a-99c4-1cbbe4f52ac3"
      },
      "source": [
        "import tensorflow as tf\n",
        "print(tf.__version__)"
      ],
      "execution_count": 2,
      "outputs": [
        {
          "output_type": "stream",
          "text": [
            "2.1.0\n"
          ],
          "name": "stdout"
        }
      ]
    },
    {
      "cell_type": "markdown",
      "metadata": {
        "id": "_uYeJgkNuXNC",
        "colab_type": "text"
      },
      "source": [
        "### Set random seed"
      ]
    },
    {
      "cell_type": "code",
      "metadata": {
        "id": "lcASNsewsfQX",
        "colab_type": "code",
        "colab": {}
      },
      "source": [
        "tf.random.set_seed(42)"
      ],
      "execution_count": 0,
      "outputs": []
    },
    {
      "cell_type": "markdown",
      "metadata": {
        "id": "5-vVQBBqg7DI",
        "colab_type": "text"
      },
      "source": [
        "## Question 1"
      ]
    },
    {
      "cell_type": "markdown",
      "metadata": {
        "id": "kE0EDKvQhEIe",
        "colab_type": "text"
      },
      "source": [
        "### Import dataset\n",
        "- Import iris dataset\n",
        "- Import the dataset using sklearn library"
      ]
    },
    {
      "cell_type": "code",
      "metadata": {
        "id": "IOOWpD26Haq3",
        "colab_type": "code",
        "colab": {
          "base_uri": "https://localhost:8080/",
          "height": 1000
        },
        "outputId": "a1878ae1-503e-4e73-c2f2-ce981a93b73b"
      },
      "source": [
        "import pandas as pd\n",
        "import numpy as np\n",
        "from sklearn.datasets import load_iris\n",
        "\n",
        "iris_df = load_iris()\n",
        "iris_df"
      ],
      "execution_count": 4,
      "outputs": [
        {
          "output_type": "execute_result",
          "data": {
            "text/plain": [
              "{'DESCR': '.. _iris_dataset:\\n\\nIris plants dataset\\n--------------------\\n\\n**Data Set Characteristics:**\\n\\n    :Number of Instances: 150 (50 in each of three classes)\\n    :Number of Attributes: 4 numeric, predictive attributes and the class\\n    :Attribute Information:\\n        - sepal length in cm\\n        - sepal width in cm\\n        - petal length in cm\\n        - petal width in cm\\n        - class:\\n                - Iris-Setosa\\n                - Iris-Versicolour\\n                - Iris-Virginica\\n                \\n    :Summary Statistics:\\n\\n    ============== ==== ==== ======= ===== ====================\\n                    Min  Max   Mean    SD   Class Correlation\\n    ============== ==== ==== ======= ===== ====================\\n    sepal length:   4.3  7.9   5.84   0.83    0.7826\\n    sepal width:    2.0  4.4   3.05   0.43   -0.4194\\n    petal length:   1.0  6.9   3.76   1.76    0.9490  (high!)\\n    petal width:    0.1  2.5   1.20   0.76    0.9565  (high!)\\n    ============== ==== ==== ======= ===== ====================\\n\\n    :Missing Attribute Values: None\\n    :Class Distribution: 33.3% for each of 3 classes.\\n    :Creator: R.A. Fisher\\n    :Donor: Michael Marshall (MARSHALL%PLU@io.arc.nasa.gov)\\n    :Date: July, 1988\\n\\nThe famous Iris database, first used by Sir R.A. Fisher. The dataset is taken\\nfrom Fisher\\'s paper. Note that it\\'s the same as in R, but not as in the UCI\\nMachine Learning Repository, which has two wrong data points.\\n\\nThis is perhaps the best known database to be found in the\\npattern recognition literature.  Fisher\\'s paper is a classic in the field and\\nis referenced frequently to this day.  (See Duda & Hart, for example.)  The\\ndata set contains 3 classes of 50 instances each, where each class refers to a\\ntype of iris plant.  One class is linearly separable from the other 2; the\\nlatter are NOT linearly separable from each other.\\n\\n.. topic:: References\\n\\n   - Fisher, R.A. \"The use of multiple measurements in taxonomic problems\"\\n     Annual Eugenics, 7, Part II, 179-188 (1936); also in \"Contributions to\\n     Mathematical Statistics\" (John Wiley, NY, 1950).\\n   - Duda, R.O., & Hart, P.E. (1973) Pattern Classification and Scene Analysis.\\n     (Q327.D83) John Wiley & Sons.  ISBN 0-471-22361-1.  See page 218.\\n   - Dasarathy, B.V. (1980) \"Nosing Around the Neighborhood: A New System\\n     Structure and Classification Rule for Recognition in Partially Exposed\\n     Environments\".  IEEE Transactions on Pattern Analysis and Machine\\n     Intelligence, Vol. PAMI-2, No. 1, 67-71.\\n   - Gates, G.W. (1972) \"The Reduced Nearest Neighbor Rule\".  IEEE Transactions\\n     on Information Theory, May 1972, 431-433.\\n   - See also: 1988 MLC Proceedings, 54-64.  Cheeseman et al\"s AUTOCLASS II\\n     conceptual clustering system finds 3 classes in the data.\\n   - Many, many more ...',\n",
              " 'data': array([[5.1, 3.5, 1.4, 0.2],\n",
              "        [4.9, 3. , 1.4, 0.2],\n",
              "        [4.7, 3.2, 1.3, 0.2],\n",
              "        [4.6, 3.1, 1.5, 0.2],\n",
              "        [5. , 3.6, 1.4, 0.2],\n",
              "        [5.4, 3.9, 1.7, 0.4],\n",
              "        [4.6, 3.4, 1.4, 0.3],\n",
              "        [5. , 3.4, 1.5, 0.2],\n",
              "        [4.4, 2.9, 1.4, 0.2],\n",
              "        [4.9, 3.1, 1.5, 0.1],\n",
              "        [5.4, 3.7, 1.5, 0.2],\n",
              "        [4.8, 3.4, 1.6, 0.2],\n",
              "        [4.8, 3. , 1.4, 0.1],\n",
              "        [4.3, 3. , 1.1, 0.1],\n",
              "        [5.8, 4. , 1.2, 0.2],\n",
              "        [5.7, 4.4, 1.5, 0.4],\n",
              "        [5.4, 3.9, 1.3, 0.4],\n",
              "        [5.1, 3.5, 1.4, 0.3],\n",
              "        [5.7, 3.8, 1.7, 0.3],\n",
              "        [5.1, 3.8, 1.5, 0.3],\n",
              "        [5.4, 3.4, 1.7, 0.2],\n",
              "        [5.1, 3.7, 1.5, 0.4],\n",
              "        [4.6, 3.6, 1. , 0.2],\n",
              "        [5.1, 3.3, 1.7, 0.5],\n",
              "        [4.8, 3.4, 1.9, 0.2],\n",
              "        [5. , 3. , 1.6, 0.2],\n",
              "        [5. , 3.4, 1.6, 0.4],\n",
              "        [5.2, 3.5, 1.5, 0.2],\n",
              "        [5.2, 3.4, 1.4, 0.2],\n",
              "        [4.7, 3.2, 1.6, 0.2],\n",
              "        [4.8, 3.1, 1.6, 0.2],\n",
              "        [5.4, 3.4, 1.5, 0.4],\n",
              "        [5.2, 4.1, 1.5, 0.1],\n",
              "        [5.5, 4.2, 1.4, 0.2],\n",
              "        [4.9, 3.1, 1.5, 0.2],\n",
              "        [5. , 3.2, 1.2, 0.2],\n",
              "        [5.5, 3.5, 1.3, 0.2],\n",
              "        [4.9, 3.6, 1.4, 0.1],\n",
              "        [4.4, 3. , 1.3, 0.2],\n",
              "        [5.1, 3.4, 1.5, 0.2],\n",
              "        [5. , 3.5, 1.3, 0.3],\n",
              "        [4.5, 2.3, 1.3, 0.3],\n",
              "        [4.4, 3.2, 1.3, 0.2],\n",
              "        [5. , 3.5, 1.6, 0.6],\n",
              "        [5.1, 3.8, 1.9, 0.4],\n",
              "        [4.8, 3. , 1.4, 0.3],\n",
              "        [5.1, 3.8, 1.6, 0.2],\n",
              "        [4.6, 3.2, 1.4, 0.2],\n",
              "        [5.3, 3.7, 1.5, 0.2],\n",
              "        [5. , 3.3, 1.4, 0.2],\n",
              "        [7. , 3.2, 4.7, 1.4],\n",
              "        [6.4, 3.2, 4.5, 1.5],\n",
              "        [6.9, 3.1, 4.9, 1.5],\n",
              "        [5.5, 2.3, 4. , 1.3],\n",
              "        [6.5, 2.8, 4.6, 1.5],\n",
              "        [5.7, 2.8, 4.5, 1.3],\n",
              "        [6.3, 3.3, 4.7, 1.6],\n",
              "        [4.9, 2.4, 3.3, 1. ],\n",
              "        [6.6, 2.9, 4.6, 1.3],\n",
              "        [5.2, 2.7, 3.9, 1.4],\n",
              "        [5. , 2. , 3.5, 1. ],\n",
              "        [5.9, 3. , 4.2, 1.5],\n",
              "        [6. , 2.2, 4. , 1. ],\n",
              "        [6.1, 2.9, 4.7, 1.4],\n",
              "        [5.6, 2.9, 3.6, 1.3],\n",
              "        [6.7, 3.1, 4.4, 1.4],\n",
              "        [5.6, 3. , 4.5, 1.5],\n",
              "        [5.8, 2.7, 4.1, 1. ],\n",
              "        [6.2, 2.2, 4.5, 1.5],\n",
              "        [5.6, 2.5, 3.9, 1.1],\n",
              "        [5.9, 3.2, 4.8, 1.8],\n",
              "        [6.1, 2.8, 4. , 1.3],\n",
              "        [6.3, 2.5, 4.9, 1.5],\n",
              "        [6.1, 2.8, 4.7, 1.2],\n",
              "        [6.4, 2.9, 4.3, 1.3],\n",
              "        [6.6, 3. , 4.4, 1.4],\n",
              "        [6.8, 2.8, 4.8, 1.4],\n",
              "        [6.7, 3. , 5. , 1.7],\n",
              "        [6. , 2.9, 4.5, 1.5],\n",
              "        [5.7, 2.6, 3.5, 1. ],\n",
              "        [5.5, 2.4, 3.8, 1.1],\n",
              "        [5.5, 2.4, 3.7, 1. ],\n",
              "        [5.8, 2.7, 3.9, 1.2],\n",
              "        [6. , 2.7, 5.1, 1.6],\n",
              "        [5.4, 3. , 4.5, 1.5],\n",
              "        [6. , 3.4, 4.5, 1.6],\n",
              "        [6.7, 3.1, 4.7, 1.5],\n",
              "        [6.3, 2.3, 4.4, 1.3],\n",
              "        [5.6, 3. , 4.1, 1.3],\n",
              "        [5.5, 2.5, 4. , 1.3],\n",
              "        [5.5, 2.6, 4.4, 1.2],\n",
              "        [6.1, 3. , 4.6, 1.4],\n",
              "        [5.8, 2.6, 4. , 1.2],\n",
              "        [5. , 2.3, 3.3, 1. ],\n",
              "        [5.6, 2.7, 4.2, 1.3],\n",
              "        [5.7, 3. , 4.2, 1.2],\n",
              "        [5.7, 2.9, 4.2, 1.3],\n",
              "        [6.2, 2.9, 4.3, 1.3],\n",
              "        [5.1, 2.5, 3. , 1.1],\n",
              "        [5.7, 2.8, 4.1, 1.3],\n",
              "        [6.3, 3.3, 6. , 2.5],\n",
              "        [5.8, 2.7, 5.1, 1.9],\n",
              "        [7.1, 3. , 5.9, 2.1],\n",
              "        [6.3, 2.9, 5.6, 1.8],\n",
              "        [6.5, 3. , 5.8, 2.2],\n",
              "        [7.6, 3. , 6.6, 2.1],\n",
              "        [4.9, 2.5, 4.5, 1.7],\n",
              "        [7.3, 2.9, 6.3, 1.8],\n",
              "        [6.7, 2.5, 5.8, 1.8],\n",
              "        [7.2, 3.6, 6.1, 2.5],\n",
              "        [6.5, 3.2, 5.1, 2. ],\n",
              "        [6.4, 2.7, 5.3, 1.9],\n",
              "        [6.8, 3. , 5.5, 2.1],\n",
              "        [5.7, 2.5, 5. , 2. ],\n",
              "        [5.8, 2.8, 5.1, 2.4],\n",
              "        [6.4, 3.2, 5.3, 2.3],\n",
              "        [6.5, 3. , 5.5, 1.8],\n",
              "        [7.7, 3.8, 6.7, 2.2],\n",
              "        [7.7, 2.6, 6.9, 2.3],\n",
              "        [6. , 2.2, 5. , 1.5],\n",
              "        [6.9, 3.2, 5.7, 2.3],\n",
              "        [5.6, 2.8, 4.9, 2. ],\n",
              "        [7.7, 2.8, 6.7, 2. ],\n",
              "        [6.3, 2.7, 4.9, 1.8],\n",
              "        [6.7, 3.3, 5.7, 2.1],\n",
              "        [7.2, 3.2, 6. , 1.8],\n",
              "        [6.2, 2.8, 4.8, 1.8],\n",
              "        [6.1, 3. , 4.9, 1.8],\n",
              "        [6.4, 2.8, 5.6, 2.1],\n",
              "        [7.2, 3. , 5.8, 1.6],\n",
              "        [7.4, 2.8, 6.1, 1.9],\n",
              "        [7.9, 3.8, 6.4, 2. ],\n",
              "        [6.4, 2.8, 5.6, 2.2],\n",
              "        [6.3, 2.8, 5.1, 1.5],\n",
              "        [6.1, 2.6, 5.6, 1.4],\n",
              "        [7.7, 3. , 6.1, 2.3],\n",
              "        [6.3, 3.4, 5.6, 2.4],\n",
              "        [6.4, 3.1, 5.5, 1.8],\n",
              "        [6. , 3. , 4.8, 1.8],\n",
              "        [6.9, 3.1, 5.4, 2.1],\n",
              "        [6.7, 3.1, 5.6, 2.4],\n",
              "        [6.9, 3.1, 5.1, 2.3],\n",
              "        [5.8, 2.7, 5.1, 1.9],\n",
              "        [6.8, 3.2, 5.9, 2.3],\n",
              "        [6.7, 3.3, 5.7, 2.5],\n",
              "        [6.7, 3. , 5.2, 2.3],\n",
              "        [6.3, 2.5, 5. , 1.9],\n",
              "        [6.5, 3. , 5.2, 2. ],\n",
              "        [6.2, 3.4, 5.4, 2.3],\n",
              "        [5.9, 3. , 5.1, 1.8]]),\n",
              " 'feature_names': ['sepal length (cm)',\n",
              "  'sepal width (cm)',\n",
              "  'petal length (cm)',\n",
              "  'petal width (cm)'],\n",
              " 'filename': '/usr/local/lib/python3.6/dist-packages/sklearn/datasets/data/iris.csv',\n",
              " 'target': array([0, 0, 0, 0, 0, 0, 0, 0, 0, 0, 0, 0, 0, 0, 0, 0, 0, 0, 0, 0, 0, 0,\n",
              "        0, 0, 0, 0, 0, 0, 0, 0, 0, 0, 0, 0, 0, 0, 0, 0, 0, 0, 0, 0, 0, 0,\n",
              "        0, 0, 0, 0, 0, 0, 1, 1, 1, 1, 1, 1, 1, 1, 1, 1, 1, 1, 1, 1, 1, 1,\n",
              "        1, 1, 1, 1, 1, 1, 1, 1, 1, 1, 1, 1, 1, 1, 1, 1, 1, 1, 1, 1, 1, 1,\n",
              "        1, 1, 1, 1, 1, 1, 1, 1, 1, 1, 1, 1, 2, 2, 2, 2, 2, 2, 2, 2, 2, 2,\n",
              "        2, 2, 2, 2, 2, 2, 2, 2, 2, 2, 2, 2, 2, 2, 2, 2, 2, 2, 2, 2, 2, 2,\n",
              "        2, 2, 2, 2, 2, 2, 2, 2, 2, 2, 2, 2, 2, 2, 2, 2, 2, 2]),\n",
              " 'target_names': array(['setosa', 'versicolor', 'virginica'], dtype='<U10')}"
            ]
          },
          "metadata": {
            "tags": []
          },
          "execution_count": 4
        }
      ]
    },
    {
      "cell_type": "markdown",
      "metadata": {
        "id": "ta8YqInTh5v5",
        "colab_type": "text"
      },
      "source": [
        "## Question 2"
      ]
    },
    {
      "cell_type": "markdown",
      "metadata": {
        "id": "HERt3drbhX0i",
        "colab_type": "text"
      },
      "source": [
        "### Get features and label from the dataset in separate variable\n",
        "- you can get the features using .data method\n",
        "- you can get the features using .target method"
      ]
    },
    {
      "cell_type": "code",
      "metadata": {
        "id": "0cV-_qHAHyvE",
        "colab_type": "code",
        "colab": {}
      },
      "source": [
        "data = iris_df.data\n",
        "target= iris_df.target"
      ],
      "execution_count": 0,
      "outputs": []
    },
    {
      "cell_type": "markdown",
      "metadata": {
        "id": "Qg1A2lkUjFak",
        "colab_type": "text"
      },
      "source": [
        "## Question 3"
      ]
    },
    {
      "cell_type": "markdown",
      "metadata": {
        "colab_type": "text",
        "id": "3YErwYLCH0N_"
      },
      "source": [
        "### Create train and test data\n",
        "- use train_test_split to get train and test set\n",
        "- set a random_state\n",
        "- test_size: 0.25"
      ]
    },
    {
      "cell_type": "code",
      "metadata": {
        "id": "TYKNJL85h7pQ",
        "colab_type": "code",
        "colab": {}
      },
      "source": [
        "from sklearn.model_selection import train_test_split\n",
        "\n",
        "X_train, X_test, y_train, y_test = train_test_split(data, target, test_size= 0.25, random_state= 42)\n"
      ],
      "execution_count": 0,
      "outputs": []
    },
    {
      "cell_type": "markdown",
      "metadata": {
        "id": "g0KVP17Ozaix",
        "colab_type": "text"
      },
      "source": [
        "## Question 4"
      ]
    },
    {
      "cell_type": "markdown",
      "metadata": {
        "id": "SIjqxbhWv1zv",
        "colab_type": "text"
      },
      "source": [
        "### One-hot encode the labels\n",
        "- convert class vectors (integers) to binary class matrix\n",
        "- convert labels\n",
        "- number of classes: 3\n",
        "- we are doing this to use categorical_crossentropy as loss"
      ]
    },
    {
      "cell_type": "code",
      "metadata": {
        "colab_type": "code",
        "id": "R9vv-_gpyLY9",
        "colab": {
          "base_uri": "https://localhost:8080/",
          "height": 1000
        },
        "outputId": "51ba16c7-d58e-4cbd-fb96-fb3c6034c06e"
      },
      "source": [
        "from keras.utils import to_categorical\n",
        "\n",
        "y_train_binary = to_categorical(y_train, num_classes= 3,  dtype= 'int32')\n",
        "y_train_binary"
      ],
      "execution_count": 7,
      "outputs": [
        {
          "output_type": "stream",
          "text": [
            "Using TensorFlow backend.\n"
          ],
          "name": "stderr"
        },
        {
          "output_type": "execute_result",
          "data": {
            "text/plain": [
              "array([[1, 0, 0],\n",
              "       [1, 0, 0],\n",
              "       [0, 0, 1],\n",
              "       [0, 1, 0],\n",
              "       [0, 1, 0],\n",
              "       [1, 0, 0],\n",
              "       [1, 0, 0],\n",
              "       [0, 1, 0],\n",
              "       [0, 0, 1],\n",
              "       [0, 0, 1],\n",
              "       [0, 1, 0],\n",
              "       [0, 0, 1],\n",
              "       [0, 1, 0],\n",
              "       [0, 0, 1],\n",
              "       [0, 1, 0],\n",
              "       [1, 0, 0],\n",
              "       [0, 0, 1],\n",
              "       [0, 1, 0],\n",
              "       [1, 0, 0],\n",
              "       [1, 0, 0],\n",
              "       [1, 0, 0],\n",
              "       [0, 1, 0],\n",
              "       [0, 0, 1],\n",
              "       [1, 0, 0],\n",
              "       [1, 0, 0],\n",
              "       [1, 0, 0],\n",
              "       [0, 1, 0],\n",
              "       [1, 0, 0],\n",
              "       [0, 1, 0],\n",
              "       [0, 0, 1],\n",
              "       [1, 0, 0],\n",
              "       [0, 1, 0],\n",
              "       [0, 0, 1],\n",
              "       [1, 0, 0],\n",
              "       [0, 0, 1],\n",
              "       [0, 0, 1],\n",
              "       [0, 1, 0],\n",
              "       [0, 1, 0],\n",
              "       [0, 0, 1],\n",
              "       [0, 1, 0],\n",
              "       [1, 0, 0],\n",
              "       [0, 1, 0],\n",
              "       [0, 0, 1],\n",
              "       [1, 0, 0],\n",
              "       [1, 0, 0],\n",
              "       [0, 1, 0],\n",
              "       [0, 1, 0],\n",
              "       [1, 0, 0],\n",
              "       [0, 0, 1],\n",
              "       [1, 0, 0],\n",
              "       [1, 0, 0],\n",
              "       [0, 1, 0],\n",
              "       [0, 1, 0],\n",
              "       [0, 0, 1],\n",
              "       [0, 1, 0],\n",
              "       [0, 0, 1],\n",
              "       [0, 0, 1],\n",
              "       [0, 1, 0],\n",
              "       [1, 0, 0],\n",
              "       [1, 0, 0],\n",
              "       [0, 0, 1],\n",
              "       [0, 0, 1],\n",
              "       [1, 0, 0],\n",
              "       [1, 0, 0],\n",
              "       [1, 0, 0],\n",
              "       [0, 1, 0],\n",
              "       [0, 0, 1],\n",
              "       [1, 0, 0],\n",
              "       [0, 0, 1],\n",
              "       [0, 0, 1],\n",
              "       [1, 0, 0],\n",
              "       [0, 1, 0],\n",
              "       [0, 1, 0],\n",
              "       [0, 0, 1],\n",
              "       [0, 1, 0],\n",
              "       [0, 0, 1],\n",
              "       [1, 0, 0],\n",
              "       [0, 0, 1],\n",
              "       [0, 1, 0],\n",
              "       [0, 0, 1],\n",
              "       [0, 1, 0],\n",
              "       [0, 1, 0],\n",
              "       [0, 1, 0],\n",
              "       [1, 0, 0],\n",
              "       [0, 1, 0],\n",
              "       [0, 1, 0],\n",
              "       [1, 0, 0],\n",
              "       [0, 1, 0],\n",
              "       [0, 0, 1],\n",
              "       [0, 0, 1],\n",
              "       [1, 0, 0],\n",
              "       [0, 1, 0],\n",
              "       [0, 0, 1],\n",
              "       [0, 0, 1],\n",
              "       [1, 0, 0],\n",
              "       [0, 0, 1],\n",
              "       [1, 0, 0],\n",
              "       [0, 1, 0],\n",
              "       [0, 0, 1],\n",
              "       [0, 0, 1],\n",
              "       [0, 1, 0],\n",
              "       [0, 0, 1],\n",
              "       [0, 1, 0],\n",
              "       [0, 1, 0],\n",
              "       [0, 0, 1],\n",
              "       [0, 0, 1],\n",
              "       [1, 0, 0],\n",
              "       [0, 1, 0],\n",
              "       [0, 0, 1],\n",
              "       [1, 0, 0],\n",
              "       [0, 1, 0],\n",
              "       [0, 0, 1]], dtype=int32)"
            ]
          },
          "metadata": {
            "tags": []
          },
          "execution_count": 7
        }
      ]
    },
    {
      "cell_type": "code",
      "metadata": {
        "id": "WGBnP6tRk8Zg",
        "colab_type": "code",
        "colab": {
          "base_uri": "https://localhost:8080/",
          "height": 674
        },
        "outputId": "db135407-2427-4ce9-befd-b7b7e403494c"
      },
      "source": [
        "y_test_binary = to_categorical(y_test, num_classes= 3, dtype= 'int32')\n",
        "y_test_binary"
      ],
      "execution_count": 8,
      "outputs": [
        {
          "output_type": "execute_result",
          "data": {
            "text/plain": [
              "array([[0, 1, 0],\n",
              "       [1, 0, 0],\n",
              "       [0, 0, 1],\n",
              "       [0, 1, 0],\n",
              "       [0, 1, 0],\n",
              "       [1, 0, 0],\n",
              "       [0, 1, 0],\n",
              "       [0, 0, 1],\n",
              "       [0, 1, 0],\n",
              "       [0, 1, 0],\n",
              "       [0, 0, 1],\n",
              "       [1, 0, 0],\n",
              "       [1, 0, 0],\n",
              "       [1, 0, 0],\n",
              "       [1, 0, 0],\n",
              "       [0, 1, 0],\n",
              "       [0, 0, 1],\n",
              "       [0, 1, 0],\n",
              "       [0, 1, 0],\n",
              "       [0, 0, 1],\n",
              "       [1, 0, 0],\n",
              "       [0, 0, 1],\n",
              "       [1, 0, 0],\n",
              "       [0, 0, 1],\n",
              "       [0, 0, 1],\n",
              "       [0, 0, 1],\n",
              "       [0, 0, 1],\n",
              "       [0, 0, 1],\n",
              "       [1, 0, 0],\n",
              "       [1, 0, 0],\n",
              "       [1, 0, 0],\n",
              "       [1, 0, 0],\n",
              "       [0, 1, 0],\n",
              "       [1, 0, 0],\n",
              "       [1, 0, 0],\n",
              "       [0, 0, 1],\n",
              "       [0, 1, 0],\n",
              "       [1, 0, 0]], dtype=int32)"
            ]
          },
          "metadata": {
            "tags": []
          },
          "execution_count": 8
        }
      ]
    },
    {
      "cell_type": "code",
      "metadata": {
        "id": "1rlR0hfApkDY",
        "colab_type": "code",
        "colab": {
          "base_uri": "https://localhost:8080/",
          "height": 52
        },
        "outputId": "1ef87e19-4715-4565-de0f-e0ea09fb28e0"
      },
      "source": [
        "print(y_test_binary.shape)\n",
        "print(y_train_binary.shape)"
      ],
      "execution_count": 9,
      "outputs": [
        {
          "output_type": "stream",
          "text": [
            "(38, 3)\n",
            "(112, 3)\n"
          ],
          "name": "stdout"
        }
      ]
    },
    {
      "cell_type": "markdown",
      "metadata": {
        "colab_type": "text",
        "id": "ovjLyYzWkO9s"
      },
      "source": [
        "## Question 5"
      ]
    },
    {
      "cell_type": "markdown",
      "metadata": {
        "id": "hbIFzoPNSyYo",
        "colab_type": "text"
      },
      "source": [
        "### Initialize a sequential model\n",
        "- Define a sequential model"
      ]
    },
    {
      "cell_type": "code",
      "metadata": {
        "id": "4FvSbf1UjHtl",
        "colab_type": "code",
        "colab": {}
      },
      "source": [
        "from tensorflow.keras import layers\n",
        "\n",
        "model = tf.keras.Sequential()"
      ],
      "execution_count": 0,
      "outputs": []
    },
    {
      "cell_type": "markdown",
      "metadata": {
        "colab_type": "text",
        "id": "dGMy999vlacX"
      },
      "source": [
        "## Question 6"
      ]
    },
    {
      "cell_type": "markdown",
      "metadata": {
        "id": "72ibK5Jxm8iL",
        "colab_type": "text"
      },
      "source": [
        "### Add a layer\n",
        "- Use Dense Layer  with input shape of 4 (according to the feature set) and number of outputs set to 3\n",
        "- Apply Softmax on Dense Layer outputs"
      ]
    },
    {
      "cell_type": "code",
      "metadata": {
        "id": "uZKrBNSRm_o9",
        "colab_type": "code",
        "colab": {}
      },
      "source": [
        "from tensorflow.python.keras.layers import Input, Dense\n",
        "# input layer \n",
        "model.add(Dense(12, activation='relu', input_shape=(4,)))\n",
        "\n",
        "# hidden layer \n",
        "model.add(Dense(12, activation='relu'))\n",
        "\n",
        "# output layer \n",
        "model.add(Dense(3, activation='softmax'))"
      ],
      "execution_count": 0,
      "outputs": []
    },
    {
      "cell_type": "markdown",
      "metadata": {
        "id": "i4uiTH8plmNX",
        "colab_type": "text"
      },
      "source": [
        "## Question 7"
      ]
    },
    {
      "cell_type": "markdown",
      "metadata": {
        "id": "yJL8n8vcSyYz",
        "colab_type": "text"
      },
      "source": [
        "### Compile the model\n",
        "- Use SGD as Optimizer\n",
        "- Use categorical_crossentropy as loss function\n",
        "- Use accuracy as metrics"
      ]
    },
    {
      "cell_type": "code",
      "metadata": {
        "id": "Tc_-fjIEk1ve",
        "colab_type": "code",
        "colab": {}
      },
      "source": [
        "model.compile(loss='categorical_crossentropy',\n",
        "              optimizer='SGD',\n",
        "              metrics=['accuracy'])"
      ],
      "execution_count": 0,
      "outputs": []
    },
    {
      "cell_type": "markdown",
      "metadata": {
        "colab_type": "text",
        "id": "sihIGbRll_jT"
      },
      "source": [
        "## Question 8"
      ]
    },
    {
      "cell_type": "markdown",
      "metadata": {
        "id": "54ZZCfNGlu0i",
        "colab_type": "text"
      },
      "source": [
        "### Summarize the model\n",
        "- Check model layers\n",
        "- Understand number of trainable parameters"
      ]
    },
    {
      "cell_type": "code",
      "metadata": {
        "id": "elER3F_4ln8n",
        "colab_type": "code",
        "colab": {
          "base_uri": "https://localhost:8080/",
          "height": 259
        },
        "outputId": "e8561202-005d-497f-ebdb-af2e7765a3ee"
      },
      "source": [
        "model.summary()"
      ],
      "execution_count": 13,
      "outputs": [
        {
          "output_type": "stream",
          "text": [
            "Model: \"sequential\"\n",
            "_________________________________________________________________\n",
            "Layer (type)                 Output Shape              Param #   \n",
            "=================================================================\n",
            "dense (Dense)                (None, 12)                60        \n",
            "_________________________________________________________________\n",
            "dense_1 (Dense)              (None, 12)                156       \n",
            "_________________________________________________________________\n",
            "dense_2 (Dense)              (None, 3)                 39        \n",
            "=================================================================\n",
            "Total params: 255\n",
            "Trainable params: 255\n",
            "Non-trainable params: 0\n",
            "_________________________________________________________________\n"
          ],
          "name": "stdout"
        }
      ]
    },
    {
      "cell_type": "code",
      "metadata": {
        "id": "onQoqdz2qYaW",
        "colab_type": "code",
        "colab": {
          "base_uri": "https://localhost:8080/",
          "height": 1000
        },
        "outputId": "2f83eb75-de51-463e-9043-15b4668b7f7b"
      },
      "source": [
        "model.layers\n",
        "model.trainable_variables"
      ],
      "execution_count": 14,
      "outputs": [
        {
          "output_type": "execute_result",
          "data": {
            "text/plain": [
              "[<tf.Variable 'dense/kernel:0' shape=(4, 12) dtype=float32, numpy=\n",
              " array([[ 0.20154661, -0.07225162, -0.18018141, -0.04349983, -0.571147  ,\n",
              "          0.2261765 ,  0.29408258,  0.45614952, -0.3351804 , -0.33901322,\n",
              "         -0.23222622,  0.27230465],\n",
              "        [-0.44925213,  0.05886596,  0.09137678,  0.48951036, -0.60078186,\n",
              "          0.02600217,  0.1647827 , -0.36824614,  0.28098398,  0.05613559,\n",
              "         -0.48063213,  0.21641988],\n",
              "        [ 0.19629759, -0.19969416,  0.12421077, -0.3544096 ,  0.4320131 ,\n",
              "         -0.07272321,  0.54933184, -0.32146376,  0.38186687,  0.03225905,\n",
              "         -0.00697124, -0.34767023],\n",
              "        [ 0.42341846,  0.4554631 , -0.23467803,  0.228787  , -0.3213236 ,\n",
              "          0.34503853,  0.5721254 , -0.5282305 ,  0.3658796 ,  0.19631088,\n",
              "          0.10673809, -0.41075867]], dtype=float32)>,\n",
              " <tf.Variable 'dense/bias:0' shape=(12,) dtype=float32, numpy=array([0., 0., 0., 0., 0., 0., 0., 0., 0., 0., 0., 0.], dtype=float32)>,\n",
              " <tf.Variable 'dense_1/kernel:0' shape=(12, 12) dtype=float32, numpy=\n",
              " array([[ 0.18789124, -0.01552117,  0.4309944 , -0.24781299,  0.23115396,\n",
              "          0.39256823,  0.44674826,  0.2493341 , -0.15074372,  0.04718256,\n",
              "         -0.23839605,  0.19734323],\n",
              "        [-0.3803742 ,  0.03484344,  0.2148968 ,  0.37501776, -0.16032505,\n",
              "         -0.32622373, -0.05814791,  0.4008261 , -0.36196136, -0.37782025,\n",
              "          0.07544911,  0.4417181 ],\n",
              "        [ 0.4186585 ,  0.09708476,  0.1109482 ,  0.32086265,  0.33269787,\n",
              "          0.39158487, -0.48622775, -0.00192535,  0.07503664,  0.18561947,\n",
              "          0.25972784,  0.408944  ],\n",
              "        [-0.09099782,  0.3765154 ,  0.03890026, -0.07266903, -0.098827  ,\n",
              "          0.16623247, -0.33651936, -0.31779754,  0.47040176, -0.4386027 ,\n",
              "          0.03034747,  0.4869994 ],\n",
              "        [-0.02530551,  0.3646754 , -0.29698932, -0.38551545, -0.14899755,\n",
              "          0.18227184, -0.3189113 ,  0.31634808,  0.15651655,  0.4258256 ,\n",
              "         -0.2608285 ,  0.33659577],\n",
              "        [-0.45234728,  0.30071568,  0.32992673, -0.35671628,  0.36168778,\n",
              "          0.47072017,  0.17795932,  0.06412423,  0.12537003,  0.3653159 ,\n",
              "         -0.33895433, -0.38898635],\n",
              "        [ 0.11647224,  0.10355604,  0.13038683,  0.02130079,  0.3186623 ,\n",
              "         -0.29430032, -0.3095821 , -0.35351312, -0.35080397,  0.35948157,\n",
              "          0.4167328 ,  0.00449538],\n",
              "        [ 0.36566842,  0.20333743,  0.0343715 , -0.14906967,  0.13313484,\n",
              "          0.34159875, -0.06539559, -0.20341218,  0.34906697, -0.29443836,\n",
              "         -0.10977352,  0.09091997],\n",
              "        [ 0.3787719 ,  0.21972668, -0.40052783,  0.44807518, -0.05372751,\n",
              "         -0.163908  , -0.05312932,  0.28979182,  0.11746264,  0.04826057,\n",
              "          0.43602526, -0.3010646 ],\n",
              "        [ 0.3555646 , -0.2027992 , -0.37019026,  0.0903213 , -0.4277315 ,\n",
              "          0.2990017 , -0.12581158,  0.30043972, -0.42564547, -0.03165579,\n",
              "         -0.10232961, -0.06346071],\n",
              "        [-0.2604648 ,  0.22494638, -0.0633558 ,  0.04280841,  0.45014942,\n",
              "          0.01135266,  0.44957352, -0.3941604 ,  0.2803346 ,  0.43132937,\n",
              "          0.4163221 ,  0.24123394],\n",
              "        [-0.16721845,  0.3980862 , -0.15752494,  0.07605577,  0.49488902,\n",
              "          0.13498044,  0.40795994,  0.1835562 , -0.15810394, -0.12993038,\n",
              "         -0.11650598,  0.461771  ]], dtype=float32)>,\n",
              " <tf.Variable 'dense_1/bias:0' shape=(12,) dtype=float32, numpy=array([0., 0., 0., 0., 0., 0., 0., 0., 0., 0., 0., 0.], dtype=float32)>,\n",
              " <tf.Variable 'dense_2/kernel:0' shape=(12, 3) dtype=float32, numpy=\n",
              " array([[ 0.30530882,  0.16259956, -0.61046547],\n",
              "        [-0.19840777,  0.01345569, -0.15463021],\n",
              "        [-0.53984386, -0.605424  , -0.26920205],\n",
              "        [-0.03660452,  0.24490464, -0.53984714],\n",
              "        [ 0.5470893 , -0.36880946,  0.2543208 ],\n",
              "        [-0.05241293,  0.45489508,  0.5430811 ],\n",
              "        [-0.37578088,  0.33982474,  0.12669379],\n",
              "        [-0.29042685,  0.48295075, -0.5645926 ],\n",
              "        [-0.09772116,  0.4937932 ,  0.365184  ],\n",
              "        [-0.50386995, -0.38695103, -0.2795869 ],\n",
              "        [-0.13265586, -0.477691  , -0.14657325],\n",
              "        [ 0.5635553 ,  0.34904808,  0.56215614]], dtype=float32)>,\n",
              " <tf.Variable 'dense_2/bias:0' shape=(3,) dtype=float32, numpy=array([0., 0., 0.], dtype=float32)>]"
            ]
          },
          "metadata": {
            "tags": []
          },
          "execution_count": 14
        }
      ]
    },
    {
      "cell_type": "markdown",
      "metadata": {
        "colab_type": "text",
        "id": "2PiP7j3Vmj4p"
      },
      "source": [
        "## Question 9"
      ]
    },
    {
      "cell_type": "markdown",
      "metadata": {
        "id": "rWdbfFCXmCHt",
        "colab_type": "text"
      },
      "source": [
        "### Fit the model\n",
        "- Give train data as training features and labels\n",
        "- Epochs: 100\n",
        "- Give validation data as testing features and labels"
      ]
    },
    {
      "cell_type": "code",
      "metadata": {
        "id": "cO1c-5tjmBVZ",
        "colab_type": "code",
        "colab": {
          "base_uri": "https://localhost:8080/",
          "height": 1000
        },
        "outputId": "6b22ac08-c799-4b49-d0dc-635f2592d5f3"
      },
      "source": [
        "# Train neural network\n",
        "model.fit(X_train, y_train_binary,epochs=100, verbose=1, batch_size=1,   validation_data=(X_test, y_test_binary))\n"
      ],
      "execution_count": 15,
      "outputs": [
        {
          "output_type": "stream",
          "text": [
            "Train on 112 samples, validate on 38 samples\n",
            "Epoch 1/100\n",
            "112/112 [==============================] - 0s 4ms/sample - loss: 0.8710 - accuracy: 0.5714 - val_loss: 0.5794 - val_accuracy: 0.7105\n",
            "Epoch 2/100\n",
            "112/112 [==============================] - 0s 2ms/sample - loss: 0.5662 - accuracy: 0.7143 - val_loss: 0.4570 - val_accuracy: 0.7105\n",
            "Epoch 3/100\n",
            "112/112 [==============================] - 0s 2ms/sample - loss: 0.4688 - accuracy: 0.7679 - val_loss: 0.4122 - val_accuracy: 0.7105\n",
            "Epoch 4/100\n",
            "112/112 [==============================] - 0s 2ms/sample - loss: 0.4089 - accuracy: 0.8125 - val_loss: 0.2888 - val_accuracy: 1.0000\n",
            "Epoch 5/100\n",
            "112/112 [==============================] - 0s 2ms/sample - loss: 0.3295 - accuracy: 0.8482 - val_loss: 0.3640 - val_accuracy: 0.7368\n",
            "Epoch 6/100\n",
            "112/112 [==============================] - 0s 2ms/sample - loss: 0.3333 - accuracy: 0.8571 - val_loss: 0.2008 - val_accuracy: 1.0000\n",
            "Epoch 7/100\n",
            "112/112 [==============================] - 0s 2ms/sample - loss: 0.3156 - accuracy: 0.8661 - val_loss: 0.1709 - val_accuracy: 1.0000\n",
            "Epoch 8/100\n",
            "112/112 [==============================] - 0s 2ms/sample - loss: 0.2791 - accuracy: 0.8839 - val_loss: 0.1834 - val_accuracy: 0.8947\n",
            "Epoch 9/100\n",
            "112/112 [==============================] - 0s 2ms/sample - loss: 0.2460 - accuracy: 0.8839 - val_loss: 0.3346 - val_accuracy: 0.8158\n",
            "Epoch 10/100\n",
            "112/112 [==============================] - 0s 2ms/sample - loss: 0.2945 - accuracy: 0.8571 - val_loss: 0.1347 - val_accuracy: 0.9737\n",
            "Epoch 11/100\n",
            "112/112 [==============================] - 0s 2ms/sample - loss: 0.2622 - accuracy: 0.8929 - val_loss: 0.1616 - val_accuracy: 0.9211\n",
            "Epoch 12/100\n",
            "112/112 [==============================] - 0s 2ms/sample - loss: 0.2145 - accuracy: 0.9286 - val_loss: 0.1212 - val_accuracy: 1.0000\n",
            "Epoch 13/100\n",
            "112/112 [==============================] - 0s 2ms/sample - loss: 0.2391 - accuracy: 0.9196 - val_loss: 0.1267 - val_accuracy: 0.9211\n",
            "Epoch 14/100\n",
            "112/112 [==============================] - 0s 2ms/sample - loss: 0.2303 - accuracy: 0.9107 - val_loss: 0.1001 - val_accuracy: 1.0000\n",
            "Epoch 15/100\n",
            "112/112 [==============================] - 0s 2ms/sample - loss: 0.2154 - accuracy: 0.9464 - val_loss: 0.1163 - val_accuracy: 0.9474\n",
            "Epoch 16/100\n",
            "112/112 [==============================] - 0s 2ms/sample - loss: 0.2379 - accuracy: 0.8929 - val_loss: 0.1127 - val_accuracy: 0.9737\n",
            "Epoch 17/100\n",
            "112/112 [==============================] - 0s 2ms/sample - loss: 0.1983 - accuracy: 0.9286 - val_loss: 0.2144 - val_accuracy: 0.8684\n",
            "Epoch 18/100\n",
            "112/112 [==============================] - 0s 2ms/sample - loss: 0.1619 - accuracy: 0.9286 - val_loss: 0.0784 - val_accuracy: 0.9737\n",
            "Epoch 19/100\n",
            "112/112 [==============================] - 0s 2ms/sample - loss: 0.1966 - accuracy: 0.9286 - val_loss: 0.1335 - val_accuracy: 0.8947\n",
            "Epoch 20/100\n",
            "112/112 [==============================] - 0s 2ms/sample - loss: 0.1812 - accuracy: 0.9554 - val_loss: 0.1224 - val_accuracy: 0.9474\n",
            "Epoch 21/100\n",
            "112/112 [==============================] - 0s 2ms/sample - loss: 0.1855 - accuracy: 0.9286 - val_loss: 0.1656 - val_accuracy: 0.8947\n",
            "Epoch 22/100\n",
            "112/112 [==============================] - 0s 2ms/sample - loss: 0.1969 - accuracy: 0.9286 - val_loss: 0.0761 - val_accuracy: 1.0000\n",
            "Epoch 23/100\n",
            "112/112 [==============================] - 0s 2ms/sample - loss: 0.1666 - accuracy: 0.9286 - val_loss: 0.1214 - val_accuracy: 0.9474\n",
            "Epoch 24/100\n",
            "112/112 [==============================] - 0s 2ms/sample - loss: 0.1762 - accuracy: 0.9464 - val_loss: 0.1581 - val_accuracy: 0.9211\n",
            "Epoch 25/100\n",
            "112/112 [==============================] - 0s 2ms/sample - loss: 0.1543 - accuracy: 0.9554 - val_loss: 0.0660 - val_accuracy: 0.9737\n",
            "Epoch 26/100\n",
            "112/112 [==============================] - 0s 2ms/sample - loss: 0.1784 - accuracy: 0.9375 - val_loss: 0.0642 - val_accuracy: 0.9737\n",
            "Epoch 27/100\n",
            "112/112 [==============================] - 0s 2ms/sample - loss: 0.1444 - accuracy: 0.9464 - val_loss: 0.1043 - val_accuracy: 0.9211\n",
            "Epoch 28/100\n",
            "112/112 [==============================] - 0s 2ms/sample - loss: 0.1804 - accuracy: 0.9375 - val_loss: 0.0775 - val_accuracy: 1.0000\n",
            "Epoch 29/100\n",
            "112/112 [==============================] - 0s 2ms/sample - loss: 0.1485 - accuracy: 0.9554 - val_loss: 0.0667 - val_accuracy: 1.0000\n",
            "Epoch 30/100\n",
            "112/112 [==============================] - 0s 2ms/sample - loss: 0.1496 - accuracy: 0.9375 - val_loss: 0.0649 - val_accuracy: 0.9737\n",
            "Epoch 31/100\n",
            "112/112 [==============================] - 0s 2ms/sample - loss: 0.1816 - accuracy: 0.9286 - val_loss: 0.0853 - val_accuracy: 1.0000\n",
            "Epoch 32/100\n",
            "112/112 [==============================] - 0s 2ms/sample - loss: 0.1595 - accuracy: 0.9464 - val_loss: 0.1001 - val_accuracy: 0.9211\n",
            "Epoch 33/100\n",
            "112/112 [==============================] - 0s 2ms/sample - loss: 0.2052 - accuracy: 0.9018 - val_loss: 0.1467 - val_accuracy: 0.9211\n",
            "Epoch 34/100\n",
            "112/112 [==============================] - 0s 2ms/sample - loss: 0.1207 - accuracy: 0.9732 - val_loss: 0.0612 - val_accuracy: 0.9737\n",
            "Epoch 35/100\n",
            "112/112 [==============================] - 0s 2ms/sample - loss: 0.1965 - accuracy: 0.9196 - val_loss: 0.1037 - val_accuracy: 0.9211\n",
            "Epoch 36/100\n",
            "112/112 [==============================] - 0s 2ms/sample - loss: 0.1733 - accuracy: 0.9196 - val_loss: 0.2982 - val_accuracy: 0.8684\n",
            "Epoch 37/100\n",
            "112/112 [==============================] - 0s 2ms/sample - loss: 0.1801 - accuracy: 0.9286 - val_loss: 0.0684 - val_accuracy: 1.0000\n",
            "Epoch 38/100\n",
            "112/112 [==============================] - 0s 2ms/sample - loss: 0.1512 - accuracy: 0.9464 - val_loss: 0.2169 - val_accuracy: 0.8947\n",
            "Epoch 39/100\n",
            "112/112 [==============================] - 0s 2ms/sample - loss: 0.1238 - accuracy: 0.9643 - val_loss: 0.1089 - val_accuracy: 0.9211\n",
            "Epoch 40/100\n",
            "112/112 [==============================] - 0s 2ms/sample - loss: 0.0998 - accuracy: 0.9554 - val_loss: 0.2697 - val_accuracy: 0.8421\n",
            "Epoch 41/100\n",
            "112/112 [==============================] - 0s 2ms/sample - loss: 0.1567 - accuracy: 0.9464 - val_loss: 0.0778 - val_accuracy: 1.0000\n",
            "Epoch 42/100\n",
            "112/112 [==============================] - 0s 2ms/sample - loss: 0.1299 - accuracy: 0.9643 - val_loss: 0.1872 - val_accuracy: 0.8947\n",
            "Epoch 43/100\n",
            "112/112 [==============================] - 0s 2ms/sample - loss: 0.1312 - accuracy: 0.9464 - val_loss: 0.0563 - val_accuracy: 0.9737\n",
            "Epoch 44/100\n",
            "112/112 [==============================] - 0s 2ms/sample - loss: 0.1313 - accuracy: 0.9643 - val_loss: 0.1240 - val_accuracy: 0.9474\n",
            "Epoch 45/100\n",
            "112/112 [==============================] - 0s 2ms/sample - loss: 0.1407 - accuracy: 0.9464 - val_loss: 0.1090 - val_accuracy: 0.9737\n",
            "Epoch 46/100\n",
            "112/112 [==============================] - 0s 2ms/sample - loss: 0.1262 - accuracy: 0.9643 - val_loss: 0.0865 - val_accuracy: 0.9211\n",
            "Epoch 47/100\n",
            "112/112 [==============================] - 0s 2ms/sample - loss: 0.1388 - accuracy: 0.9464 - val_loss: 0.1097 - val_accuracy: 0.9737\n",
            "Epoch 48/100\n",
            "112/112 [==============================] - 0s 2ms/sample - loss: 0.1316 - accuracy: 0.9286 - val_loss: 0.0540 - val_accuracy: 0.9737\n",
            "Epoch 49/100\n",
            "112/112 [==============================] - 0s 2ms/sample - loss: 0.1412 - accuracy: 0.9464 - val_loss: 0.0632 - val_accuracy: 1.0000\n",
            "Epoch 50/100\n",
            "112/112 [==============================] - 0s 2ms/sample - loss: 0.1444 - accuracy: 0.9643 - val_loss: 0.1025 - val_accuracy: 0.9737\n",
            "Epoch 51/100\n",
            "112/112 [==============================] - 0s 2ms/sample - loss: 0.1299 - accuracy: 0.9554 - val_loss: 0.0747 - val_accuracy: 1.0000\n",
            "Epoch 52/100\n",
            "112/112 [==============================] - 0s 2ms/sample - loss: 0.1310 - accuracy: 0.9464 - val_loss: 0.0543 - val_accuracy: 0.9737\n",
            "Epoch 53/100\n",
            "112/112 [==============================] - 0s 2ms/sample - loss: 0.1267 - accuracy: 0.9375 - val_loss: 0.5498 - val_accuracy: 0.8421\n",
            "Epoch 54/100\n",
            "112/112 [==============================] - 0s 2ms/sample - loss: 0.1553 - accuracy: 0.9375 - val_loss: 0.7497 - val_accuracy: 0.8421\n",
            "Epoch 55/100\n",
            "112/112 [==============================] - 0s 2ms/sample - loss: 0.1609 - accuracy: 0.9286 - val_loss: 0.1726 - val_accuracy: 0.8947\n",
            "Epoch 56/100\n",
            "112/112 [==============================] - 0s 2ms/sample - loss: 0.0902 - accuracy: 0.9643 - val_loss: 0.1140 - val_accuracy: 0.9737\n",
            "Epoch 57/100\n",
            "112/112 [==============================] - 0s 2ms/sample - loss: 0.1212 - accuracy: 0.9554 - val_loss: 0.0556 - val_accuracy: 0.9737\n",
            "Epoch 58/100\n",
            "112/112 [==============================] - 0s 2ms/sample - loss: 0.1678 - accuracy: 0.9464 - val_loss: 0.1884 - val_accuracy: 0.8947\n",
            "Epoch 59/100\n",
            "112/112 [==============================] - 0s 2ms/sample - loss: 0.1349 - accuracy: 0.9464 - val_loss: 0.2164 - val_accuracy: 0.8947\n",
            "Epoch 60/100\n",
            "112/112 [==============================] - 0s 2ms/sample - loss: 0.1183 - accuracy: 0.9643 - val_loss: 0.1694 - val_accuracy: 0.8947\n",
            "Epoch 61/100\n",
            "112/112 [==============================] - 0s 2ms/sample - loss: 0.1599 - accuracy: 0.9375 - val_loss: 0.0934 - val_accuracy: 0.9737\n",
            "Epoch 62/100\n",
            "112/112 [==============================] - 0s 2ms/sample - loss: 0.1651 - accuracy: 0.9286 - val_loss: 0.0594 - val_accuracy: 0.9737\n",
            "Epoch 63/100\n",
            "112/112 [==============================] - 0s 2ms/sample - loss: 0.1312 - accuracy: 0.9286 - val_loss: 0.0571 - val_accuracy: 0.9737\n",
            "Epoch 64/100\n",
            "112/112 [==============================] - 0s 2ms/sample - loss: 0.1028 - accuracy: 0.9554 - val_loss: 0.1686 - val_accuracy: 0.8947\n",
            "Epoch 65/100\n",
            "112/112 [==============================] - 0s 2ms/sample - loss: 0.1347 - accuracy: 0.9643 - val_loss: 0.1128 - val_accuracy: 0.9211\n",
            "Epoch 66/100\n",
            "112/112 [==============================] - 0s 2ms/sample - loss: 0.0960 - accuracy: 0.9554 - val_loss: 0.0975 - val_accuracy: 0.9737\n",
            "Epoch 67/100\n",
            "112/112 [==============================] - 0s 2ms/sample - loss: 0.1024 - accuracy: 0.9643 - val_loss: 0.3822 - val_accuracy: 0.8684\n",
            "Epoch 68/100\n",
            "112/112 [==============================] - 0s 2ms/sample - loss: 0.1402 - accuracy: 0.9554 - val_loss: 0.0596 - val_accuracy: 0.9737\n",
            "Epoch 69/100\n",
            "112/112 [==============================] - 0s 2ms/sample - loss: 0.1179 - accuracy: 0.9643 - val_loss: 0.3110 - val_accuracy: 0.8947\n",
            "Epoch 70/100\n",
            "112/112 [==============================] - 0s 2ms/sample - loss: 0.1357 - accuracy: 0.9375 - val_loss: 0.1035 - val_accuracy: 0.9211\n",
            "Epoch 71/100\n",
            "112/112 [==============================] - 0s 2ms/sample - loss: 0.0985 - accuracy: 0.9554 - val_loss: 0.0644 - val_accuracy: 1.0000\n",
            "Epoch 72/100\n",
            "112/112 [==============================] - 0s 2ms/sample - loss: 0.1253 - accuracy: 0.9643 - val_loss: 0.0553 - val_accuracy: 0.9737\n",
            "Epoch 73/100\n",
            "112/112 [==============================] - 0s 2ms/sample - loss: 0.1444 - accuracy: 0.9554 - val_loss: 0.1298 - val_accuracy: 0.9211\n",
            "Epoch 74/100\n",
            "112/112 [==============================] - 0s 2ms/sample - loss: 0.1167 - accuracy: 0.9643 - val_loss: 0.0593 - val_accuracy: 0.9737\n",
            "Epoch 75/100\n",
            "112/112 [==============================] - 0s 2ms/sample - loss: 0.1200 - accuracy: 0.9643 - val_loss: 0.0567 - val_accuracy: 0.9737\n",
            "Epoch 76/100\n",
            "112/112 [==============================] - 0s 2ms/sample - loss: 0.1118 - accuracy: 0.9554 - val_loss: 0.0530 - val_accuracy: 0.9737\n",
            "Epoch 77/100\n",
            "112/112 [==============================] - 0s 2ms/sample - loss: 0.1176 - accuracy: 0.9643 - val_loss: 0.0658 - val_accuracy: 1.0000\n",
            "Epoch 78/100\n",
            "112/112 [==============================] - 0s 2ms/sample - loss: 0.1345 - accuracy: 0.9643 - val_loss: 0.0602 - val_accuracy: 1.0000\n",
            "Epoch 79/100\n",
            "112/112 [==============================] - 0s 2ms/sample - loss: 0.1149 - accuracy: 0.9464 - val_loss: 0.1930 - val_accuracy: 0.8947\n",
            "Epoch 80/100\n",
            "112/112 [==============================] - 0s 2ms/sample - loss: 0.0923 - accuracy: 0.9643 - val_loss: 0.2117 - val_accuracy: 0.8947\n",
            "Epoch 81/100\n",
            "112/112 [==============================] - 0s 2ms/sample - loss: 0.1121 - accuracy: 0.9554 - val_loss: 0.0860 - val_accuracy: 0.9737\n",
            "Epoch 82/100\n",
            "112/112 [==============================] - 0s 2ms/sample - loss: 0.1267 - accuracy: 0.9464 - val_loss: 0.0551 - val_accuracy: 0.9737\n",
            "Epoch 83/100\n",
            "112/112 [==============================] - 0s 2ms/sample - loss: 0.1212 - accuracy: 0.9375 - val_loss: 0.1138 - val_accuracy: 0.9211\n",
            "Epoch 84/100\n",
            "112/112 [==============================] - 0s 2ms/sample - loss: 0.1104 - accuracy: 0.9643 - val_loss: 0.0520 - val_accuracy: 0.9737\n",
            "Epoch 85/100\n",
            "112/112 [==============================] - 0s 2ms/sample - loss: 0.1104 - accuracy: 0.9554 - val_loss: 0.0666 - val_accuracy: 0.9737\n",
            "Epoch 86/100\n",
            "112/112 [==============================] - 0s 2ms/sample - loss: 0.1188 - accuracy: 0.9643 - val_loss: 0.0557 - val_accuracy: 0.9737\n",
            "Epoch 87/100\n",
            "112/112 [==============================] - 0s 2ms/sample - loss: 0.1006 - accuracy: 0.9554 - val_loss: 0.1582 - val_accuracy: 0.8947\n",
            "Epoch 88/100\n",
            "112/112 [==============================] - 0s 2ms/sample - loss: 0.1384 - accuracy: 0.9375 - val_loss: 0.0565 - val_accuracy: 1.0000\n",
            "Epoch 89/100\n",
            "112/112 [==============================] - 0s 2ms/sample - loss: 0.1223 - accuracy: 0.9554 - val_loss: 0.0496 - val_accuracy: 0.9737\n",
            "Epoch 90/100\n",
            "112/112 [==============================] - 0s 2ms/sample - loss: 0.1101 - accuracy: 0.9643 - val_loss: 0.0772 - val_accuracy: 0.9737\n",
            "Epoch 91/100\n",
            "112/112 [==============================] - 0s 2ms/sample - loss: 0.1364 - accuracy: 0.9554 - val_loss: 0.2608 - val_accuracy: 0.8947\n",
            "Epoch 92/100\n",
            "112/112 [==============================] - 0s 2ms/sample - loss: 0.1284 - accuracy: 0.9643 - val_loss: 0.0533 - val_accuracy: 0.9737\n",
            "Epoch 93/100\n",
            "112/112 [==============================] - 0s 2ms/sample - loss: 0.1109 - accuracy: 0.9554 - val_loss: 0.0516 - val_accuracy: 0.9737\n",
            "Epoch 94/100\n",
            "112/112 [==============================] - 0s 2ms/sample - loss: 0.1125 - accuracy: 0.9464 - val_loss: 0.0882 - val_accuracy: 0.9737\n",
            "Epoch 95/100\n",
            "112/112 [==============================] - 0s 2ms/sample - loss: 0.1003 - accuracy: 0.9554 - val_loss: 0.0792 - val_accuracy: 0.9737\n",
            "Epoch 96/100\n",
            "112/112 [==============================] - 0s 2ms/sample - loss: 0.1255 - accuracy: 0.9643 - val_loss: 0.0555 - val_accuracy: 1.0000\n",
            "Epoch 97/100\n",
            "112/112 [==============================] - 0s 2ms/sample - loss: 0.1164 - accuracy: 0.9554 - val_loss: 0.0530 - val_accuracy: 0.9737\n",
            "Epoch 98/100\n",
            "112/112 [==============================] - 0s 2ms/sample - loss: 0.1037 - accuracy: 0.9643 - val_loss: 0.0515 - val_accuracy: 0.9737\n",
            "Epoch 99/100\n",
            "112/112 [==============================] - 0s 2ms/sample - loss: 0.0970 - accuracy: 0.9732 - val_loss: 0.0549 - val_accuracy: 1.0000\n",
            "Epoch 100/100\n",
            "112/112 [==============================] - 0s 2ms/sample - loss: 0.0890 - accuracy: 0.9821 - val_loss: 0.0491 - val_accuracy: 0.9737\n"
          ],
          "name": "stdout"
        },
        {
          "output_type": "execute_result",
          "data": {
            "text/plain": [
              "<tensorflow.python.keras.callbacks.History at 0x7f18c33bcf60>"
            ]
          },
          "metadata": {
            "tags": []
          },
          "execution_count": 15
        }
      ]
    },
    {
      "cell_type": "markdown",
      "metadata": {
        "id": "re9ItAR3yS3J",
        "colab_type": "text"
      },
      "source": [
        "## Question 10"
      ]
    },
    {
      "cell_type": "markdown",
      "metadata": {
        "id": "liw0IFf9yVqH",
        "colab_type": "text"
      },
      "source": [
        "### Make predictions\n",
        "- Predict labels on one row"
      ]
    },
    {
      "cell_type": "code",
      "metadata": {
        "id": "H5sBybi6mlLl",
        "colab_type": "code",
        "colab": {
          "base_uri": "https://localhost:8080/",
          "height": 52
        },
        "outputId": "e282d6f9-f437-463f-a01d-d421a04c2662"
      },
      "source": [
        "score=model.evaluate(X_test, y_test_binary)\n",
        "score"
      ],
      "execution_count": 16,
      "outputs": [
        {
          "output_type": "stream",
          "text": [
            "38/38 [==============================] - 0s 2ms/sample - loss: 0.0491 - accuracy: 0.9737\n"
          ],
          "name": "stdout"
        },
        {
          "output_type": "execute_result",
          "data": {
            "text/plain": [
              "[0.04908430370453157, 0.9736842]"
            ]
          },
          "metadata": {
            "tags": []
          },
          "execution_count": 16
        }
      ]
    },
    {
      "cell_type": "markdown",
      "metadata": {
        "id": "hSUgMq3m0bG7",
        "colab_type": "text"
      },
      "source": [
        "### Compare the prediction with actual label\n",
        "- Print the same row as done in the previous step but of actual labels"
      ]
    },
    {
      "cell_type": "code",
      "metadata": {
        "id": "K5WbwVPyz-qQ",
        "colab_type": "code",
        "colab": {
          "base_uri": "https://localhost:8080/",
          "height": 674
        },
        "outputId": "1ac201ae-8ef0-42cd-a9ba-60911e81b60d"
      },
      "source": [
        "y_predict = model.predict(X_test)\n",
        "y_predict\n"
      ],
      "execution_count": 17,
      "outputs": [
        {
          "output_type": "execute_result",
          "data": {
            "text/plain": [
              "array([[3.28866066e-04, 9.79287505e-01, 2.03836970e-02],\n",
              "       [9.99836564e-01, 1.63463468e-04, 2.66305443e-15],\n",
              "       [8.15293077e-09, 1.23436691e-03, 9.98765707e-01],\n",
              "       [2.54150713e-04, 9.70190406e-01, 2.95554549e-02],\n",
              "       [1.77172929e-04, 9.89456356e-01, 1.03664370e-02],\n",
              "       [9.99579847e-01, 4.20095777e-04, 3.78028568e-14],\n",
              "       [2.11567013e-03, 9.97750103e-01, 1.34198199e-04],\n",
              "       [5.11244252e-06, 5.73791154e-02, 9.42615747e-01],\n",
              "       [1.05465762e-04, 3.45460922e-01, 6.54433548e-01],\n",
              "       [5.51262347e-04, 9.98980105e-01, 4.68652754e-04],\n",
              "       [2.33392493e-05, 1.76930889e-01, 8.23045731e-01],\n",
              "       [9.99230742e-01, 7.69319769e-04, 3.42698905e-13],\n",
              "       [9.99868870e-01, 1.31150562e-04, 1.38077085e-15],\n",
              "       [9.99302268e-01, 6.97748095e-04, 2.53852874e-13],\n",
              "       [9.99819577e-01, 1.80410003e-04, 6.89660451e-15],\n",
              "       [1.68924962e-04, 9.92118716e-01, 7.71232415e-03],\n",
              "       [3.29255471e-07, 6.38048397e-03, 9.93619144e-01],\n",
              "       [7.05630169e-04, 9.97698009e-01, 1.59629993e-03],\n",
              "       [3.82980041e-04, 9.51906443e-01, 4.77105267e-02],\n",
              "       [3.83238074e-07, 6.85663428e-03, 9.93142962e-01],\n",
              "       [9.98984158e-01, 1.01579004e-03, 9.90795662e-13],\n",
              "       [4.58113464e-05, 1.95453569e-01, 8.04500580e-01],\n",
              "       [9.99253809e-01, 7.46187521e-04, 3.15025160e-13],\n",
              "       [5.85792975e-07, 8.28348193e-03, 9.91715968e-01],\n",
              "       [4.26082488e-06, 1.15941316e-01, 8.84054482e-01],\n",
              "       [1.29975376e-06, 1.28477672e-02, 9.87150908e-01],\n",
              "       [7.93067784e-07, 9.52608977e-03, 9.90473092e-01],\n",
              "       [2.66990185e-07, 5.96428057e-03, 9.94035482e-01],\n",
              "       [9.98838723e-01, 1.16134086e-03, 1.02810848e-12],\n",
              "       [9.98834550e-01, 1.16540771e-03, 1.20430250e-12],\n",
              "       [9.99878764e-01, 1.21222438e-04, 3.26680385e-15],\n",
              "       [9.99966621e-01, 3.33211392e-05, 4.31956131e-17],\n",
              "       [2.33478029e-04, 9.99573171e-01, 1.93376502e-04],\n",
              "       [9.99409318e-01, 5.90662064e-04, 2.20436449e-13],\n",
              "       [9.99310017e-01, 6.90040935e-04, 4.46182208e-13],\n",
              "       [4.37893459e-06, 2.15570703e-02, 9.78438616e-01],\n",
              "       [2.01504226e-04, 9.98555839e-01, 1.24263740e-03],\n",
              "       [9.99734938e-01, 2.65079871e-04, 1.50163678e-14]], dtype=float32)"
            ]
          },
          "metadata": {
            "tags": []
          },
          "execution_count": 17
        }
      ]
    },
    {
      "cell_type": "markdown",
      "metadata": {
        "id": "FrTKwbgE7NFT",
        "colab_type": "text"
      },
      "source": [
        "\n",
        "\n",
        "---\n",
        "\n"
      ]
    },
    {
      "cell_type": "markdown",
      "metadata": {
        "id": "a1UBYPNp5Tn1",
        "colab_type": "text"
      },
      "source": [
        "# Stock prices dataset\n",
        "The data is of tock exchange's stock listings for each trading day of 2010 to 2016.\n",
        "\n",
        "## Description\n",
        "A brief description of columns.\n",
        "- open: The opening market price of the equity symbol on the date\n",
        "- high: The highest market price of the equity symbol on the date\n",
        "- low: The lowest recorded market price of the equity symbol on the date\n",
        "- close: The closing recorded price of the equity symbol on the date\n",
        "- symbol: Symbol of the listed company\n",
        "- volume: Total traded volume of the equity symbol on the date\n",
        "- date: Date of record"
      ]
    },
    {
      "cell_type": "markdown",
      "metadata": {
        "colab_type": "text",
        "id": "ctH_ZW5g-M3g"
      },
      "source": [
        "### Specifying the TensorFlow version\n",
        "Running `import tensorflow` will import the default version (currently 1.x). You can use 2.x by running a cell with the `tensorflow_version` magic **before** you run `import tensorflow`."
      ]
    },
    {
      "cell_type": "code",
      "metadata": {
        "colab_type": "code",
        "id": "vQbdODpH-M3r",
        "colab": {}
      },
      "source": [
        "%tensorflow_version 2.x"
      ],
      "execution_count": 0,
      "outputs": []
    },
    {
      "cell_type": "markdown",
      "metadata": {
        "colab_type": "text",
        "id": "nFQWH1tj-M38"
      },
      "source": [
        "### Import TensorFlow\n",
        "Once you have specified a version via this magic, you can run `import tensorflow` as normal and verify which version was imported as follows:"
      ]
    },
    {
      "cell_type": "code",
      "metadata": {
        "colab_type": "code",
        "id": "Ho5n-xhd-M3_",
        "colab": {
          "base_uri": "https://localhost:8080/",
          "height": 35
        },
        "outputId": "5877f679-33f6-49cc-b318-0a7c841cf184"
      },
      "source": [
        "import tensorflow as tf\n",
        "print(tf.__version__)"
      ],
      "execution_count": 19,
      "outputs": [
        {
          "output_type": "stream",
          "text": [
            "2.1.0\n"
          ],
          "name": "stdout"
        }
      ]
    },
    {
      "cell_type": "markdown",
      "metadata": {
        "colab_type": "text",
        "id": "tgkl0qu6-M4F"
      },
      "source": [
        "### Set random seed"
      ]
    },
    {
      "cell_type": "code",
      "metadata": {
        "colab_type": "code",
        "id": "TKgTyuA3-M4G",
        "colab": {}
      },
      "source": [
        "tf.random.set_seed(42)"
      ],
      "execution_count": 0,
      "outputs": []
    },
    {
      "cell_type": "code",
      "metadata": {
        "id": "biVBCDcGzSW9",
        "colab_type": "code",
        "colab": {
          "base_uri": "https://localhost:8080/",
          "height": 279
        },
        "outputId": "e1046be9-a7a1-4adb-eded-8719d54105d6"
      },
      "source": [
        "!pip install pyDrive"
      ],
      "execution_count": 21,
      "outputs": [
        {
          "output_type": "stream",
          "text": [
            "Requirement already satisfied: pyDrive in /usr/local/lib/python3.6/dist-packages (1.3.1)\n",
            "Requirement already satisfied: oauth2client>=4.0.0 in /usr/local/lib/python3.6/dist-packages (from pyDrive) (4.1.3)\n",
            "Requirement already satisfied: PyYAML>=3.0 in /usr/local/lib/python3.6/dist-packages (from pyDrive) (3.13)\n",
            "Requirement already satisfied: google-api-python-client>=1.2 in /usr/local/lib/python3.6/dist-packages (from pyDrive) (1.7.11)\n",
            "Requirement already satisfied: httplib2>=0.9.1 in /usr/local/lib/python3.6/dist-packages (from oauth2client>=4.0.0->pyDrive) (0.11.3)\n",
            "Requirement already satisfied: pyasn1>=0.1.7 in /tensorflow-2.1.0/python3.6 (from oauth2client>=4.0.0->pyDrive) (0.4.8)\n",
            "Requirement already satisfied: pyasn1-modules>=0.0.5 in /tensorflow-2.1.0/python3.6 (from oauth2client>=4.0.0->pyDrive) (0.2.8)\n",
            "Requirement already satisfied: six>=1.6.1 in /tensorflow-2.1.0/python3.6 (from oauth2client>=4.0.0->pyDrive) (1.14.0)\n",
            "Requirement already satisfied: rsa>=3.1.4 in /tensorflow-2.1.0/python3.6 (from oauth2client>=4.0.0->pyDrive) (4.0)\n",
            "Requirement already satisfied: google-auth>=1.4.1 in /tensorflow-2.1.0/python3.6 (from google-api-python-client>=1.2->pyDrive) (1.10.1)\n",
            "Requirement already satisfied: google-auth-httplib2>=0.0.3 in /usr/local/lib/python3.6/dist-packages (from google-api-python-client>=1.2->pyDrive) (0.0.3)\n",
            "Requirement already satisfied: uritemplate<4dev,>=3.0.0 in /usr/local/lib/python3.6/dist-packages (from google-api-python-client>=1.2->pyDrive) (3.0.1)\n",
            "Requirement already satisfied: setuptools>=40.3.0 in /tensorflow-2.1.0/python3.6 (from google-auth>=1.4.1->google-api-python-client>=1.2->pyDrive) (45.0.0)\n",
            "Requirement already satisfied: cachetools<5.0,>=2.0.0 in /tensorflow-2.1.0/python3.6 (from google-auth>=1.4.1->google-api-python-client>=1.2->pyDrive) (4.0.0)\n"
          ],
          "name": "stdout"
        }
      ]
    },
    {
      "cell_type": "markdown",
      "metadata": {
        "id": "_88voqAH-O6J",
        "colab_type": "text"
      },
      "source": [
        "## Question 1"
      ]
    },
    {
      "cell_type": "markdown",
      "metadata": {
        "id": "dRHCeJqP-evf",
        "colab_type": "text"
      },
      "source": [
        "### Load the data\n",
        "- load the csv file and read it using pandas\n",
        "- file name is prices.csv"
      ]
    },
    {
      "cell_type": "code",
      "metadata": {
        "id": "cKVH5v7r-RmC",
        "colab_type": "code",
        "colab": {}
      },
      "source": [
        "# run this cell to upload file if you are using google colab\n",
        "#As alertnative I am using mount to read from gdrive\n",
        "# from google.colab import files\n",
        "# files.upload()"
      ],
      "execution_count": 0,
      "outputs": []
    },
    {
      "cell_type": "code",
      "metadata": {
        "id": "FJpOyaj3zrK0",
        "colab_type": "code",
        "colab": {
          "base_uri": "https://localhost:8080/",
          "height": 55
        },
        "outputId": "208f2bf8-80ce-4ec3-b360-60dc26853c38"
      },
      "source": [
        "from google.colab import drive\n",
        "drive.mount('/content/gdrive/')"
      ],
      "execution_count": 43,
      "outputs": [
        {
          "output_type": "stream",
          "text": [
            "Drive already mounted at /content/gdrive/; to attempt to forcibly remount, call drive.mount(\"/content/gdrive/\", force_remount=True).\n"
          ],
          "name": "stdout"
        }
      ]
    },
    {
      "cell_type": "code",
      "metadata": {
        "id": "Pu3kV3ikz-gY",
        "colab_type": "code",
        "colab": {}
      },
      "source": [
        "shareprices = pd.read_csv('/content/gdrive/My Drive/ColabNotebook/bangalore-aug19-batch-pavan88/prices.csv')"
      ],
      "execution_count": 0,
      "outputs": []
    },
    {
      "cell_type": "code",
      "metadata": {
        "id": "wFFMQDBlz-id",
        "colab_type": "code",
        "colab": {
          "base_uri": "https://localhost:8080/",
          "height": 198
        },
        "outputId": "85826f41-3130-4857-8934-fce471f75727"
      },
      "source": [
        "shareprices.head()"
      ],
      "execution_count": 45,
      "outputs": [
        {
          "output_type": "execute_result",
          "data": {
            "text/html": [
              "<div>\n",
              "<style scoped>\n",
              "    .dataframe tbody tr th:only-of-type {\n",
              "        vertical-align: middle;\n",
              "    }\n",
              "\n",
              "    .dataframe tbody tr th {\n",
              "        vertical-align: top;\n",
              "    }\n",
              "\n",
              "    .dataframe thead th {\n",
              "        text-align: right;\n",
              "    }\n",
              "</style>\n",
              "<table border=\"1\" class=\"dataframe\">\n",
              "  <thead>\n",
              "    <tr style=\"text-align: right;\">\n",
              "      <th></th>\n",
              "      <th>date</th>\n",
              "      <th>symbol</th>\n",
              "      <th>open</th>\n",
              "      <th>close</th>\n",
              "      <th>low</th>\n",
              "      <th>high</th>\n",
              "      <th>volume</th>\n",
              "    </tr>\n",
              "  </thead>\n",
              "  <tbody>\n",
              "    <tr>\n",
              "      <th>0</th>\n",
              "      <td>2016-01-05 00:00:00</td>\n",
              "      <td>WLTW</td>\n",
              "      <td>123.430000</td>\n",
              "      <td>125.839996</td>\n",
              "      <td>122.309998</td>\n",
              "      <td>126.250000</td>\n",
              "      <td>2163600.0</td>\n",
              "    </tr>\n",
              "    <tr>\n",
              "      <th>1</th>\n",
              "      <td>2016-01-06 00:00:00</td>\n",
              "      <td>WLTW</td>\n",
              "      <td>125.239998</td>\n",
              "      <td>119.980003</td>\n",
              "      <td>119.940002</td>\n",
              "      <td>125.540001</td>\n",
              "      <td>2386400.0</td>\n",
              "    </tr>\n",
              "    <tr>\n",
              "      <th>2</th>\n",
              "      <td>2016-01-07 00:00:00</td>\n",
              "      <td>WLTW</td>\n",
              "      <td>116.379997</td>\n",
              "      <td>114.949997</td>\n",
              "      <td>114.930000</td>\n",
              "      <td>119.739998</td>\n",
              "      <td>2489500.0</td>\n",
              "    </tr>\n",
              "    <tr>\n",
              "      <th>3</th>\n",
              "      <td>2016-01-08 00:00:00</td>\n",
              "      <td>WLTW</td>\n",
              "      <td>115.480003</td>\n",
              "      <td>116.620003</td>\n",
              "      <td>113.500000</td>\n",
              "      <td>117.440002</td>\n",
              "      <td>2006300.0</td>\n",
              "    </tr>\n",
              "    <tr>\n",
              "      <th>4</th>\n",
              "      <td>2016-01-11 00:00:00</td>\n",
              "      <td>WLTW</td>\n",
              "      <td>117.010002</td>\n",
              "      <td>114.970001</td>\n",
              "      <td>114.089996</td>\n",
              "      <td>117.330002</td>\n",
              "      <td>1408600.0</td>\n",
              "    </tr>\n",
              "  </tbody>\n",
              "</table>\n",
              "</div>"
            ],
            "text/plain": [
              "                  date symbol        open  ...         low        high     volume\n",
              "0  2016-01-05 00:00:00   WLTW  123.430000  ...  122.309998  126.250000  2163600.0\n",
              "1  2016-01-06 00:00:00   WLTW  125.239998  ...  119.940002  125.540001  2386400.0\n",
              "2  2016-01-07 00:00:00   WLTW  116.379997  ...  114.930000  119.739998  2489500.0\n",
              "3  2016-01-08 00:00:00   WLTW  115.480003  ...  113.500000  117.440002  2006300.0\n",
              "4  2016-01-11 00:00:00   WLTW  117.010002  ...  114.089996  117.330002  1408600.0\n",
              "\n",
              "[5 rows x 7 columns]"
            ]
          },
          "metadata": {
            "tags": []
          },
          "execution_count": 45
        }
      ]
    },
    {
      "cell_type": "code",
      "metadata": {
        "id": "yXHpVh_z3h2a",
        "colab_type": "code",
        "colab": {
          "base_uri": "https://localhost:8080/",
          "height": 288
        },
        "outputId": "5b687a3f-712c-43a9-bef4-fcff3d6f4325"
      },
      "source": [
        "shareprices.describe()"
      ],
      "execution_count": 46,
      "outputs": [
        {
          "output_type": "execute_result",
          "data": {
            "text/html": [
              "<div>\n",
              "<style scoped>\n",
              "    .dataframe tbody tr th:only-of-type {\n",
              "        vertical-align: middle;\n",
              "    }\n",
              "\n",
              "    .dataframe tbody tr th {\n",
              "        vertical-align: top;\n",
              "    }\n",
              "\n",
              "    .dataframe thead th {\n",
              "        text-align: right;\n",
              "    }\n",
              "</style>\n",
              "<table border=\"1\" class=\"dataframe\">\n",
              "  <thead>\n",
              "    <tr style=\"text-align: right;\">\n",
              "      <th></th>\n",
              "      <th>open</th>\n",
              "      <th>close</th>\n",
              "      <th>low</th>\n",
              "      <th>high</th>\n",
              "      <th>volume</th>\n",
              "    </tr>\n",
              "  </thead>\n",
              "  <tbody>\n",
              "    <tr>\n",
              "      <th>count</th>\n",
              "      <td>851264.000000</td>\n",
              "      <td>851264.000000</td>\n",
              "      <td>851264.000000</td>\n",
              "      <td>851264.000000</td>\n",
              "      <td>8.512640e+05</td>\n",
              "    </tr>\n",
              "    <tr>\n",
              "      <th>mean</th>\n",
              "      <td>70.836986</td>\n",
              "      <td>70.857109</td>\n",
              "      <td>70.118414</td>\n",
              "      <td>71.543476</td>\n",
              "      <td>5.415113e+06</td>\n",
              "    </tr>\n",
              "    <tr>\n",
              "      <th>std</th>\n",
              "      <td>83.695876</td>\n",
              "      <td>83.689686</td>\n",
              "      <td>82.877294</td>\n",
              "      <td>84.465504</td>\n",
              "      <td>1.249468e+07</td>\n",
              "    </tr>\n",
              "    <tr>\n",
              "      <th>min</th>\n",
              "      <td>0.850000</td>\n",
              "      <td>0.860000</td>\n",
              "      <td>0.830000</td>\n",
              "      <td>0.880000</td>\n",
              "      <td>0.000000e+00</td>\n",
              "    </tr>\n",
              "    <tr>\n",
              "      <th>25%</th>\n",
              "      <td>33.840000</td>\n",
              "      <td>33.849998</td>\n",
              "      <td>33.480000</td>\n",
              "      <td>34.189999</td>\n",
              "      <td>1.221500e+06</td>\n",
              "    </tr>\n",
              "    <tr>\n",
              "      <th>50%</th>\n",
              "      <td>52.770000</td>\n",
              "      <td>52.799999</td>\n",
              "      <td>52.230000</td>\n",
              "      <td>53.310001</td>\n",
              "      <td>2.476250e+06</td>\n",
              "    </tr>\n",
              "    <tr>\n",
              "      <th>75%</th>\n",
              "      <td>79.879997</td>\n",
              "      <td>79.889999</td>\n",
              "      <td>79.110001</td>\n",
              "      <td>80.610001</td>\n",
              "      <td>5.222500e+06</td>\n",
              "    </tr>\n",
              "    <tr>\n",
              "      <th>max</th>\n",
              "      <td>1584.439941</td>\n",
              "      <td>1578.130005</td>\n",
              "      <td>1549.939941</td>\n",
              "      <td>1600.930054</td>\n",
              "      <td>8.596434e+08</td>\n",
              "    </tr>\n",
              "  </tbody>\n",
              "</table>\n",
              "</div>"
            ],
            "text/plain": [
              "                open          close            low           high        volume\n",
              "count  851264.000000  851264.000000  851264.000000  851264.000000  8.512640e+05\n",
              "mean       70.836986      70.857109      70.118414      71.543476  5.415113e+06\n",
              "std        83.695876      83.689686      82.877294      84.465504  1.249468e+07\n",
              "min         0.850000       0.860000       0.830000       0.880000  0.000000e+00\n",
              "25%        33.840000      33.849998      33.480000      34.189999  1.221500e+06\n",
              "50%        52.770000      52.799999      52.230000      53.310001  2.476250e+06\n",
              "75%        79.879997      79.889999      79.110001      80.610001  5.222500e+06\n",
              "max      1584.439941    1578.130005    1549.939941    1600.930054  8.596434e+08"
            ]
          },
          "metadata": {
            "tags": []
          },
          "execution_count": 46
        }
      ]
    },
    {
      "cell_type": "code",
      "metadata": {
        "id": "VsJbfmVi3qoG",
        "colab_type": "code",
        "colab": {
          "base_uri": "https://localhost:8080/",
          "height": 155
        },
        "outputId": "18f26c99-84c1-4ff7-99f2-94cbeb007eb5"
      },
      "source": [
        "shareprices.dtypes"
      ],
      "execution_count": 47,
      "outputs": [
        {
          "output_type": "execute_result",
          "data": {
            "text/plain": [
              "date       object\n",
              "symbol     object\n",
              "open      float64\n",
              "close     float64\n",
              "low       float64\n",
              "high      float64\n",
              "volume    float64\n",
              "dtype: object"
            ]
          },
          "metadata": {
            "tags": []
          },
          "execution_count": 47
        }
      ]
    },
    {
      "cell_type": "code",
      "metadata": {
        "id": "lto8NGDU3h5N",
        "colab_type": "code",
        "colab": {
          "base_uri": "https://localhost:8080/",
          "height": 155
        },
        "outputId": "4d86276a-7b0e-4bf4-adfa-df7f53914b6e"
      },
      "source": [
        "shareprices.isna().sum()"
      ],
      "execution_count": 48,
      "outputs": [
        {
          "output_type": "execute_result",
          "data": {
            "text/plain": [
              "date      0\n",
              "symbol    0\n",
              "open      0\n",
              "close     0\n",
              "low       0\n",
              "high      0\n",
              "volume    0\n",
              "dtype: int64"
            ]
          },
          "metadata": {
            "tags": []
          },
          "execution_count": 48
        }
      ]
    },
    {
      "cell_type": "markdown",
      "metadata": {
        "id": "HlLKVPVH_BCT",
        "colab_type": "text"
      },
      "source": [
        "## Question 2"
      ]
    },
    {
      "cell_type": "markdown",
      "metadata": {
        "id": "9J4BlzVA_gZd",
        "colab_type": "text"
      },
      "source": [
        "### Drop columnns\n",
        "- drop \"date\" and \"symbol\" column from the data"
      ]
    },
    {
      "cell_type": "code",
      "metadata": {
        "id": "IKEK8aEE_Csx",
        "colab_type": "code",
        "colab": {
          "base_uri": "https://localhost:8080/",
          "height": 198
        },
        "outputId": "1e1cb5a4-a315-4c59-d353-f8cd547d45ac"
      },
      "source": [
        "shareprices.drop(['date','symbol'], axis=1,inplace=True)\n",
        "shareprices.head()"
      ],
      "execution_count": 49,
      "outputs": [
        {
          "output_type": "execute_result",
          "data": {
            "text/html": [
              "<div>\n",
              "<style scoped>\n",
              "    .dataframe tbody tr th:only-of-type {\n",
              "        vertical-align: middle;\n",
              "    }\n",
              "\n",
              "    .dataframe tbody tr th {\n",
              "        vertical-align: top;\n",
              "    }\n",
              "\n",
              "    .dataframe thead th {\n",
              "        text-align: right;\n",
              "    }\n",
              "</style>\n",
              "<table border=\"1\" class=\"dataframe\">\n",
              "  <thead>\n",
              "    <tr style=\"text-align: right;\">\n",
              "      <th></th>\n",
              "      <th>open</th>\n",
              "      <th>close</th>\n",
              "      <th>low</th>\n",
              "      <th>high</th>\n",
              "      <th>volume</th>\n",
              "    </tr>\n",
              "  </thead>\n",
              "  <tbody>\n",
              "    <tr>\n",
              "      <th>0</th>\n",
              "      <td>123.430000</td>\n",
              "      <td>125.839996</td>\n",
              "      <td>122.309998</td>\n",
              "      <td>126.250000</td>\n",
              "      <td>2163600.0</td>\n",
              "    </tr>\n",
              "    <tr>\n",
              "      <th>1</th>\n",
              "      <td>125.239998</td>\n",
              "      <td>119.980003</td>\n",
              "      <td>119.940002</td>\n",
              "      <td>125.540001</td>\n",
              "      <td>2386400.0</td>\n",
              "    </tr>\n",
              "    <tr>\n",
              "      <th>2</th>\n",
              "      <td>116.379997</td>\n",
              "      <td>114.949997</td>\n",
              "      <td>114.930000</td>\n",
              "      <td>119.739998</td>\n",
              "      <td>2489500.0</td>\n",
              "    </tr>\n",
              "    <tr>\n",
              "      <th>3</th>\n",
              "      <td>115.480003</td>\n",
              "      <td>116.620003</td>\n",
              "      <td>113.500000</td>\n",
              "      <td>117.440002</td>\n",
              "      <td>2006300.0</td>\n",
              "    </tr>\n",
              "    <tr>\n",
              "      <th>4</th>\n",
              "      <td>117.010002</td>\n",
              "      <td>114.970001</td>\n",
              "      <td>114.089996</td>\n",
              "      <td>117.330002</td>\n",
              "      <td>1408600.0</td>\n",
              "    </tr>\n",
              "  </tbody>\n",
              "</table>\n",
              "</div>"
            ],
            "text/plain": [
              "         open       close         low        high     volume\n",
              "0  123.430000  125.839996  122.309998  126.250000  2163600.0\n",
              "1  125.239998  119.980003  119.940002  125.540001  2386400.0\n",
              "2  116.379997  114.949997  114.930000  119.739998  2489500.0\n",
              "3  115.480003  116.620003  113.500000  117.440002  2006300.0\n",
              "4  117.010002  114.970001  114.089996  117.330002  1408600.0"
            ]
          },
          "metadata": {
            "tags": []
          },
          "execution_count": 49
        }
      ]
    },
    {
      "cell_type": "markdown",
      "metadata": {
        "id": "cTPhO6v-AiZt",
        "colab_type": "text"
      },
      "source": [
        "## Question 3"
      ]
    },
    {
      "cell_type": "markdown",
      "metadata": {
        "id": "SsZXmF3NAkna",
        "colab_type": "text"
      },
      "source": [
        "### Take initial rows\n",
        "- Take first 1000 rows from the data\n",
        "- This step is done to make the execution faster"
      ]
    },
    {
      "cell_type": "code",
      "metadata": {
        "id": "aKs04iIHAjxN",
        "colab_type": "code",
        "colab": {}
      },
      "source": [
        "dfs_1k=shareprices[:1000]"
      ],
      "execution_count": 0,
      "outputs": []
    },
    {
      "cell_type": "code",
      "metadata": {
        "id": "2KvgLh575cMz",
        "colab_type": "code",
        "colab": {
          "base_uri": "https://localhost:8080/",
          "height": 35
        },
        "outputId": "4082e858-2d22-4244-b2ec-1573daaa8c17"
      },
      "source": [
        "dfs_1k.shape"
      ],
      "execution_count": 51,
      "outputs": [
        {
          "output_type": "execute_result",
          "data": {
            "text/plain": [
              "(1000, 5)"
            ]
          },
          "metadata": {
            "tags": []
          },
          "execution_count": 51
        }
      ]
    },
    {
      "cell_type": "markdown",
      "metadata": {
        "id": "6vGtnapgBIJm",
        "colab_type": "text"
      },
      "source": [
        "## Question 4"
      ]
    },
    {
      "cell_type": "markdown",
      "metadata": {
        "colab_type": "text",
        "id": "C8u_jlbABTip"
      },
      "source": [
        "### Get features and label from the dataset in separate variable\n",
        "- Take \"open\", \"close\", \"low\", \"high\" columns as features\n",
        "- Take \"volume\" column as label\n",
        "- Normalize label column by dividing it with 1000000"
      ]
    },
    {
      "cell_type": "code",
      "metadata": {
        "id": "xQjCMzUXBJbg",
        "colab_type": "code",
        "colab": {}
      },
      "source": [
        "X = dfs_1k.iloc[:,0:4]\n",
        "y_actual=dfs_1k['volume']"
      ],
      "execution_count": 0,
      "outputs": []
    },
    {
      "cell_type": "code",
      "metadata": {
        "id": "gQus5Zq15Oi-",
        "colab_type": "code",
        "colab": {
          "base_uri": "https://localhost:8080/",
          "height": 173
        },
        "outputId": "3f1759a6-d66f-4d50-a7a1-8c9c1ed1312f"
      },
      "source": [
        "X.info()"
      ],
      "execution_count": 53,
      "outputs": [
        {
          "output_type": "stream",
          "text": [
            "<class 'pandas.core.frame.DataFrame'>\n",
            "RangeIndex: 1000 entries, 0 to 999\n",
            "Data columns (total 4 columns):\n",
            "open     1000 non-null float64\n",
            "close    1000 non-null float64\n",
            "low      1000 non-null float64\n",
            "high     1000 non-null float64\n",
            "dtypes: float64(4)\n",
            "memory usage: 31.4 KB\n"
          ],
          "name": "stdout"
        }
      ]
    },
    {
      "cell_type": "code",
      "metadata": {
        "id": "Tj0xMBXH5S1j",
        "colab_type": "code",
        "colab": {
          "base_uri": "https://localhost:8080/",
          "height": 121
        },
        "outputId": "0ea5db21-6327-487c-fbd2-1fea2d9d79a3"
      },
      "source": [
        "y_actual.head()"
      ],
      "execution_count": 54,
      "outputs": [
        {
          "output_type": "execute_result",
          "data": {
            "text/plain": [
              "0    2163600.0\n",
              "1    2386400.0\n",
              "2    2489500.0\n",
              "3    2006300.0\n",
              "4    1408600.0\n",
              "Name: volume, dtype: float64"
            ]
          },
          "metadata": {
            "tags": []
          },
          "execution_count": 54
        }
      ]
    },
    {
      "cell_type": "code",
      "metadata": {
        "id": "U0rPkEsx5m_q",
        "colab_type": "code",
        "colab": {}
      },
      "source": [
        "X = dfs_1k.drop(['volume'], axis = 1) # this will internally select open, close, low & high features.\n",
        "y_actual=(y_actual/1000000)"
      ],
      "execution_count": 0,
      "outputs": []
    },
    {
      "cell_type": "code",
      "metadata": {
        "id": "9gzcvVNeFoex",
        "colab_type": "code",
        "colab": {
          "base_uri": "https://localhost:8080/",
          "height": 407
        },
        "outputId": "4a9d41d5-dd61-4967-ebb2-bdfbd8cb36c3"
      },
      "source": [
        "X"
      ],
      "execution_count": 56,
      "outputs": [
        {
          "output_type": "execute_result",
          "data": {
            "text/html": [
              "<div>\n",
              "<style scoped>\n",
              "    .dataframe tbody tr th:only-of-type {\n",
              "        vertical-align: middle;\n",
              "    }\n",
              "\n",
              "    .dataframe tbody tr th {\n",
              "        vertical-align: top;\n",
              "    }\n",
              "\n",
              "    .dataframe thead th {\n",
              "        text-align: right;\n",
              "    }\n",
              "</style>\n",
              "<table border=\"1\" class=\"dataframe\">\n",
              "  <thead>\n",
              "    <tr style=\"text-align: right;\">\n",
              "      <th></th>\n",
              "      <th>open</th>\n",
              "      <th>close</th>\n",
              "      <th>low</th>\n",
              "      <th>high</th>\n",
              "    </tr>\n",
              "  </thead>\n",
              "  <tbody>\n",
              "    <tr>\n",
              "      <th>0</th>\n",
              "      <td>123.430000</td>\n",
              "      <td>125.839996</td>\n",
              "      <td>122.309998</td>\n",
              "      <td>126.250000</td>\n",
              "    </tr>\n",
              "    <tr>\n",
              "      <th>1</th>\n",
              "      <td>125.239998</td>\n",
              "      <td>119.980003</td>\n",
              "      <td>119.940002</td>\n",
              "      <td>125.540001</td>\n",
              "    </tr>\n",
              "    <tr>\n",
              "      <th>2</th>\n",
              "      <td>116.379997</td>\n",
              "      <td>114.949997</td>\n",
              "      <td>114.930000</td>\n",
              "      <td>119.739998</td>\n",
              "    </tr>\n",
              "    <tr>\n",
              "      <th>3</th>\n",
              "      <td>115.480003</td>\n",
              "      <td>116.620003</td>\n",
              "      <td>113.500000</td>\n",
              "      <td>117.440002</td>\n",
              "    </tr>\n",
              "    <tr>\n",
              "      <th>4</th>\n",
              "      <td>117.010002</td>\n",
              "      <td>114.970001</td>\n",
              "      <td>114.089996</td>\n",
              "      <td>117.330002</td>\n",
              "    </tr>\n",
              "    <tr>\n",
              "      <th>...</th>\n",
              "      <td>...</td>\n",
              "      <td>...</td>\n",
              "      <td>...</td>\n",
              "      <td>...</td>\n",
              "    </tr>\n",
              "    <tr>\n",
              "      <th>995</th>\n",
              "      <td>63.310001</td>\n",
              "      <td>63.590000</td>\n",
              "      <td>63.240002</td>\n",
              "      <td>63.639999</td>\n",
              "    </tr>\n",
              "    <tr>\n",
              "      <th>996</th>\n",
              "      <td>27.160000</td>\n",
              "      <td>26.990000</td>\n",
              "      <td>26.680000</td>\n",
              "      <td>27.299999</td>\n",
              "    </tr>\n",
              "    <tr>\n",
              "      <th>997</th>\n",
              "      <td>28.320000</td>\n",
              "      <td>28.770000</td>\n",
              "      <td>28.010000</td>\n",
              "      <td>28.809999</td>\n",
              "    </tr>\n",
              "    <tr>\n",
              "      <th>998</th>\n",
              "      <td>44.000000</td>\n",
              "      <td>44.799999</td>\n",
              "      <td>43.750000</td>\n",
              "      <td>44.810001</td>\n",
              "    </tr>\n",
              "    <tr>\n",
              "      <th>999</th>\n",
              "      <td>36.080002</td>\n",
              "      <td>37.139999</td>\n",
              "      <td>36.009998</td>\n",
              "      <td>37.230000</td>\n",
              "    </tr>\n",
              "  </tbody>\n",
              "</table>\n",
              "<p>1000 rows × 4 columns</p>\n",
              "</div>"
            ],
            "text/plain": [
              "           open       close         low        high\n",
              "0    123.430000  125.839996  122.309998  126.250000\n",
              "1    125.239998  119.980003  119.940002  125.540001\n",
              "2    116.379997  114.949997  114.930000  119.739998\n",
              "3    115.480003  116.620003  113.500000  117.440002\n",
              "4    117.010002  114.970001  114.089996  117.330002\n",
              "..          ...         ...         ...         ...\n",
              "995   63.310001   63.590000   63.240002   63.639999\n",
              "996   27.160000   26.990000   26.680000   27.299999\n",
              "997   28.320000   28.770000   28.010000   28.809999\n",
              "998   44.000000   44.799999   43.750000   44.810001\n",
              "999   36.080002   37.139999   36.009998   37.230000\n",
              "\n",
              "[1000 rows x 4 columns]"
            ]
          },
          "metadata": {
            "tags": []
          },
          "execution_count": 56
        }
      ]
    },
    {
      "cell_type": "code",
      "metadata": {
        "id": "bT_fNE0IFzRb",
        "colab_type": "code",
        "colab": {
          "base_uri": "https://localhost:8080/",
          "height": 225
        },
        "outputId": "626a33d3-0729-4703-c932-776a6228176c"
      },
      "source": [
        "y_actual"
      ],
      "execution_count": 57,
      "outputs": [
        {
          "output_type": "execute_result",
          "data": {
            "text/plain": [
              "0       2.1636\n",
              "1       2.3864\n",
              "2       2.4895\n",
              "3       2.0063\n",
              "4       1.4086\n",
              "        ...   \n",
              "995     2.1332\n",
              "996     1.9824\n",
              "997    37.1528\n",
              "998     6.5686\n",
              "999     5.6043\n",
              "Name: volume, Length: 1000, dtype: float64"
            ]
          },
          "metadata": {
            "tags": []
          },
          "execution_count": 57
        }
      ]
    },
    {
      "cell_type": "markdown",
      "metadata": {
        "id": "aTAKzlxZBz0z",
        "colab_type": "text"
      },
      "source": [
        "## Question 5"
      ]
    },
    {
      "cell_type": "markdown",
      "metadata": {
        "id": "IfY8Km1Zzyt2",
        "colab_type": "text"
      },
      "source": [
        "### Convert data\n",
        "- Convert features and labels to numpy array\n",
        "- Convert their data type to \"float32\""
      ]
    },
    {
      "cell_type": "code",
      "metadata": {
        "id": "Ko7nnQVbYENh",
        "colab_type": "code",
        "colab": {}
      },
      "source": [
        "X = X.to_numpy(dtype='float32')\n",
        "y = y_actual.to_numpy(dtype='float32')"
      ],
      "execution_count": 0,
      "outputs": []
    },
    {
      "cell_type": "code",
      "metadata": {
        "id": "GSJPAL2m568u",
        "colab_type": "code",
        "colab": {
          "base_uri": "https://localhost:8080/",
          "height": 52
        },
        "outputId": "5e138beb-aebd-4c1d-8aab-1c3277e424b5"
      },
      "source": [
        "print(X.shape)\n",
        "print(y.shape)"
      ],
      "execution_count": 59,
      "outputs": [
        {
          "output_type": "stream",
          "text": [
            "(1000, 4)\n",
            "(1000,)\n"
          ],
          "name": "stdout"
        }
      ]
    },
    {
      "cell_type": "markdown",
      "metadata": {
        "colab_type": "text",
        "id": "3TWpN0nVTpUx"
      },
      "source": [
        "## Question 6"
      ]
    },
    {
      "cell_type": "markdown",
      "metadata": {
        "id": "WQ1FKEs-4btX",
        "colab_type": "text"
      },
      "source": [
        "### Normalize data\n",
        "- Normalize features\n",
        "- Use tf.math.l2_normalize to normalize features\n",
        "- You can read more about it here https://www.tensorflow.org/api_docs/python/tf/math/l2_normalize"
      ]
    },
    {
      "cell_type": "code",
      "metadata": {
        "id": "V0Tfe00X78wB",
        "colab_type": "code",
        "colab": {
          "base_uri": "https://localhost:8080/",
          "height": 155
        },
        "outputId": "81971586-fd9e-4d20-c6e4-1ed06ae3038f"
      },
      "source": [
        "X_norm_tensor = tf.math.l2_normalize(X)\n",
        "X_norm_tensor"
      ],
      "execution_count": 60,
      "outputs": [
        {
          "output_type": "execute_result",
          "data": {
            "text/plain": [
              "<tf.Tensor: shape=(1000, 4), dtype=float32, numpy=\n",
              "array([[0.02202894, 0.02245906, 0.02182905, 0.02253223],\n",
              "       [0.02235197, 0.02141321, 0.02140607, 0.02240551],\n",
              "       [0.0207707 , 0.02051548, 0.02051192, 0.02137037],\n",
              "       ...,\n",
              "       [0.00505436, 0.00513467, 0.00499903, 0.00514181],\n",
              "       [0.00785282, 0.0079956 , 0.0078082 , 0.00799738],\n",
              "       [0.00643931, 0.00662849, 0.00642682, 0.00664455]], dtype=float32)>"
            ]
          },
          "metadata": {
            "tags": []
          },
          "execution_count": 60
        }
      ]
    },
    {
      "cell_type": "markdown",
      "metadata": {
        "colab_type": "text",
        "id": "wmXUGc2oTspa"
      },
      "source": [
        "## Question 7"
      ]
    },
    {
      "cell_type": "markdown",
      "metadata": {
        "id": "VJelDMpzxs0L",
        "colab_type": "text"
      },
      "source": [
        "### Define weight and bias\n",
        "- Initialize weight and bias with tf.zeros\n",
        "- tf.zeros is an initializer that generates tensors initialized to 0\n",
        "- Specify the value for shape"
      ]
    },
    {
      "cell_type": "code",
      "metadata": {
        "id": "JwNrKxWw74F5",
        "colab_type": "code",
        "colab": {}
      },
      "source": [
        "W = tf.Variable(tf.zeros(shape=[4,1]), name=\"Weights\")\n",
        "b = tf.Variable(tf.zeros(shape=[1]), name=\"Bias\")"
      ],
      "execution_count": 0,
      "outputs": []
    },
    {
      "cell_type": "markdown",
      "metadata": {
        "colab_type": "text",
        "id": "8a0wr94aTyjg"
      },
      "source": [
        "## Question 8"
      ]
    },
    {
      "cell_type": "markdown",
      "metadata": {
        "id": "zMXXYdOSxs0Q",
        "colab_type": "text"
      },
      "source": [
        "### Get prediction\n",
        "- Define a function to get prediction\n",
        "- Approach: prediction = (X * W) + b; here is X is features"
      ]
    },
    {
      "cell_type": "code",
      "metadata": {
        "id": "1zFK_OkbG8jH",
        "colab_type": "code",
        "colab": {}
      },
      "source": [
        "@tf.function \n",
        "def get_prediction(X, W, b):     \n",
        "    y_pred = tf.add(tf.matmul(X,W),b,name='output')     \n",
        "    return y_pred"
      ],
      "execution_count": 0,
      "outputs": []
    },
    {
      "cell_type": "markdown",
      "metadata": {
        "id": "lQmS3Tauxs0V",
        "colab_type": "text"
      },
      "source": [
        "### Calculate loss\n",
        "- Calculate loss using predictions\n",
        "- Define a function to calculate loss\n",
        "- We are calculating mean squared error"
      ]
    },
    {
      "cell_type": "code",
      "metadata": {
        "id": "-FRXmDd5xs0X",
        "colab_type": "code",
        "colab": {}
      },
      "source": [
        "@tf.function \n",
        "def loss(y, y_pred):     \n",
        "#     diff = y_actual - y_pred     \n",
        "#     sqr = tf.square(diff)     \n",
        "#     avg = tf.reduce_mean(sqr) \n",
        "    loss = tf.reduce_mean(tf.square(y-y_pred),name='Loss')\n",
        "    return loss "
      ],
      "execution_count": 0,
      "outputs": []
    },
    {
      "cell_type": "code",
      "metadata": {
        "id": "v63jUBasBeGf",
        "colab_type": "code",
        "colab": {}
      },
      "source": [
        "# Mean Squared Error Cost Function\n",
        "y_pred = tf.add(tf.matmul(X_norm_tensor, W), b)\n",
        "cost = tf.losses.mean_squared_error(y_actual, y_pred)"
      ],
      "execution_count": 0,
      "outputs": []
    },
    {
      "cell_type": "code",
      "metadata": {
        "id": "y3oqgMaR63uX",
        "colab_type": "code",
        "colab": {
          "base_uri": "https://localhost:8080/",
          "height": 1000
        },
        "outputId": "336879cd-e8fc-4130-cdc0-e3085a65a025"
      },
      "source": [
        "cost"
      ],
      "execution_count": 65,
      "outputs": [
        {
          "output_type": "execute_result",
          "data": {
            "text/plain": [
              "<tf.Tensor: shape=(1000,), dtype=float32, numpy=\n",
              "array([237.28671, 237.28671, 237.28671, 237.28671, 237.28671, 237.28671,\n",
              "       237.28671, 237.28671, 237.28671, 237.28671, 237.28671, 237.28671,\n",
              "       237.28671, 237.28671, 237.28671, 237.28671, 237.28671, 237.28671,\n",
              "       237.28671, 237.28671, 237.28671, 237.28671, 237.28671, 237.28671,\n",
              "       237.28671, 237.28671, 237.28671, 237.28671, 237.28671, 237.28671,\n",
              "       237.28671, 237.28671, 237.28671, 237.28671, 237.28671, 237.28671,\n",
              "       237.28671, 237.28671, 237.28671, 237.28671, 237.28671, 237.28671,\n",
              "       237.28671, 237.28671, 237.28671, 237.28671, 237.28671, 237.28671,\n",
              "       237.28671, 237.28671, 237.28671, 237.28671, 237.28671, 237.28671,\n",
              "       237.28671, 237.28671, 237.28671, 237.28671, 237.28671, 237.28671,\n",
              "       237.28671, 237.28671, 237.28671, 237.28671, 237.28671, 237.28671,\n",
              "       237.28671, 237.28671, 237.28671, 237.28671, 237.28671, 237.28671,\n",
              "       237.28671, 237.28671, 237.28671, 237.28671, 237.28671, 237.28671,\n",
              "       237.28671, 237.28671, 237.28671, 237.28671, 237.28671, 237.28671,\n",
              "       237.28671, 237.28671, 237.28671, 237.28671, 237.28671, 237.28671,\n",
              "       237.28671, 237.28671, 237.28671, 237.28671, 237.28671, 237.28671,\n",
              "       237.28671, 237.28671, 237.28671, 237.28671, 237.28671, 237.28671,\n",
              "       237.28671, 237.28671, 237.28671, 237.28671, 237.28671, 237.28671,\n",
              "       237.28671, 237.28671, 237.28671, 237.28671, 237.28671, 237.28671,\n",
              "       237.28671, 237.28671, 237.28671, 237.28671, 237.28671, 237.28671,\n",
              "       237.28671, 237.28671, 237.28671, 237.28671, 237.28671, 237.28671,\n",
              "       237.28671, 237.28671, 237.28671, 237.28671, 237.28671, 237.28671,\n",
              "       237.28671, 237.28671, 237.28671, 237.28671, 237.28671, 237.28671,\n",
              "       237.28671, 237.28671, 237.28671, 237.28671, 237.28671, 237.28671,\n",
              "       237.28671, 237.28671, 237.28671, 237.28671, 237.28671, 237.28671,\n",
              "       237.28671, 237.28671, 237.28671, 237.28671, 237.28671, 237.28671,\n",
              "       237.28671, 237.28671, 237.28671, 237.28671, 237.28671, 237.28671,\n",
              "       237.28671, 237.28671, 237.28671, 237.28671, 237.28671, 237.28671,\n",
              "       237.28671, 237.28671, 237.28671, 237.28671, 237.28671, 237.28671,\n",
              "       237.28671, 237.28671, 237.28671, 237.28671, 237.28671, 237.28671,\n",
              "       237.28671, 237.28671, 237.28671, 237.28671, 237.28671, 237.28671,\n",
              "       237.28671, 237.28671, 237.28671, 237.28671, 237.28671, 237.28671,\n",
              "       237.28671, 237.28671, 237.28671, 237.28671, 237.28671, 237.28671,\n",
              "       237.28671, 237.28671, 237.28671, 237.28671, 237.28671, 237.28671,\n",
              "       237.28671, 237.28671, 237.28671, 237.28671, 237.28671, 237.28671,\n",
              "       237.28671, 237.28671, 237.28671, 237.28671, 237.28671, 237.28671,\n",
              "       237.28671, 237.28671, 237.28671, 237.28671, 237.28671, 237.28671,\n",
              "       237.28671, 237.28671, 237.28671, 237.28671, 237.28671, 237.28671,\n",
              "       237.28671, 237.28671, 237.28671, 237.28671, 237.28671, 237.28671,\n",
              "       237.28671, 237.28671, 237.28671, 237.28671, 237.28671, 237.28671,\n",
              "       237.28671, 237.28671, 237.28671, 237.28671, 237.28671, 237.28671,\n",
              "       237.28671, 237.28671, 237.28671, 237.28671, 237.28671, 237.28671,\n",
              "       237.28671, 237.28671, 237.28671, 237.28671, 237.28671, 237.28671,\n",
              "       237.28671, 237.28671, 237.28671, 237.28671, 237.28671, 237.28671,\n",
              "       237.28671, 237.28671, 237.28671, 237.28671, 237.28671, 237.28671,\n",
              "       237.28671, 237.28671, 237.28671, 237.28671, 237.28671, 237.28671,\n",
              "       237.28671, 237.28671, 237.28671, 237.28671, 237.28671, 237.28671,\n",
              "       237.28671, 237.28671, 237.28671, 237.28671, 237.28671, 237.28671,\n",
              "       237.28671, 237.28671, 237.28671, 237.28671, 237.28671, 237.28671,\n",
              "       237.28671, 237.28671, 237.28671, 237.28671, 237.28671, 237.28671,\n",
              "       237.28671, 237.28671, 237.28671, 237.28671, 237.28671, 237.28671,\n",
              "       237.28671, 237.28671, 237.28671, 237.28671, 237.28671, 237.28671,\n",
              "       237.28671, 237.28671, 237.28671, 237.28671, 237.28671, 237.28671,\n",
              "       237.28671, 237.28671, 237.28671, 237.28671, 237.28671, 237.28671,\n",
              "       237.28671, 237.28671, 237.28671, 237.28671, 237.28671, 237.28671,\n",
              "       237.28671, 237.28671, 237.28671, 237.28671, 237.28671, 237.28671,\n",
              "       237.28671, 237.28671, 237.28671, 237.28671, 237.28671, 237.28671,\n",
              "       237.28671, 237.28671, 237.28671, 237.28671, 237.28671, 237.28671,\n",
              "       237.28671, 237.28671, 237.28671, 237.28671, 237.28671, 237.28671,\n",
              "       237.28671, 237.28671, 237.28671, 237.28671, 237.28671, 237.28671,\n",
              "       237.28671, 237.28671, 237.28671, 237.28671, 237.28671, 237.28671,\n",
              "       237.28671, 237.28671, 237.28671, 237.28671, 237.28671, 237.28671,\n",
              "       237.28671, 237.28671, 237.28671, 237.28671, 237.28671, 237.28671,\n",
              "       237.28671, 237.28671, 237.28671, 237.28671, 237.28671, 237.28671,\n",
              "       237.28671, 237.28671, 237.28671, 237.28671, 237.28671, 237.28671,\n",
              "       237.28671, 237.28671, 237.28671, 237.28671, 237.28671, 237.28671,\n",
              "       237.28671, 237.28671, 237.28671, 237.28671, 237.28671, 237.28671,\n",
              "       237.28671, 237.28671, 237.28671, 237.28671, 237.28671, 237.28671,\n",
              "       237.28671, 237.28671, 237.28671, 237.28671, 237.28671, 237.28671,\n",
              "       237.28671, 237.28671, 237.28671, 237.28671, 237.28671, 237.28671,\n",
              "       237.28671, 237.28671, 237.28671, 237.28671, 237.28671, 237.28671,\n",
              "       237.28671, 237.28671, 237.28671, 237.28671, 237.28671, 237.28671,\n",
              "       237.28671, 237.28671, 237.28671, 237.28671, 237.28671, 237.28671,\n",
              "       237.28671, 237.28671, 237.28671, 237.28671, 237.28671, 237.28671,\n",
              "       237.28671, 237.28671, 237.28671, 237.28671, 237.28671, 237.28671,\n",
              "       237.28671, 237.28671, 237.28671, 237.28671, 237.28671, 237.28671,\n",
              "       237.28671, 237.28671, 237.28671, 237.28671, 237.28671, 237.28671,\n",
              "       237.28671, 237.28671, 237.28671, 237.28671, 237.28671, 237.28671,\n",
              "       237.28671, 237.28671, 237.28671, 237.28671, 237.28671, 237.28671,\n",
              "       237.28671, 237.28671, 237.28671, 237.28671, 237.28671, 237.28671,\n",
              "       237.28671, 237.28671, 237.28671, 237.28671, 237.28671, 237.28671,\n",
              "       237.28671, 237.28671, 237.28671, 237.28671, 237.28671, 237.28671,\n",
              "       237.28671, 237.28671, 237.28671, 237.28671, 237.28671, 237.28671,\n",
              "       237.28671, 237.28671, 237.28671, 237.28671, 237.28671, 237.28671,\n",
              "       237.28671, 237.28671, 237.28671, 237.28671, 237.28671, 237.28671,\n",
              "       237.28671, 237.28671, 237.28671, 237.28671, 237.28671, 237.28671,\n",
              "       237.28671, 237.28671, 237.28671, 237.28671, 237.28671, 237.28671,\n",
              "       237.28671, 237.28671, 237.28671, 237.28671, 237.28671, 237.28671,\n",
              "       237.28671, 237.28671, 237.28671, 237.28671, 237.28671, 237.28671,\n",
              "       237.28671, 237.28671, 237.28671, 237.28671, 237.28671, 237.28671,\n",
              "       237.28671, 237.28671, 237.28671, 237.28671, 237.28671, 237.28671,\n",
              "       237.28671, 237.28671, 237.28671, 237.28671, 237.28671, 237.28671,\n",
              "       237.28671, 237.28671, 237.28671, 237.28671, 237.28671, 237.28671,\n",
              "       237.28671, 237.28671, 237.28671, 237.28671, 237.28671, 237.28671,\n",
              "       237.28671, 237.28671, 237.28671, 237.28671, 237.28671, 237.28671,\n",
              "       237.28671, 237.28671, 237.28671, 237.28671, 237.28671, 237.28671,\n",
              "       237.28671, 237.28671, 237.28671, 237.28671, 237.28671, 237.28671,\n",
              "       237.28671, 237.28671, 237.28671, 237.28671, 237.28671, 237.28671,\n",
              "       237.28671, 237.28671, 237.28671, 237.28671, 237.28671, 237.28671,\n",
              "       237.28671, 237.28671, 237.28671, 237.28671, 237.28671, 237.28671,\n",
              "       237.28671, 237.28671, 237.28671, 237.28671, 237.28671, 237.28671,\n",
              "       237.28671, 237.28671, 237.28671, 237.28671, 237.28671, 237.28671,\n",
              "       237.28671, 237.28671, 237.28671, 237.28671, 237.28671, 237.28671,\n",
              "       237.28671, 237.28671, 237.28671, 237.28671, 237.28671, 237.28671,\n",
              "       237.28671, 237.28671, 237.28671, 237.28671, 237.28671, 237.28671,\n",
              "       237.28671, 237.28671, 237.28671, 237.28671, 237.28671, 237.28671,\n",
              "       237.28671, 237.28671, 237.28671, 237.28671, 237.28671, 237.28671,\n",
              "       237.28671, 237.28671, 237.28671, 237.28671, 237.28671, 237.28671,\n",
              "       237.28671, 237.28671, 237.28671, 237.28671, 237.28671, 237.28671,\n",
              "       237.28671, 237.28671, 237.28671, 237.28671, 237.28671, 237.28671,\n",
              "       237.28671, 237.28671, 237.28671, 237.28671, 237.28671, 237.28671,\n",
              "       237.28671, 237.28671, 237.28671, 237.28671, 237.28671, 237.28671,\n",
              "       237.28671, 237.28671, 237.28671, 237.28671, 237.28671, 237.28671,\n",
              "       237.28671, 237.28671, 237.28671, 237.28671, 237.28671, 237.28671,\n",
              "       237.28671, 237.28671, 237.28671, 237.28671, 237.28671, 237.28671,\n",
              "       237.28671, 237.28671, 237.28671, 237.28671, 237.28671, 237.28671,\n",
              "       237.28671, 237.28671, 237.28671, 237.28671, 237.28671, 237.28671,\n",
              "       237.28671, 237.28671, 237.28671, 237.28671, 237.28671, 237.28671,\n",
              "       237.28671, 237.28671, 237.28671, 237.28671, 237.28671, 237.28671,\n",
              "       237.28671, 237.28671, 237.28671, 237.28671, 237.28671, 237.28671,\n",
              "       237.28671, 237.28671, 237.28671, 237.28671, 237.28671, 237.28671,\n",
              "       237.28671, 237.28671, 237.28671, 237.28671, 237.28671, 237.28671,\n",
              "       237.28671, 237.28671, 237.28671, 237.28671, 237.28671, 237.28671,\n",
              "       237.28671, 237.28671, 237.28671, 237.28671, 237.28671, 237.28671,\n",
              "       237.28671, 237.28671, 237.28671, 237.28671, 237.28671, 237.28671,\n",
              "       237.28671, 237.28671, 237.28671, 237.28671, 237.28671, 237.28671,\n",
              "       237.28671, 237.28671, 237.28671, 237.28671, 237.28671, 237.28671,\n",
              "       237.28671, 237.28671, 237.28671, 237.28671, 237.28671, 237.28671,\n",
              "       237.28671, 237.28671, 237.28671, 237.28671, 237.28671, 237.28671,\n",
              "       237.28671, 237.28671, 237.28671, 237.28671, 237.28671, 237.28671,\n",
              "       237.28671, 237.28671, 237.28671, 237.28671, 237.28671, 237.28671,\n",
              "       237.28671, 237.28671, 237.28671, 237.28671, 237.28671, 237.28671,\n",
              "       237.28671, 237.28671, 237.28671, 237.28671, 237.28671, 237.28671,\n",
              "       237.28671, 237.28671, 237.28671, 237.28671, 237.28671, 237.28671,\n",
              "       237.28671, 237.28671, 237.28671, 237.28671, 237.28671, 237.28671,\n",
              "       237.28671, 237.28671, 237.28671, 237.28671, 237.28671, 237.28671,\n",
              "       237.28671, 237.28671, 237.28671, 237.28671, 237.28671, 237.28671,\n",
              "       237.28671, 237.28671, 237.28671, 237.28671, 237.28671, 237.28671,\n",
              "       237.28671, 237.28671, 237.28671, 237.28671, 237.28671, 237.28671,\n",
              "       237.28671, 237.28671, 237.28671, 237.28671, 237.28671, 237.28671,\n",
              "       237.28671, 237.28671, 237.28671, 237.28671, 237.28671, 237.28671,\n",
              "       237.28671, 237.28671, 237.28671, 237.28671, 237.28671, 237.28671,\n",
              "       237.28671, 237.28671, 237.28671, 237.28671, 237.28671, 237.28671,\n",
              "       237.28671, 237.28671, 237.28671, 237.28671, 237.28671, 237.28671,\n",
              "       237.28671, 237.28671, 237.28671, 237.28671, 237.28671, 237.28671,\n",
              "       237.28671, 237.28671, 237.28671, 237.28671, 237.28671, 237.28671,\n",
              "       237.28671, 237.28671, 237.28671, 237.28671, 237.28671, 237.28671,\n",
              "       237.28671, 237.28671, 237.28671, 237.28671, 237.28671, 237.28671,\n",
              "       237.28671, 237.28671, 237.28671, 237.28671, 237.28671, 237.28671,\n",
              "       237.28671, 237.28671, 237.28671, 237.28671, 237.28671, 237.28671,\n",
              "       237.28671, 237.28671, 237.28671, 237.28671, 237.28671, 237.28671,\n",
              "       237.28671, 237.28671, 237.28671, 237.28671, 237.28671, 237.28671,\n",
              "       237.28671, 237.28671, 237.28671, 237.28671, 237.28671, 237.28671,\n",
              "       237.28671, 237.28671, 237.28671, 237.28671, 237.28671, 237.28671,\n",
              "       237.28671, 237.28671, 237.28671, 237.28671, 237.28671, 237.28671,\n",
              "       237.28671, 237.28671, 237.28671, 237.28671, 237.28671, 237.28671,\n",
              "       237.28671, 237.28671, 237.28671, 237.28671, 237.28671, 237.28671,\n",
              "       237.28671, 237.28671, 237.28671, 237.28671, 237.28671, 237.28671,\n",
              "       237.28671, 237.28671, 237.28671, 237.28671, 237.28671, 237.28671,\n",
              "       237.28671, 237.28671, 237.28671, 237.28671, 237.28671, 237.28671,\n",
              "       237.28671, 237.28671, 237.28671, 237.28671, 237.28671, 237.28671,\n",
              "       237.28671, 237.28671, 237.28671, 237.28671, 237.28671, 237.28671,\n",
              "       237.28671, 237.28671, 237.28671, 237.28671, 237.28671, 237.28671,\n",
              "       237.28671, 237.28671, 237.28671, 237.28671, 237.28671, 237.28671,\n",
              "       237.28671, 237.28671, 237.28671, 237.28671, 237.28671, 237.28671,\n",
              "       237.28671, 237.28671, 237.28671, 237.28671, 237.28671, 237.28671,\n",
              "       237.28671, 237.28671, 237.28671, 237.28671], dtype=float32)>"
            ]
          },
          "metadata": {
            "tags": []
          },
          "execution_count": 65
        }
      ]
    },
    {
      "cell_type": "markdown",
      "metadata": {
        "colab_type": "text",
        "id": "ZbBpnOtfT0wd"
      },
      "source": [
        "## Question 9"
      ]
    },
    {
      "cell_type": "markdown",
      "metadata": {
        "id": "bkOzAUUsTmF_",
        "colab_type": "text"
      },
      "source": [
        "### Define a function to train the model\n",
        "1.   Record all the mathematical steps to calculate Loss\n",
        "2.   Calculate Gradients of Loss w.r.t weights and bias\n",
        "3.   Update Weights and Bias based on gradients and learning rate to minimize loss"
      ]
    },
    {
      "cell_type": "code",
      "metadata": {
        "id": "2R4uieGYLYtM",
        "colab_type": "code",
        "colab": {}
      },
      "source": [
        "def train(x, y, w, b, learning_rate=0.01):          \n",
        "    # Record mathematical operations on 'tape' to calculate loss     \n",
        "    with tf.GradientTape() as t:         \n",
        "        t.watch([w,b])         \n",
        "        current_prediction = get_prediction(x, w, b)         \n",
        "        current_loss = loss(y, current_prediction)          \n",
        "        # Calculate Gradients for Loss with respect to Weights and Bias     \n",
        "    dw, db = t.gradient(current_loss,[w, b])          \n",
        "    # Update Weights and Bias     \n",
        "    w = w - learning_rate * dw     \n",
        "    b = b - learning_rate * db          \n",
        "    return w, b "
      ],
      "execution_count": 0,
      "outputs": []
    },
    {
      "cell_type": "markdown",
      "metadata": {
        "colab_type": "text",
        "id": "AW4SEP8kT2ls"
      },
      "source": [
        "## Question 10"
      ]
    },
    {
      "cell_type": "markdown",
      "metadata": {
        "id": "yeN0deOvT81N",
        "colab_type": "text"
      },
      "source": [
        "### Train the model for 100 epochs \n",
        "- Observe the training loss at every iteration"
      ]
    },
    {
      "cell_type": "code",
      "metadata": {
        "id": "Jjkn4gUgLevE",
        "colab_type": "code",
        "colab": {
          "base_uri": "https://localhost:8080/",
          "height": 1000
        },
        "outputId": "7aba37a4-2716-4061-d352-76dc06e95b58"
      },
      "source": [
        "for i in range(100):         \n",
        "    W, b = train(X_norm_tensor, y, W, b, learning_rate=0.01)     \n",
        "    pred = get_prediction(X_norm_tensor, W, b)\n",
        "    print('Current Training Loss on iteration', i, loss(y, pred))"
      ],
      "execution_count": 67,
      "outputs": [
        {
          "output_type": "stream",
          "text": [
            "Current Training Loss on iteration 0 tf.Tensor(236.16759, shape=(), dtype=float32)\n",
            "Current Training Loss on iteration 1 tf.Tensor(235.09299, shape=(), dtype=float32)\n",
            "Current Training Loss on iteration 2 tf.Tensor(234.06102, shape=(), dtype=float32)\n",
            "Current Training Loss on iteration 3 tf.Tensor(233.06998, shape=(), dtype=float32)\n",
            "Current Training Loss on iteration 4 tf.Tensor(232.11781, shape=(), dtype=float32)\n",
            "Current Training Loss on iteration 5 tf.Tensor(231.20381, shape=(), dtype=float32)\n",
            "Current Training Loss on iteration 6 tf.Tensor(230.32585, shape=(), dtype=float32)\n",
            "Current Training Loss on iteration 7 tf.Tensor(229.48265, shape=(), dtype=float32)\n",
            "Current Training Loss on iteration 8 tf.Tensor(228.67297, shape=(), dtype=float32)\n",
            "Current Training Loss on iteration 9 tf.Tensor(227.89539, shape=(), dtype=float32)\n",
            "Current Training Loss on iteration 10 tf.Tensor(227.14832, shape=(), dtype=float32)\n",
            "Current Training Loss on iteration 11 tf.Tensor(226.43114, shape=(), dtype=float32)\n",
            "Current Training Loss on iteration 12 tf.Tensor(225.74234, shape=(), dtype=float32)\n",
            "Current Training Loss on iteration 13 tf.Tensor(225.0808, shape=(), dtype=float32)\n",
            "Current Training Loss on iteration 14 tf.Tensor(224.44553, shape=(), dtype=float32)\n",
            "Current Training Loss on iteration 15 tf.Tensor(223.835, shape=(), dtype=float32)\n",
            "Current Training Loss on iteration 16 tf.Tensor(223.24931, shape=(), dtype=float32)\n",
            "Current Training Loss on iteration 17 tf.Tensor(222.68655, shape=(), dtype=float32)\n",
            "Current Training Loss on iteration 18 tf.Tensor(222.14595, shape=(), dtype=float32)\n",
            "Current Training Loss on iteration 19 tf.Tensor(221.62688, shape=(), dtype=float32)\n",
            "Current Training Loss on iteration 20 tf.Tensor(221.12842, shape=(), dtype=float32)\n",
            "Current Training Loss on iteration 21 tf.Tensor(220.6498, shape=(), dtype=float32)\n",
            "Current Training Loss on iteration 22 tf.Tensor(220.18993, shape=(), dtype=float32)\n",
            "Current Training Loss on iteration 23 tf.Tensor(219.74841, shape=(), dtype=float32)\n",
            "Current Training Loss on iteration 24 tf.Tensor(219.32425, shape=(), dtype=float32)\n",
            "Current Training Loss on iteration 25 tf.Tensor(218.91705, shape=(), dtype=float32)\n",
            "Current Training Loss on iteration 26 tf.Tensor(218.52579, shape=(), dtype=float32)\n",
            "Current Training Loss on iteration 27 tf.Tensor(218.15027, shape=(), dtype=float32)\n",
            "Current Training Loss on iteration 28 tf.Tensor(217.78957, shape=(), dtype=float32)\n",
            "Current Training Loss on iteration 29 tf.Tensor(217.44315, shape=(), dtype=float32)\n",
            "Current Training Loss on iteration 30 tf.Tensor(217.11034, shape=(), dtype=float32)\n",
            "Current Training Loss on iteration 31 tf.Tensor(216.79077, shape=(), dtype=float32)\n",
            "Current Training Loss on iteration 32 tf.Tensor(216.48412, shape=(), dtype=float32)\n",
            "Current Training Loss on iteration 33 tf.Tensor(216.18932, shape=(), dtype=float32)\n",
            "Current Training Loss on iteration 34 tf.Tensor(215.90611, shape=(), dtype=float32)\n",
            "Current Training Loss on iteration 35 tf.Tensor(215.63437, shape=(), dtype=float32)\n",
            "Current Training Loss on iteration 36 tf.Tensor(215.37334, shape=(), dtype=float32)\n",
            "Current Training Loss on iteration 37 tf.Tensor(215.12263, shape=(), dtype=float32)\n",
            "Current Training Loss on iteration 38 tf.Tensor(214.88185, shape=(), dtype=float32)\n",
            "Current Training Loss on iteration 39 tf.Tensor(214.65053, shape=(), dtype=float32)\n",
            "Current Training Loss on iteration 40 tf.Tensor(214.42859, shape=(), dtype=float32)\n",
            "Current Training Loss on iteration 41 tf.Tensor(214.21527, shape=(), dtype=float32)\n",
            "Current Training Loss on iteration 42 tf.Tensor(214.01044, shape=(), dtype=float32)\n",
            "Current Training Loss on iteration 43 tf.Tensor(213.81369, shape=(), dtype=float32)\n",
            "Current Training Loss on iteration 44 tf.Tensor(213.62482, shape=(), dtype=float32)\n",
            "Current Training Loss on iteration 45 tf.Tensor(213.44333, shape=(), dtype=float32)\n",
            "Current Training Loss on iteration 46 tf.Tensor(213.2691, shape=(), dtype=float32)\n",
            "Current Training Loss on iteration 47 tf.Tensor(213.10179, shape=(), dtype=float32)\n",
            "Current Training Loss on iteration 48 tf.Tensor(212.94106, shape=(), dtype=float32)\n",
            "Current Training Loss on iteration 49 tf.Tensor(212.78687, shape=(), dtype=float32)\n",
            "Current Training Loss on iteration 50 tf.Tensor(212.63857, shape=(), dtype=float32)\n",
            "Current Training Loss on iteration 51 tf.Tensor(212.4961, shape=(), dtype=float32)\n",
            "Current Training Loss on iteration 52 tf.Tensor(212.35948, shape=(), dtype=float32)\n",
            "Current Training Loss on iteration 53 tf.Tensor(212.22816, shape=(), dtype=float32)\n",
            "Current Training Loss on iteration 54 tf.Tensor(212.10205, shape=(), dtype=float32)\n",
            "Current Training Loss on iteration 55 tf.Tensor(211.98093, shape=(), dtype=float32)\n",
            "Current Training Loss on iteration 56 tf.Tensor(211.86461, shape=(), dtype=float32)\n",
            "Current Training Loss on iteration 57 tf.Tensor(211.75293, shape=(), dtype=float32)\n",
            "Current Training Loss on iteration 58 tf.Tensor(211.64558, shape=(), dtype=float32)\n",
            "Current Training Loss on iteration 59 tf.Tensor(211.54266, shape=(), dtype=float32)\n",
            "Current Training Loss on iteration 60 tf.Tensor(211.44374, shape=(), dtype=float32)\n",
            "Current Training Loss on iteration 61 tf.Tensor(211.34874, shape=(), dtype=float32)\n",
            "Current Training Loss on iteration 62 tf.Tensor(211.2575, shape=(), dtype=float32)\n",
            "Current Training Loss on iteration 63 tf.Tensor(211.16982, shape=(), dtype=float32)\n",
            "Current Training Loss on iteration 64 tf.Tensor(211.08572, shape=(), dtype=float32)\n",
            "Current Training Loss on iteration 65 tf.Tensor(211.00484, shape=(), dtype=float32)\n",
            "Current Training Loss on iteration 66 tf.Tensor(210.92729, shape=(), dtype=float32)\n",
            "Current Training Loss on iteration 67 tf.Tensor(210.85278, shape=(), dtype=float32)\n",
            "Current Training Loss on iteration 68 tf.Tensor(210.78104, shape=(), dtype=float32)\n",
            "Current Training Loss on iteration 69 tf.Tensor(210.71225, shape=(), dtype=float32)\n",
            "Current Training Loss on iteration 70 tf.Tensor(210.64633, shape=(), dtype=float32)\n",
            "Current Training Loss on iteration 71 tf.Tensor(210.58289, shape=(), dtype=float32)\n",
            "Current Training Loss on iteration 72 tf.Tensor(210.52199, shape=(), dtype=float32)\n",
            "Current Training Loss on iteration 73 tf.Tensor(210.46347, shape=(), dtype=float32)\n",
            "Current Training Loss on iteration 74 tf.Tensor(210.4073, shape=(), dtype=float32)\n",
            "Current Training Loss on iteration 75 tf.Tensor(210.3533, shape=(), dtype=float32)\n",
            "Current Training Loss on iteration 76 tf.Tensor(210.30153, shape=(), dtype=float32)\n",
            "Current Training Loss on iteration 77 tf.Tensor(210.2518, shape=(), dtype=float32)\n",
            "Current Training Loss on iteration 78 tf.Tensor(210.204, shape=(), dtype=float32)\n",
            "Current Training Loss on iteration 79 tf.Tensor(210.15811, shape=(), dtype=float32)\n",
            "Current Training Loss on iteration 80 tf.Tensor(210.1141, shape=(), dtype=float32)\n",
            "Current Training Loss on iteration 81 tf.Tensor(210.0717, shape=(), dtype=float32)\n",
            "Current Training Loss on iteration 82 tf.Tensor(210.03108, shape=(), dtype=float32)\n",
            "Current Training Loss on iteration 83 tf.Tensor(209.99205, shape=(), dtype=float32)\n",
            "Current Training Loss on iteration 84 tf.Tensor(209.95453, shape=(), dtype=float32)\n",
            "Current Training Loss on iteration 85 tf.Tensor(209.91852, shape=(), dtype=float32)\n",
            "Current Training Loss on iteration 86 tf.Tensor(209.88396, shape=(), dtype=float32)\n",
            "Current Training Loss on iteration 87 tf.Tensor(209.85075, shape=(), dtype=float32)\n",
            "Current Training Loss on iteration 88 tf.Tensor(209.81891, shape=(), dtype=float32)\n",
            "Current Training Loss on iteration 89 tf.Tensor(209.78818, shape=(), dtype=float32)\n",
            "Current Training Loss on iteration 90 tf.Tensor(209.75874, shape=(), dtype=float32)\n",
            "Current Training Loss on iteration 91 tf.Tensor(209.73053, shape=(), dtype=float32)\n",
            "Current Training Loss on iteration 92 tf.Tensor(209.70349, shape=(), dtype=float32)\n",
            "Current Training Loss on iteration 93 tf.Tensor(209.67744, shape=(), dtype=float32)\n",
            "Current Training Loss on iteration 94 tf.Tensor(209.65225, shape=(), dtype=float32)\n",
            "Current Training Loss on iteration 95 tf.Tensor(209.62833, shape=(), dtype=float32)\n",
            "Current Training Loss on iteration 96 tf.Tensor(209.6052, shape=(), dtype=float32)\n",
            "Current Training Loss on iteration 97 tf.Tensor(209.58302, shape=(), dtype=float32)\n",
            "Current Training Loss on iteration 98 tf.Tensor(209.56174, shape=(), dtype=float32)\n",
            "Current Training Loss on iteration 99 tf.Tensor(209.5413, shape=(), dtype=float32)\n"
          ],
          "name": "stdout"
        }
      ]
    },
    {
      "cell_type": "markdown",
      "metadata": {
        "id": "vanvD93FV0_k",
        "colab_type": "text"
      },
      "source": [
        "### Observe values of Weight\n",
        "- Print the updated values"
      ]
    },
    {
      "cell_type": "code",
      "metadata": {
        "id": "QSqpy4gtWaOD",
        "colab_type": "code",
        "colab": {
          "base_uri": "https://localhost:8080/",
          "height": 86
        },
        "outputId": "aa754f3e-a8d3-46f4-9112-3c2cc5b1fd57"
      },
      "source": [
        "print(f'W : {W.numpy()}')"
      ],
      "execution_count": 68,
      "outputs": [
        {
          "output_type": "stream",
          "text": [
            "W : [[0.0547828 ]\n",
            " [0.05488191]\n",
            " [0.05422735]\n",
            " [0.05533117]]\n"
          ],
          "name": "stdout"
        }
      ]
    },
    {
      "cell_type": "markdown",
      "metadata": {
        "colab_type": "text",
        "id": "y9KpRupYUEwy"
      },
      "source": [
        "### Observe values of Bias\n",
        "- Print the updated values"
      ]
    },
    {
      "cell_type": "code",
      "metadata": {
        "colab_type": "code",
        "id": "bhEWkGqHWohg",
        "colab": {
          "base_uri": "https://localhost:8080/",
          "height": 35
        },
        "outputId": "099ca735-ee76-4e6e-bbdf-81c8a34c00b6"
      },
      "source": [
        "print(f'b  = {b.numpy()} ')"
      ],
      "execution_count": 69,
      "outputs": [
        {
          "output_type": "stream",
          "text": [
            "b  = [4.607657] \n"
          ],
          "name": "stdout"
        }
      ]
    },
    {
      "cell_type": "code",
      "metadata": {
        "id": "8_IM6-RnQagG",
        "colab_type": "code",
        "colab": {}
      },
      "source": [
        ""
      ],
      "execution_count": 0,
      "outputs": []
    }
  ]
}