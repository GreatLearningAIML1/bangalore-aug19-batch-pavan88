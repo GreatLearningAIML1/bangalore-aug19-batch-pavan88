{
  "nbformat": 4,
  "nbformat_minor": 0,
  "metadata": {
    "colab": {
      "name": "R6_External_NN_DL.ipynb",
      "provenance": [],
      "collapsed_sections": []
    },
    "kernelspec": {
      "name": "python3",
      "display_name": "Python 3"
    },
    "accelerator": "TPU"
  },
  "cells": [
    {
      "cell_type": "code",
      "metadata": {
        "id": "dczJvLLp2aBZ",
        "colab_type": "code",
        "colab": {
          "base_uri": "https://localhost:8080/",
          "height": 52
        },
        "outputId": "523eefc4-b0da-4b88-ecad-241569d84b9b"
      },
      "source": [
        "%tensorflow_version 2.x\n",
        "import tensorflow as tf\n",
        "print(tf.__version__)\n",
        "tf.random.set_seed(42)"
      ],
      "execution_count": 1,
      "outputs": [
        {
          "output_type": "stream",
          "text": [
            "TensorFlow 2.x selected.\n",
            "2.1.0\n"
          ],
          "name": "stdout"
        }
      ]
    },
    {
      "cell_type": "code",
      "metadata": {
        "id": "scuCpXlr266M",
        "colab_type": "code",
        "colab": {}
      },
      "source": [
        "from pydrive.auth import GoogleAuth\n",
        "from pydrive.drive import GoogleDrive\n",
        "from google.colab import auth\n",
        "from oauth2client.client import GoogleCredentials"
      ],
      "execution_count": 0,
      "outputs": []
    },
    {
      "cell_type": "code",
      "metadata": {
        "id": "F7zSdqF23SAX",
        "colab_type": "code",
        "colab": {}
      },
      "source": [
        "auth.authenticate_user()\n",
        "gauth = GoogleAuth()\n",
        "gauth.credentials = GoogleCredentials.get_application_default()\n",
        "drive = GoogleDrive(gauth)"
      ],
      "execution_count": 0,
      "outputs": []
    },
    {
      "cell_type": "code",
      "metadata": {
        "id": "6xXGwNiQ3VQl",
        "colab_type": "code",
        "colab": {}
      },
      "source": [
        "downloaded = drive.CreateFile({'id':\"162CZefASHGeRruIcEZffa8AdHf7YP5K5\"})\n",
        "downloaded.GetContentFile('bank.csv')"
      ],
      "execution_count": 0,
      "outputs": []
    },
    {
      "cell_type": "code",
      "metadata": {
        "id": "-NfYoRdW3m82",
        "colab_type": "code",
        "colab": {
          "base_uri": "https://localhost:8080/",
          "height": 398
        },
        "outputId": "838a5313-4b25-4e18-b86b-ff536db59cb5"
      },
      "source": [
        "import pandas as pd\n",
        "bank_df= pd.read_csv('bank.csv', index_col= 'RowNumber')\n",
        "bank_df.head(10)"
      ],
      "execution_count": 5,
      "outputs": [
        {
          "output_type": "execute_result",
          "data": {
            "text/html": [
              "<div>\n",
              "<style scoped>\n",
              "    .dataframe tbody tr th:only-of-type {\n",
              "        vertical-align: middle;\n",
              "    }\n",
              "\n",
              "    .dataframe tbody tr th {\n",
              "        vertical-align: top;\n",
              "    }\n",
              "\n",
              "    .dataframe thead th {\n",
              "        text-align: right;\n",
              "    }\n",
              "</style>\n",
              "<table border=\"1\" class=\"dataframe\">\n",
              "  <thead>\n",
              "    <tr style=\"text-align: right;\">\n",
              "      <th></th>\n",
              "      <th>CustomerId</th>\n",
              "      <th>Surname</th>\n",
              "      <th>CreditScore</th>\n",
              "      <th>Geography</th>\n",
              "      <th>Gender</th>\n",
              "      <th>Age</th>\n",
              "      <th>Tenure</th>\n",
              "      <th>Balance</th>\n",
              "      <th>NumOfProducts</th>\n",
              "      <th>HasCrCard</th>\n",
              "      <th>IsActiveMember</th>\n",
              "      <th>EstimatedSalary</th>\n",
              "      <th>Exited</th>\n",
              "    </tr>\n",
              "    <tr>\n",
              "      <th>RowNumber</th>\n",
              "      <th></th>\n",
              "      <th></th>\n",
              "      <th></th>\n",
              "      <th></th>\n",
              "      <th></th>\n",
              "      <th></th>\n",
              "      <th></th>\n",
              "      <th></th>\n",
              "      <th></th>\n",
              "      <th></th>\n",
              "      <th></th>\n",
              "      <th></th>\n",
              "      <th></th>\n",
              "    </tr>\n",
              "  </thead>\n",
              "  <tbody>\n",
              "    <tr>\n",
              "      <th>1</th>\n",
              "      <td>15634602</td>\n",
              "      <td>Hargrave</td>\n",
              "      <td>619</td>\n",
              "      <td>France</td>\n",
              "      <td>Female</td>\n",
              "      <td>42</td>\n",
              "      <td>2</td>\n",
              "      <td>0.00</td>\n",
              "      <td>1</td>\n",
              "      <td>1</td>\n",
              "      <td>1</td>\n",
              "      <td>101348.88</td>\n",
              "      <td>1</td>\n",
              "    </tr>\n",
              "    <tr>\n",
              "      <th>2</th>\n",
              "      <td>15647311</td>\n",
              "      <td>Hill</td>\n",
              "      <td>608</td>\n",
              "      <td>Spain</td>\n",
              "      <td>Female</td>\n",
              "      <td>41</td>\n",
              "      <td>1</td>\n",
              "      <td>83807.86</td>\n",
              "      <td>1</td>\n",
              "      <td>0</td>\n",
              "      <td>1</td>\n",
              "      <td>112542.58</td>\n",
              "      <td>0</td>\n",
              "    </tr>\n",
              "    <tr>\n",
              "      <th>3</th>\n",
              "      <td>15619304</td>\n",
              "      <td>Onio</td>\n",
              "      <td>502</td>\n",
              "      <td>France</td>\n",
              "      <td>Female</td>\n",
              "      <td>42</td>\n",
              "      <td>8</td>\n",
              "      <td>159660.80</td>\n",
              "      <td>3</td>\n",
              "      <td>1</td>\n",
              "      <td>0</td>\n",
              "      <td>113931.57</td>\n",
              "      <td>1</td>\n",
              "    </tr>\n",
              "    <tr>\n",
              "      <th>4</th>\n",
              "      <td>15701354</td>\n",
              "      <td>Boni</td>\n",
              "      <td>699</td>\n",
              "      <td>France</td>\n",
              "      <td>Female</td>\n",
              "      <td>39</td>\n",
              "      <td>1</td>\n",
              "      <td>0.00</td>\n",
              "      <td>2</td>\n",
              "      <td>0</td>\n",
              "      <td>0</td>\n",
              "      <td>93826.63</td>\n",
              "      <td>0</td>\n",
              "    </tr>\n",
              "    <tr>\n",
              "      <th>5</th>\n",
              "      <td>15737888</td>\n",
              "      <td>Mitchell</td>\n",
              "      <td>850</td>\n",
              "      <td>Spain</td>\n",
              "      <td>Female</td>\n",
              "      <td>43</td>\n",
              "      <td>2</td>\n",
              "      <td>125510.82</td>\n",
              "      <td>1</td>\n",
              "      <td>1</td>\n",
              "      <td>1</td>\n",
              "      <td>79084.10</td>\n",
              "      <td>0</td>\n",
              "    </tr>\n",
              "    <tr>\n",
              "      <th>6</th>\n",
              "      <td>15574012</td>\n",
              "      <td>Chu</td>\n",
              "      <td>645</td>\n",
              "      <td>Spain</td>\n",
              "      <td>Male</td>\n",
              "      <td>44</td>\n",
              "      <td>8</td>\n",
              "      <td>113755.78</td>\n",
              "      <td>2</td>\n",
              "      <td>1</td>\n",
              "      <td>0</td>\n",
              "      <td>149756.71</td>\n",
              "      <td>1</td>\n",
              "    </tr>\n",
              "    <tr>\n",
              "      <th>7</th>\n",
              "      <td>15592531</td>\n",
              "      <td>Bartlett</td>\n",
              "      <td>822</td>\n",
              "      <td>France</td>\n",
              "      <td>Male</td>\n",
              "      <td>50</td>\n",
              "      <td>7</td>\n",
              "      <td>0.00</td>\n",
              "      <td>2</td>\n",
              "      <td>1</td>\n",
              "      <td>1</td>\n",
              "      <td>10062.80</td>\n",
              "      <td>0</td>\n",
              "    </tr>\n",
              "    <tr>\n",
              "      <th>8</th>\n",
              "      <td>15656148</td>\n",
              "      <td>Obinna</td>\n",
              "      <td>376</td>\n",
              "      <td>Germany</td>\n",
              "      <td>Female</td>\n",
              "      <td>29</td>\n",
              "      <td>4</td>\n",
              "      <td>115046.74</td>\n",
              "      <td>4</td>\n",
              "      <td>1</td>\n",
              "      <td>0</td>\n",
              "      <td>119346.88</td>\n",
              "      <td>1</td>\n",
              "    </tr>\n",
              "    <tr>\n",
              "      <th>9</th>\n",
              "      <td>15792365</td>\n",
              "      <td>He</td>\n",
              "      <td>501</td>\n",
              "      <td>France</td>\n",
              "      <td>Male</td>\n",
              "      <td>44</td>\n",
              "      <td>4</td>\n",
              "      <td>142051.07</td>\n",
              "      <td>2</td>\n",
              "      <td>0</td>\n",
              "      <td>1</td>\n",
              "      <td>74940.50</td>\n",
              "      <td>0</td>\n",
              "    </tr>\n",
              "    <tr>\n",
              "      <th>10</th>\n",
              "      <td>15592389</td>\n",
              "      <td>H?</td>\n",
              "      <td>684</td>\n",
              "      <td>France</td>\n",
              "      <td>Male</td>\n",
              "      <td>27</td>\n",
              "      <td>2</td>\n",
              "      <td>134603.88</td>\n",
              "      <td>1</td>\n",
              "      <td>1</td>\n",
              "      <td>1</td>\n",
              "      <td>71725.73</td>\n",
              "      <td>0</td>\n",
              "    </tr>\n",
              "  </tbody>\n",
              "</table>\n",
              "</div>"
            ],
            "text/plain": [
              "           CustomerId   Surname  ...  EstimatedSalary Exited\n",
              "RowNumber                        ...                        \n",
              "1            15634602  Hargrave  ...        101348.88      1\n",
              "2            15647311      Hill  ...        112542.58      0\n",
              "3            15619304      Onio  ...        113931.57      1\n",
              "4            15701354      Boni  ...         93826.63      0\n",
              "5            15737888  Mitchell  ...         79084.10      0\n",
              "6            15574012       Chu  ...        149756.71      1\n",
              "7            15592531  Bartlett  ...         10062.80      0\n",
              "8            15656148    Obinna  ...        119346.88      1\n",
              "9            15792365        He  ...         74940.50      0\n",
              "10           15592389        H?  ...         71725.73      0\n",
              "\n",
              "[10 rows x 13 columns]"
            ]
          },
          "metadata": {
            "tags": []
          },
          "execution_count": 5
        }
      ]
    },
    {
      "cell_type": "code",
      "metadata": {
        "id": "DV55EotY3s_O",
        "colab_type": "code",
        "colab": {
          "base_uri": "https://localhost:8080/",
          "height": 259
        },
        "outputId": "efd792c9-51f6-4fe1-96d3-b50bece79c93"
      },
      "source": [
        "bank_df.dtypes"
      ],
      "execution_count": 6,
      "outputs": [
        {
          "output_type": "execute_result",
          "data": {
            "text/plain": [
              "CustomerId           int64\n",
              "Surname             object\n",
              "CreditScore          int64\n",
              "Geography           object\n",
              "Gender              object\n",
              "Age                  int64\n",
              "Tenure               int64\n",
              "Balance            float64\n",
              "NumOfProducts        int64\n",
              "HasCrCard            int64\n",
              "IsActiveMember       int64\n",
              "EstimatedSalary    float64\n",
              "Exited               int64\n",
              "dtype: object"
            ]
          },
          "metadata": {
            "tags": []
          },
          "execution_count": 6
        }
      ]
    },
    {
      "cell_type": "code",
      "metadata": {
        "id": "THwvygA93yoJ",
        "colab_type": "code",
        "colab": {
          "base_uri": "https://localhost:8080/",
          "height": 259
        },
        "outputId": "cb5046fe-707a-457f-d8db-d88dfd03c6b3"
      },
      "source": [
        "bank_df.isnull().sum()"
      ],
      "execution_count": 7,
      "outputs": [
        {
          "output_type": "execute_result",
          "data": {
            "text/plain": [
              "CustomerId         0\n",
              "Surname            0\n",
              "CreditScore        0\n",
              "Geography          0\n",
              "Gender             0\n",
              "Age                0\n",
              "Tenure             0\n",
              "Balance            0\n",
              "NumOfProducts      0\n",
              "HasCrCard          0\n",
              "IsActiveMember     0\n",
              "EstimatedSalary    0\n",
              "Exited             0\n",
              "dtype: int64"
            ]
          },
          "metadata": {
            "tags": []
          },
          "execution_count": 7
        }
      ]
    },
    {
      "cell_type": "code",
      "metadata": {
        "id": "CB9HPoZv39L8",
        "colab_type": "code",
        "colab": {
          "base_uri": "https://localhost:8080/",
          "height": 328
        },
        "outputId": "711faa35-b03b-46bc-c03a-b41a8961a48e"
      },
      "source": [
        "bank_df.info()"
      ],
      "execution_count": 8,
      "outputs": [
        {
          "output_type": "stream",
          "text": [
            "<class 'pandas.core.frame.DataFrame'>\n",
            "Int64Index: 10000 entries, 1 to 10000\n",
            "Data columns (total 13 columns):\n",
            "CustomerId         10000 non-null int64\n",
            "Surname            10000 non-null object\n",
            "CreditScore        10000 non-null int64\n",
            "Geography          10000 non-null object\n",
            "Gender             10000 non-null object\n",
            "Age                10000 non-null int64\n",
            "Tenure             10000 non-null int64\n",
            "Balance            10000 non-null float64\n",
            "NumOfProducts      10000 non-null int64\n",
            "HasCrCard          10000 non-null int64\n",
            "IsActiveMember     10000 non-null int64\n",
            "EstimatedSalary    10000 non-null float64\n",
            "Exited             10000 non-null int64\n",
            "dtypes: float64(2), int64(8), object(3)\n",
            "memory usage: 1.1+ MB\n"
          ],
          "name": "stdout"
        }
      ]
    },
    {
      "cell_type": "code",
      "metadata": {
        "id": "uViVjscs30nW",
        "colab_type": "code",
        "colab": {
          "base_uri": "https://localhost:8080/",
          "height": 348
        },
        "outputId": "42999fd2-4545-4cc0-f66f-d55485ebe384"
      },
      "source": [
        "bank_df.describe().transpose()"
      ],
      "execution_count": 9,
      "outputs": [
        {
          "output_type": "execute_result",
          "data": {
            "text/html": [
              "<div>\n",
              "<style scoped>\n",
              "    .dataframe tbody tr th:only-of-type {\n",
              "        vertical-align: middle;\n",
              "    }\n",
              "\n",
              "    .dataframe tbody tr th {\n",
              "        vertical-align: top;\n",
              "    }\n",
              "\n",
              "    .dataframe thead th {\n",
              "        text-align: right;\n",
              "    }\n",
              "</style>\n",
              "<table border=\"1\" class=\"dataframe\">\n",
              "  <thead>\n",
              "    <tr style=\"text-align: right;\">\n",
              "      <th></th>\n",
              "      <th>count</th>\n",
              "      <th>mean</th>\n",
              "      <th>std</th>\n",
              "      <th>min</th>\n",
              "      <th>25%</th>\n",
              "      <th>50%</th>\n",
              "      <th>75%</th>\n",
              "      <th>max</th>\n",
              "    </tr>\n",
              "  </thead>\n",
              "  <tbody>\n",
              "    <tr>\n",
              "      <th>CustomerId</th>\n",
              "      <td>10000.0</td>\n",
              "      <td>1.569094e+07</td>\n",
              "      <td>71936.186123</td>\n",
              "      <td>15565701.00</td>\n",
              "      <td>15628528.25</td>\n",
              "      <td>1.569074e+07</td>\n",
              "      <td>1.575323e+07</td>\n",
              "      <td>15815690.00</td>\n",
              "    </tr>\n",
              "    <tr>\n",
              "      <th>CreditScore</th>\n",
              "      <td>10000.0</td>\n",
              "      <td>6.505288e+02</td>\n",
              "      <td>96.653299</td>\n",
              "      <td>350.00</td>\n",
              "      <td>584.00</td>\n",
              "      <td>6.520000e+02</td>\n",
              "      <td>7.180000e+02</td>\n",
              "      <td>850.00</td>\n",
              "    </tr>\n",
              "    <tr>\n",
              "      <th>Age</th>\n",
              "      <td>10000.0</td>\n",
              "      <td>3.892180e+01</td>\n",
              "      <td>10.487806</td>\n",
              "      <td>18.00</td>\n",
              "      <td>32.00</td>\n",
              "      <td>3.700000e+01</td>\n",
              "      <td>4.400000e+01</td>\n",
              "      <td>92.00</td>\n",
              "    </tr>\n",
              "    <tr>\n",
              "      <th>Tenure</th>\n",
              "      <td>10000.0</td>\n",
              "      <td>5.012800e+00</td>\n",
              "      <td>2.892174</td>\n",
              "      <td>0.00</td>\n",
              "      <td>3.00</td>\n",
              "      <td>5.000000e+00</td>\n",
              "      <td>7.000000e+00</td>\n",
              "      <td>10.00</td>\n",
              "    </tr>\n",
              "    <tr>\n",
              "      <th>Balance</th>\n",
              "      <td>10000.0</td>\n",
              "      <td>7.648589e+04</td>\n",
              "      <td>62397.405202</td>\n",
              "      <td>0.00</td>\n",
              "      <td>0.00</td>\n",
              "      <td>9.719854e+04</td>\n",
              "      <td>1.276442e+05</td>\n",
              "      <td>250898.09</td>\n",
              "    </tr>\n",
              "    <tr>\n",
              "      <th>NumOfProducts</th>\n",
              "      <td>10000.0</td>\n",
              "      <td>1.530200e+00</td>\n",
              "      <td>0.581654</td>\n",
              "      <td>1.00</td>\n",
              "      <td>1.00</td>\n",
              "      <td>1.000000e+00</td>\n",
              "      <td>2.000000e+00</td>\n",
              "      <td>4.00</td>\n",
              "    </tr>\n",
              "    <tr>\n",
              "      <th>HasCrCard</th>\n",
              "      <td>10000.0</td>\n",
              "      <td>7.055000e-01</td>\n",
              "      <td>0.455840</td>\n",
              "      <td>0.00</td>\n",
              "      <td>0.00</td>\n",
              "      <td>1.000000e+00</td>\n",
              "      <td>1.000000e+00</td>\n",
              "      <td>1.00</td>\n",
              "    </tr>\n",
              "    <tr>\n",
              "      <th>IsActiveMember</th>\n",
              "      <td>10000.0</td>\n",
              "      <td>5.151000e-01</td>\n",
              "      <td>0.499797</td>\n",
              "      <td>0.00</td>\n",
              "      <td>0.00</td>\n",
              "      <td>1.000000e+00</td>\n",
              "      <td>1.000000e+00</td>\n",
              "      <td>1.00</td>\n",
              "    </tr>\n",
              "    <tr>\n",
              "      <th>EstimatedSalary</th>\n",
              "      <td>10000.0</td>\n",
              "      <td>1.000902e+05</td>\n",
              "      <td>57510.492818</td>\n",
              "      <td>11.58</td>\n",
              "      <td>51002.11</td>\n",
              "      <td>1.001939e+05</td>\n",
              "      <td>1.493882e+05</td>\n",
              "      <td>199992.48</td>\n",
              "    </tr>\n",
              "    <tr>\n",
              "      <th>Exited</th>\n",
              "      <td>10000.0</td>\n",
              "      <td>2.037000e-01</td>\n",
              "      <td>0.402769</td>\n",
              "      <td>0.00</td>\n",
              "      <td>0.00</td>\n",
              "      <td>0.000000e+00</td>\n",
              "      <td>0.000000e+00</td>\n",
              "      <td>1.00</td>\n",
              "    </tr>\n",
              "  </tbody>\n",
              "</table>\n",
              "</div>"
            ],
            "text/plain": [
              "                   count          mean  ...           75%          max\n",
              "CustomerId       10000.0  1.569094e+07  ...  1.575323e+07  15815690.00\n",
              "CreditScore      10000.0  6.505288e+02  ...  7.180000e+02       850.00\n",
              "Age              10000.0  3.892180e+01  ...  4.400000e+01        92.00\n",
              "Tenure           10000.0  5.012800e+00  ...  7.000000e+00        10.00\n",
              "Balance          10000.0  7.648589e+04  ...  1.276442e+05    250898.09\n",
              "NumOfProducts    10000.0  1.530200e+00  ...  2.000000e+00         4.00\n",
              "HasCrCard        10000.0  7.055000e-01  ...  1.000000e+00         1.00\n",
              "IsActiveMember   10000.0  5.151000e-01  ...  1.000000e+00         1.00\n",
              "EstimatedSalary  10000.0  1.000902e+05  ...  1.493882e+05    199992.48\n",
              "Exited           10000.0  2.037000e-01  ...  0.000000e+00         1.00\n",
              "\n",
              "[10 rows x 8 columns]"
            ]
          },
          "metadata": {
            "tags": []
          },
          "execution_count": 9
        }
      ]
    },
    {
      "cell_type": "markdown",
      "metadata": {
        "id": "7IX5SW-G1PUs",
        "colab_type": "text"
      },
      "source": [
        "EDA:-\n",
        "1. There are 10,000 entries in the dataset\n",
        "2. It has both Categorical and Numeric dataset\n",
        "3. So its Manadatory to conver the dataset gender and geography\n",
        "4. We have to drop Customer ID and Surname as there is no imapact of the dataset\n",
        "5. There are no null or NA entires\n",
        "6. Exited the target column"
      ]
    },
    {
      "cell_type": "markdown",
      "metadata": {
        "id": "IilCQ8G44Gil",
        "colab_type": "text"
      },
      "source": [
        "Q2\n",
        "Drop the columns which are unique for all users like IDs "
      ]
    },
    {
      "cell_type": "code",
      "metadata": {
        "id": "dasDpypf4Idt",
        "colab_type": "code",
        "colab": {}
      },
      "source": [
        "bank_df =bank_df.drop(['CustomerId','Surname'],axis=1)"
      ],
      "execution_count": 0,
      "outputs": []
    },
    {
      "cell_type": "code",
      "metadata": {
        "id": "yqOzUNuO4Kum",
        "colab_type": "code",
        "colab": {
          "base_uri": "https://localhost:8080/",
          "height": 69
        },
        "outputId": "025dae3d-ffa4-41bf-8c4b-e2ef3d215a68"
      },
      "source": [
        "bank_df['Gender'].value_counts()"
      ],
      "execution_count": 11,
      "outputs": [
        {
          "output_type": "execute_result",
          "data": {
            "text/plain": [
              "Male      5457\n",
              "Female    4543\n",
              "Name: Gender, dtype: int64"
            ]
          },
          "metadata": {
            "tags": []
          },
          "execution_count": 11
        }
      ]
    },
    {
      "cell_type": "code",
      "metadata": {
        "id": "XdUf91af6H3g",
        "colab_type": "code",
        "colab": {
          "base_uri": "https://localhost:8080/",
          "height": 86
        },
        "outputId": "beb89396-d30a-43ca-b89e-bc18221866e6"
      },
      "source": [
        "bank_df['Geography'].value_counts()"
      ],
      "execution_count": 12,
      "outputs": [
        {
          "output_type": "execute_result",
          "data": {
            "text/plain": [
              "France     5014\n",
              "Germany    2509\n",
              "Spain      2477\n",
              "Name: Geography, dtype: int64"
            ]
          },
          "metadata": {
            "tags": []
          },
          "execution_count": 12
        }
      ]
    },
    {
      "cell_type": "code",
      "metadata": {
        "id": "RMQVcXiV6Zb_",
        "colab_type": "code",
        "colab": {
          "base_uri": "https://localhost:8080/",
          "height": 248
        },
        "outputId": "472fc3dc-eddb-4b8a-cdb2-e78ff978c7bf"
      },
      "source": [
        "bank_df.head(5)"
      ],
      "execution_count": 13,
      "outputs": [
        {
          "output_type": "execute_result",
          "data": {
            "text/html": [
              "<div>\n",
              "<style scoped>\n",
              "    .dataframe tbody tr th:only-of-type {\n",
              "        vertical-align: middle;\n",
              "    }\n",
              "\n",
              "    .dataframe tbody tr th {\n",
              "        vertical-align: top;\n",
              "    }\n",
              "\n",
              "    .dataframe thead th {\n",
              "        text-align: right;\n",
              "    }\n",
              "</style>\n",
              "<table border=\"1\" class=\"dataframe\">\n",
              "  <thead>\n",
              "    <tr style=\"text-align: right;\">\n",
              "      <th></th>\n",
              "      <th>CreditScore</th>\n",
              "      <th>Geography</th>\n",
              "      <th>Gender</th>\n",
              "      <th>Age</th>\n",
              "      <th>Tenure</th>\n",
              "      <th>Balance</th>\n",
              "      <th>NumOfProducts</th>\n",
              "      <th>HasCrCard</th>\n",
              "      <th>IsActiveMember</th>\n",
              "      <th>EstimatedSalary</th>\n",
              "      <th>Exited</th>\n",
              "    </tr>\n",
              "    <tr>\n",
              "      <th>RowNumber</th>\n",
              "      <th></th>\n",
              "      <th></th>\n",
              "      <th></th>\n",
              "      <th></th>\n",
              "      <th></th>\n",
              "      <th></th>\n",
              "      <th></th>\n",
              "      <th></th>\n",
              "      <th></th>\n",
              "      <th></th>\n",
              "      <th></th>\n",
              "    </tr>\n",
              "  </thead>\n",
              "  <tbody>\n",
              "    <tr>\n",
              "      <th>1</th>\n",
              "      <td>619</td>\n",
              "      <td>France</td>\n",
              "      <td>Female</td>\n",
              "      <td>42</td>\n",
              "      <td>2</td>\n",
              "      <td>0.00</td>\n",
              "      <td>1</td>\n",
              "      <td>1</td>\n",
              "      <td>1</td>\n",
              "      <td>101348.88</td>\n",
              "      <td>1</td>\n",
              "    </tr>\n",
              "    <tr>\n",
              "      <th>2</th>\n",
              "      <td>608</td>\n",
              "      <td>Spain</td>\n",
              "      <td>Female</td>\n",
              "      <td>41</td>\n",
              "      <td>1</td>\n",
              "      <td>83807.86</td>\n",
              "      <td>1</td>\n",
              "      <td>0</td>\n",
              "      <td>1</td>\n",
              "      <td>112542.58</td>\n",
              "      <td>0</td>\n",
              "    </tr>\n",
              "    <tr>\n",
              "      <th>3</th>\n",
              "      <td>502</td>\n",
              "      <td>France</td>\n",
              "      <td>Female</td>\n",
              "      <td>42</td>\n",
              "      <td>8</td>\n",
              "      <td>159660.80</td>\n",
              "      <td>3</td>\n",
              "      <td>1</td>\n",
              "      <td>0</td>\n",
              "      <td>113931.57</td>\n",
              "      <td>1</td>\n",
              "    </tr>\n",
              "    <tr>\n",
              "      <th>4</th>\n",
              "      <td>699</td>\n",
              "      <td>France</td>\n",
              "      <td>Female</td>\n",
              "      <td>39</td>\n",
              "      <td>1</td>\n",
              "      <td>0.00</td>\n",
              "      <td>2</td>\n",
              "      <td>0</td>\n",
              "      <td>0</td>\n",
              "      <td>93826.63</td>\n",
              "      <td>0</td>\n",
              "    </tr>\n",
              "    <tr>\n",
              "      <th>5</th>\n",
              "      <td>850</td>\n",
              "      <td>Spain</td>\n",
              "      <td>Female</td>\n",
              "      <td>43</td>\n",
              "      <td>2</td>\n",
              "      <td>125510.82</td>\n",
              "      <td>1</td>\n",
              "      <td>1</td>\n",
              "      <td>1</td>\n",
              "      <td>79084.10</td>\n",
              "      <td>0</td>\n",
              "    </tr>\n",
              "  </tbody>\n",
              "</table>\n",
              "</div>"
            ],
            "text/plain": [
              "           CreditScore Geography  ... EstimatedSalary  Exited\n",
              "RowNumber                         ...                        \n",
              "1                  619    France  ...       101348.88       1\n",
              "2                  608     Spain  ...       112542.58       0\n",
              "3                  502    France  ...       113931.57       1\n",
              "4                  699    France  ...        93826.63       0\n",
              "5                  850     Spain  ...        79084.10       0\n",
              "\n",
              "[5 rows x 11 columns]"
            ]
          },
          "metadata": {
            "tags": []
          },
          "execution_count": 13
        }
      ]
    },
    {
      "cell_type": "code",
      "metadata": {
        "id": "aLZIPNjm4O6y",
        "colab_type": "code",
        "colab": {}
      },
      "source": [
        "from sklearn.preprocessing import LabelEncoder\n",
        "encoder = LabelEncoder()\n",
        "bank_df['Geography_cat'] = encoder.fit_transform(bank_df['Geography'])\n",
        "bank_df['Gender_cat'] = encoder.fit_transform(bank_df['Gender'])"
      ],
      "execution_count": 0,
      "outputs": []
    },
    {
      "cell_type": "code",
      "metadata": {
        "id": "MziWPcRw5Qln",
        "colab_type": "code",
        "colab": {
          "base_uri": "https://localhost:8080/",
          "height": 457
        },
        "outputId": "e143b080-c313-4ce6-8077-3f29649da113"
      },
      "source": [
        "bank_df"
      ],
      "execution_count": 15,
      "outputs": [
        {
          "output_type": "execute_result",
          "data": {
            "text/html": [
              "<div>\n",
              "<style scoped>\n",
              "    .dataframe tbody tr th:only-of-type {\n",
              "        vertical-align: middle;\n",
              "    }\n",
              "\n",
              "    .dataframe tbody tr th {\n",
              "        vertical-align: top;\n",
              "    }\n",
              "\n",
              "    .dataframe thead th {\n",
              "        text-align: right;\n",
              "    }\n",
              "</style>\n",
              "<table border=\"1\" class=\"dataframe\">\n",
              "  <thead>\n",
              "    <tr style=\"text-align: right;\">\n",
              "      <th></th>\n",
              "      <th>CreditScore</th>\n",
              "      <th>Geography</th>\n",
              "      <th>Gender</th>\n",
              "      <th>Age</th>\n",
              "      <th>Tenure</th>\n",
              "      <th>Balance</th>\n",
              "      <th>NumOfProducts</th>\n",
              "      <th>HasCrCard</th>\n",
              "      <th>IsActiveMember</th>\n",
              "      <th>EstimatedSalary</th>\n",
              "      <th>Exited</th>\n",
              "      <th>Geography_cat</th>\n",
              "      <th>Gender_cat</th>\n",
              "    </tr>\n",
              "    <tr>\n",
              "      <th>RowNumber</th>\n",
              "      <th></th>\n",
              "      <th></th>\n",
              "      <th></th>\n",
              "      <th></th>\n",
              "      <th></th>\n",
              "      <th></th>\n",
              "      <th></th>\n",
              "      <th></th>\n",
              "      <th></th>\n",
              "      <th></th>\n",
              "      <th></th>\n",
              "      <th></th>\n",
              "      <th></th>\n",
              "    </tr>\n",
              "  </thead>\n",
              "  <tbody>\n",
              "    <tr>\n",
              "      <th>1</th>\n",
              "      <td>619</td>\n",
              "      <td>France</td>\n",
              "      <td>Female</td>\n",
              "      <td>42</td>\n",
              "      <td>2</td>\n",
              "      <td>0.00</td>\n",
              "      <td>1</td>\n",
              "      <td>1</td>\n",
              "      <td>1</td>\n",
              "      <td>101348.88</td>\n",
              "      <td>1</td>\n",
              "      <td>0</td>\n",
              "      <td>0</td>\n",
              "    </tr>\n",
              "    <tr>\n",
              "      <th>2</th>\n",
              "      <td>608</td>\n",
              "      <td>Spain</td>\n",
              "      <td>Female</td>\n",
              "      <td>41</td>\n",
              "      <td>1</td>\n",
              "      <td>83807.86</td>\n",
              "      <td>1</td>\n",
              "      <td>0</td>\n",
              "      <td>1</td>\n",
              "      <td>112542.58</td>\n",
              "      <td>0</td>\n",
              "      <td>2</td>\n",
              "      <td>0</td>\n",
              "    </tr>\n",
              "    <tr>\n",
              "      <th>3</th>\n",
              "      <td>502</td>\n",
              "      <td>France</td>\n",
              "      <td>Female</td>\n",
              "      <td>42</td>\n",
              "      <td>8</td>\n",
              "      <td>159660.80</td>\n",
              "      <td>3</td>\n",
              "      <td>1</td>\n",
              "      <td>0</td>\n",
              "      <td>113931.57</td>\n",
              "      <td>1</td>\n",
              "      <td>0</td>\n",
              "      <td>0</td>\n",
              "    </tr>\n",
              "    <tr>\n",
              "      <th>4</th>\n",
              "      <td>699</td>\n",
              "      <td>France</td>\n",
              "      <td>Female</td>\n",
              "      <td>39</td>\n",
              "      <td>1</td>\n",
              "      <td>0.00</td>\n",
              "      <td>2</td>\n",
              "      <td>0</td>\n",
              "      <td>0</td>\n",
              "      <td>93826.63</td>\n",
              "      <td>0</td>\n",
              "      <td>0</td>\n",
              "      <td>0</td>\n",
              "    </tr>\n",
              "    <tr>\n",
              "      <th>5</th>\n",
              "      <td>850</td>\n",
              "      <td>Spain</td>\n",
              "      <td>Female</td>\n",
              "      <td>43</td>\n",
              "      <td>2</td>\n",
              "      <td>125510.82</td>\n",
              "      <td>1</td>\n",
              "      <td>1</td>\n",
              "      <td>1</td>\n",
              "      <td>79084.10</td>\n",
              "      <td>0</td>\n",
              "      <td>2</td>\n",
              "      <td>0</td>\n",
              "    </tr>\n",
              "    <tr>\n",
              "      <th>...</th>\n",
              "      <td>...</td>\n",
              "      <td>...</td>\n",
              "      <td>...</td>\n",
              "      <td>...</td>\n",
              "      <td>...</td>\n",
              "      <td>...</td>\n",
              "      <td>...</td>\n",
              "      <td>...</td>\n",
              "      <td>...</td>\n",
              "      <td>...</td>\n",
              "      <td>...</td>\n",
              "      <td>...</td>\n",
              "      <td>...</td>\n",
              "    </tr>\n",
              "    <tr>\n",
              "      <th>9996</th>\n",
              "      <td>771</td>\n",
              "      <td>France</td>\n",
              "      <td>Male</td>\n",
              "      <td>39</td>\n",
              "      <td>5</td>\n",
              "      <td>0.00</td>\n",
              "      <td>2</td>\n",
              "      <td>1</td>\n",
              "      <td>0</td>\n",
              "      <td>96270.64</td>\n",
              "      <td>0</td>\n",
              "      <td>0</td>\n",
              "      <td>1</td>\n",
              "    </tr>\n",
              "    <tr>\n",
              "      <th>9997</th>\n",
              "      <td>516</td>\n",
              "      <td>France</td>\n",
              "      <td>Male</td>\n",
              "      <td>35</td>\n",
              "      <td>10</td>\n",
              "      <td>57369.61</td>\n",
              "      <td>1</td>\n",
              "      <td>1</td>\n",
              "      <td>1</td>\n",
              "      <td>101699.77</td>\n",
              "      <td>0</td>\n",
              "      <td>0</td>\n",
              "      <td>1</td>\n",
              "    </tr>\n",
              "    <tr>\n",
              "      <th>9998</th>\n",
              "      <td>709</td>\n",
              "      <td>France</td>\n",
              "      <td>Female</td>\n",
              "      <td>36</td>\n",
              "      <td>7</td>\n",
              "      <td>0.00</td>\n",
              "      <td>1</td>\n",
              "      <td>0</td>\n",
              "      <td>1</td>\n",
              "      <td>42085.58</td>\n",
              "      <td>1</td>\n",
              "      <td>0</td>\n",
              "      <td>0</td>\n",
              "    </tr>\n",
              "    <tr>\n",
              "      <th>9999</th>\n",
              "      <td>772</td>\n",
              "      <td>Germany</td>\n",
              "      <td>Male</td>\n",
              "      <td>42</td>\n",
              "      <td>3</td>\n",
              "      <td>75075.31</td>\n",
              "      <td>2</td>\n",
              "      <td>1</td>\n",
              "      <td>0</td>\n",
              "      <td>92888.52</td>\n",
              "      <td>1</td>\n",
              "      <td>1</td>\n",
              "      <td>1</td>\n",
              "    </tr>\n",
              "    <tr>\n",
              "      <th>10000</th>\n",
              "      <td>792</td>\n",
              "      <td>France</td>\n",
              "      <td>Female</td>\n",
              "      <td>28</td>\n",
              "      <td>4</td>\n",
              "      <td>130142.79</td>\n",
              "      <td>1</td>\n",
              "      <td>1</td>\n",
              "      <td>0</td>\n",
              "      <td>38190.78</td>\n",
              "      <td>0</td>\n",
              "      <td>0</td>\n",
              "      <td>0</td>\n",
              "    </tr>\n",
              "  </tbody>\n",
              "</table>\n",
              "<p>10000 rows × 13 columns</p>\n",
              "</div>"
            ],
            "text/plain": [
              "           CreditScore Geography  Gender  ...  Exited  Geography_cat  Gender_cat\n",
              "RowNumber                                 ...                                   \n",
              "1                  619    France  Female  ...       1              0           0\n",
              "2                  608     Spain  Female  ...       0              2           0\n",
              "3                  502    France  Female  ...       1              0           0\n",
              "4                  699    France  Female  ...       0              0           0\n",
              "5                  850     Spain  Female  ...       0              2           0\n",
              "...                ...       ...     ...  ...     ...            ...         ...\n",
              "9996               771    France    Male  ...       0              0           1\n",
              "9997               516    France    Male  ...       0              0           1\n",
              "9998               709    France  Female  ...       1              0           0\n",
              "9999               772   Germany    Male  ...       1              1           1\n",
              "10000              792    France  Female  ...       0              0           0\n",
              "\n",
              "[10000 rows x 13 columns]"
            ]
          },
          "metadata": {
            "tags": []
          },
          "execution_count": 15
        }
      ]
    },
    {
      "cell_type": "code",
      "metadata": {
        "id": "fCesWd2K5V1z",
        "colab_type": "code",
        "colab": {
          "base_uri": "https://localhost:8080/",
          "height": 259
        },
        "outputId": "4b8b8eb2-0c5a-4112-86b4-c019161f8335"
      },
      "source": [
        "bank_df[bank_df['Balance']==0.0].count()"
      ],
      "execution_count": 16,
      "outputs": [
        {
          "output_type": "execute_result",
          "data": {
            "text/plain": [
              "CreditScore        3617\n",
              "Geography          3617\n",
              "Gender             3617\n",
              "Age                3617\n",
              "Tenure             3617\n",
              "Balance            3617\n",
              "NumOfProducts      3617\n",
              "HasCrCard          3617\n",
              "IsActiveMember     3617\n",
              "EstimatedSalary    3617\n",
              "Exited             3617\n",
              "Geography_cat      3617\n",
              "Gender_cat         3617\n",
              "dtype: int64"
            ]
          },
          "metadata": {
            "tags": []
          },
          "execution_count": 16
        }
      ]
    },
    {
      "cell_type": "code",
      "metadata": {
        "id": "tbyHWjlb7dQN",
        "colab_type": "code",
        "colab": {
          "base_uri": "https://localhost:8080/",
          "height": 69
        },
        "outputId": "162eb9ed-db0a-47d0-909e-46f133a560ee"
      },
      "source": [
        "bank_df['Exited'].value_counts()"
      ],
      "execution_count": 17,
      "outputs": [
        {
          "output_type": "execute_result",
          "data": {
            "text/plain": [
              "0    7963\n",
              "1    2037\n",
              "Name: Exited, dtype: int64"
            ]
          },
          "metadata": {
            "tags": []
          },
          "execution_count": 17
        }
      ]
    },
    {
      "cell_type": "markdown",
      "metadata": {
        "id": "Q4KP5aL_7oW_",
        "colab_type": "text"
      },
      "source": [
        "Q3 Distinguish the feature and target set"
      ]
    },
    {
      "cell_type": "markdown",
      "metadata": {
        "id": "LB_zibQuzIKB",
        "colab_type": "text"
      },
      "source": [
        "We will be dropping the Gender and Geography column because we have converted using Labelencoding. Hence dropping the original columns"
      ]
    },
    {
      "cell_type": "code",
      "metadata": {
        "id": "jP6RJjVL7g3i",
        "colab_type": "code",
        "colab": {}
      },
      "source": [
        "X = bank_df.drop(['Exited','Gender','Geography'],axis=1) # Credit Score through Estimated Salary - features , Dropping Categorical values like Gender , Geography and dropping target column\n",
        "y = bank_df['Exited'] # Exited target"
      ],
      "execution_count": 0,
      "outputs": []
    },
    {
      "cell_type": "code",
      "metadata": {
        "id": "iIrRK_yl70Np",
        "colab_type": "code",
        "colab": {
          "base_uri": "https://localhost:8080/",
          "height": 52
        },
        "outputId": "f7ad7bc8-6a3b-48d5-9e59-3f881056adac"
      },
      "source": [
        "print(X.shape)\n",
        "print(y.shape)"
      ],
      "execution_count": 19,
      "outputs": [
        {
          "output_type": "stream",
          "text": [
            "(10000, 10)\n",
            "(10000,)\n"
          ],
          "name": "stdout"
        }
      ]
    },
    {
      "cell_type": "markdown",
      "metadata": {
        "id": "-ocb67OPzYi7",
        "colab_type": "text"
      },
      "source": [
        "Q4.Divide the data set into training and test sets"
      ]
    },
    {
      "cell_type": "code",
      "metadata": {
        "id": "ok_GeBI579_O",
        "colab_type": "code",
        "colab": {
          "base_uri": "https://localhost:8080/",
          "height": 86
        },
        "outputId": "678dbade-157f-445d-cfac-3ecead585c68"
      },
      "source": [
        "from sklearn.model_selection import train_test_split\n",
        "X_train, X_test, y_train, y_test = train_test_split(X,y, test_size = 0.2, random_state = 42)\n",
        "\n",
        "print(\"Number transactions X_train dataset: \", X_train.shape)\n",
        "print(\"Number transactions y_train dataset: \", y_train.shape)\n",
        "print(\"Number transactions X_test dataset: \", X_test.shape)\n",
        "print(\"Number transactions y_test dataset: \", y_test.shape)"
      ],
      "execution_count": 20,
      "outputs": [
        {
          "output_type": "stream",
          "text": [
            "Number transactions X_train dataset:  (8000, 10)\n",
            "Number transactions y_train dataset:  (8000,)\n",
            "Number transactions X_test dataset:  (2000, 10)\n",
            "Number transactions y_test dataset:  (2000,)\n"
          ],
          "name": "stdout"
        }
      ]
    },
    {
      "cell_type": "markdown",
      "metadata": {
        "id": "-MdCLdKO8OzQ",
        "colab_type": "text"
      },
      "source": [
        "Q5 Normalize the train and test data"
      ]
    },
    {
      "cell_type": "code",
      "metadata": {
        "id": "sMtVWc0k8ex5",
        "colab_type": "code",
        "colab": {}
      },
      "source": [
        "from sklearn.preprocessing import StandardScaler\n",
        "sc = StandardScaler()\n",
        "X_train = sc.fit_transform(X_train)\n",
        "X_test = sc.transform(X_test)\n"
      ],
      "execution_count": 0,
      "outputs": []
    },
    {
      "cell_type": "markdown",
      "metadata": {
        "id": "t-prz3R98wdn",
        "colab_type": "text"
      },
      "source": [
        "Q6 Initialize & build the model "
      ]
    },
    {
      "cell_type": "code",
      "metadata": {
        "id": "YaxHe5T28v3t",
        "colab_type": "code",
        "colab": {
          "base_uri": "https://localhost:8080/",
          "height": 35
        },
        "outputId": "f38907ab-7a9f-42d8-c1dc-cec1f6d7bc89"
      },
      "source": [
        "\n",
        "import keras\n",
        "import tensorflow as tf\n",
        "\n",
        "model = tf.keras.models.Sequential()\n",
        "\n",
        "model.add(tf.keras.layers.Dense(activation = 'relu', input_dim = 10, units=6, kernel_initializer='uniform'))\n",
        "model.add(tf.keras.layers.Dense(activation = 'relu', units=6, kernel_initializer='uniform')) \n",
        "model.add(tf.keras.layers.Dense(activation = 'sigmoid', units=1, kernel_initializer='uniform')) \n",
        "\n",
        "from keras import optimizers\n",
        "sgd = tf.keras.optimizers.SGD(lr=0.03)"
      ],
      "execution_count": 22,
      "outputs": [
        {
          "output_type": "stream",
          "text": [
            "Using TensorFlow backend.\n"
          ],
          "name": "stderr"
        }
      ]
    },
    {
      "cell_type": "markdown",
      "metadata": {
        "id": "5gq9i8yb87wq",
        "colab_type": "text"
      },
      "source": [
        "Q7"
      ]
    },
    {
      "cell_type": "code",
      "metadata": {
        "id": "Gx5q7JPU88mf",
        "colab_type": "code",
        "colab": {
          "base_uri": "https://localhost:8080/",
          "height": 259
        },
        "outputId": "cdacdd67-de64-4e12-ce93-4665a007b46a"
      },
      "source": [
        "model.compile(optimizer=sgd, loss='binary_crossentropy', metrics=['accuracy'])\n",
        "model.summary()"
      ],
      "execution_count": 23,
      "outputs": [
        {
          "output_type": "stream",
          "text": [
            "Model: \"sequential\"\n",
            "_________________________________________________________________\n",
            "Layer (type)                 Output Shape              Param #   \n",
            "=================================================================\n",
            "dense (Dense)                (None, 6)                 66        \n",
            "_________________________________________________________________\n",
            "dense_1 (Dense)              (None, 6)                 42        \n",
            "_________________________________________________________________\n",
            "dense_2 (Dense)              (None, 1)                 7         \n",
            "=================================================================\n",
            "Total params: 115\n",
            "Trainable params: 115\n",
            "Non-trainable params: 0\n",
            "_________________________________________________________________\n"
          ],
          "name": "stdout"
        }
      ]
    },
    {
      "cell_type": "code",
      "metadata": {
        "id": "Kk47uhMn8_Ok",
        "colab_type": "code",
        "colab": {
          "base_uri": "https://localhost:8080/",
          "height": 1000
        },
        "outputId": "aebc0af1-61c7-4c08-dcfa-2fcd3e6970da"
      },
      "source": [
        "history = model.fit(X_train, y_train,epochs=100, batch_size=5, verbose=2)"
      ],
      "execution_count": 24,
      "outputs": [
        {
          "output_type": "stream",
          "text": [
            "Train on 8000 samples\n",
            "Epoch 1/100\n",
            "8000/8000 - 2s - loss: 0.5179 - accuracy: 0.7945\n",
            "Epoch 2/100\n",
            "8000/8000 - 2s - loss: 0.5083 - accuracy: 0.7945\n",
            "Epoch 3/100\n",
            "8000/8000 - 2s - loss: 0.5081 - accuracy: 0.7945\n",
            "Epoch 4/100\n",
            "8000/8000 - 2s - loss: 0.5079 - accuracy: 0.7945\n",
            "Epoch 5/100\n",
            "8000/8000 - 2s - loss: 0.4936 - accuracy: 0.7945\n",
            "Epoch 6/100\n",
            "8000/8000 - 2s - loss: 0.4401 - accuracy: 0.7945\n",
            "Epoch 7/100\n",
            "8000/8000 - 2s - loss: 0.4145 - accuracy: 0.8163\n",
            "Epoch 8/100\n",
            "8000/8000 - 2s - loss: 0.3949 - accuracy: 0.8340\n",
            "Epoch 9/100\n",
            "8000/8000 - 2s - loss: 0.3872 - accuracy: 0.8378\n",
            "Epoch 10/100\n",
            "8000/8000 - 2s - loss: 0.3824 - accuracy: 0.8422\n",
            "Epoch 11/100\n",
            "8000/8000 - 2s - loss: 0.3784 - accuracy: 0.8431\n",
            "Epoch 12/100\n",
            "8000/8000 - 2s - loss: 0.3787 - accuracy: 0.8445\n",
            "Epoch 13/100\n",
            "8000/8000 - 2s - loss: 0.3765 - accuracy: 0.8462\n",
            "Epoch 14/100\n",
            "8000/8000 - 2s - loss: 0.3734 - accuracy: 0.8476\n",
            "Epoch 15/100\n",
            "8000/8000 - 2s - loss: 0.3704 - accuracy: 0.8469\n",
            "Epoch 16/100\n",
            "8000/8000 - 2s - loss: 0.3693 - accuracy: 0.8474\n",
            "Epoch 17/100\n",
            "8000/8000 - 2s - loss: 0.3690 - accuracy: 0.8466\n",
            "Epoch 18/100\n",
            "8000/8000 - 2s - loss: 0.3685 - accuracy: 0.8486\n",
            "Epoch 19/100\n",
            "8000/8000 - 2s - loss: 0.3670 - accuracy: 0.8485\n",
            "Epoch 20/100\n",
            "8000/8000 - 2s - loss: 0.3651 - accuracy: 0.8474\n",
            "Epoch 21/100\n",
            "8000/8000 - 2s - loss: 0.3658 - accuracy: 0.8466\n",
            "Epoch 22/100\n",
            "8000/8000 - 2s - loss: 0.3643 - accuracy: 0.8522\n",
            "Epoch 23/100\n",
            "8000/8000 - 2s - loss: 0.3627 - accuracy: 0.8509\n",
            "Epoch 24/100\n",
            "8000/8000 - 2s - loss: 0.3629 - accuracy: 0.8508\n",
            "Epoch 25/100\n",
            "8000/8000 - 2s - loss: 0.3621 - accuracy: 0.8526\n",
            "Epoch 26/100\n",
            "8000/8000 - 2s - loss: 0.3620 - accuracy: 0.8493\n",
            "Epoch 27/100\n",
            "8000/8000 - 2s - loss: 0.3607 - accuracy: 0.8522\n",
            "Epoch 28/100\n",
            "8000/8000 - 2s - loss: 0.3604 - accuracy: 0.8514\n",
            "Epoch 29/100\n",
            "8000/8000 - 2s - loss: 0.3580 - accuracy: 0.8522\n",
            "Epoch 30/100\n",
            "8000/8000 - 2s - loss: 0.3566 - accuracy: 0.8554\n",
            "Epoch 31/100\n",
            "8000/8000 - 2s - loss: 0.3576 - accuracy: 0.8560\n",
            "Epoch 32/100\n",
            "8000/8000 - 2s - loss: 0.3577 - accuracy: 0.8535\n",
            "Epoch 33/100\n",
            "8000/8000 - 2s - loss: 0.3560 - accuracy: 0.8547\n",
            "Epoch 34/100\n",
            "8000/8000 - 2s - loss: 0.3557 - accuracy: 0.8553\n",
            "Epoch 35/100\n",
            "8000/8000 - 2s - loss: 0.3537 - accuracy: 0.8560\n",
            "Epoch 36/100\n",
            "8000/8000 - 2s - loss: 0.3524 - accuracy: 0.8545\n",
            "Epoch 37/100\n",
            "8000/8000 - 2s - loss: 0.3544 - accuracy: 0.8566\n",
            "Epoch 38/100\n",
            "8000/8000 - 2s - loss: 0.3526 - accuracy: 0.8560\n",
            "Epoch 39/100\n",
            "8000/8000 - 2s - loss: 0.3510 - accuracy: 0.8566\n",
            "Epoch 40/100\n",
            "8000/8000 - 2s - loss: 0.3511 - accuracy: 0.8566\n",
            "Epoch 41/100\n",
            "8000/8000 - 2s - loss: 0.3505 - accuracy: 0.8581\n",
            "Epoch 42/100\n",
            "8000/8000 - 2s - loss: 0.3494 - accuracy: 0.8576\n",
            "Epoch 43/100\n",
            "8000/8000 - 2s - loss: 0.3479 - accuracy: 0.8583\n",
            "Epoch 44/100\n",
            "8000/8000 - 2s - loss: 0.3493 - accuracy: 0.8574\n",
            "Epoch 45/100\n",
            "8000/8000 - 2s - loss: 0.3482 - accuracy: 0.8569\n",
            "Epoch 46/100\n",
            "8000/8000 - 2s - loss: 0.3493 - accuracy: 0.8580\n",
            "Epoch 47/100\n",
            "8000/8000 - 2s - loss: 0.3478 - accuracy: 0.8566\n",
            "Epoch 48/100\n",
            "8000/8000 - 2s - loss: 0.3456 - accuracy: 0.8601\n",
            "Epoch 49/100\n",
            "8000/8000 - 2s - loss: 0.3479 - accuracy: 0.8580\n",
            "Epoch 50/100\n",
            "8000/8000 - 2s - loss: 0.3467 - accuracy: 0.8605\n",
            "Epoch 51/100\n",
            "8000/8000 - 2s - loss: 0.3466 - accuracy: 0.8615\n",
            "Epoch 52/100\n",
            "8000/8000 - 2s - loss: 0.3467 - accuracy: 0.8610\n",
            "Epoch 53/100\n",
            "8000/8000 - 2s - loss: 0.3468 - accuracy: 0.8593\n",
            "Epoch 54/100\n",
            "8000/8000 - 2s - loss: 0.3464 - accuracy: 0.8609\n",
            "Epoch 55/100\n",
            "8000/8000 - 2s - loss: 0.3463 - accuracy: 0.8611\n",
            "Epoch 56/100\n",
            "8000/8000 - 2s - loss: 0.3458 - accuracy: 0.8596\n",
            "Epoch 57/100\n",
            "8000/8000 - 2s - loss: 0.3452 - accuracy: 0.8606\n",
            "Epoch 58/100\n",
            "8000/8000 - 2s - loss: 0.3443 - accuracy: 0.8595\n",
            "Epoch 59/100\n",
            "8000/8000 - 2s - loss: 0.3445 - accuracy: 0.8596\n",
            "Epoch 60/100\n",
            "8000/8000 - 2s - loss: 0.3462 - accuracy: 0.8605\n",
            "Epoch 61/100\n",
            "8000/8000 - 2s - loss: 0.3449 - accuracy: 0.8616\n",
            "Epoch 62/100\n",
            "8000/8000 - 2s - loss: 0.3442 - accuracy: 0.8640\n",
            "Epoch 63/100\n",
            "8000/8000 - 2s - loss: 0.3461 - accuracy: 0.8584\n",
            "Epoch 64/100\n",
            "8000/8000 - 2s - loss: 0.3441 - accuracy: 0.8621\n",
            "Epoch 65/100\n",
            "8000/8000 - 2s - loss: 0.3453 - accuracy: 0.8614\n",
            "Epoch 66/100\n",
            "8000/8000 - 2s - loss: 0.3444 - accuracy: 0.8630\n",
            "Epoch 67/100\n",
            "8000/8000 - 2s - loss: 0.3435 - accuracy: 0.8604\n",
            "Epoch 68/100\n",
            "8000/8000 - 2s - loss: 0.3444 - accuracy: 0.8615\n",
            "Epoch 69/100\n",
            "8000/8000 - 2s - loss: 0.3439 - accuracy: 0.8622\n",
            "Epoch 70/100\n",
            "8000/8000 - 2s - loss: 0.3450 - accuracy: 0.8579\n",
            "Epoch 71/100\n",
            "8000/8000 - 2s - loss: 0.3433 - accuracy: 0.8610\n",
            "Epoch 72/100\n",
            "8000/8000 - 2s - loss: 0.3432 - accuracy: 0.8616\n",
            "Epoch 73/100\n",
            "8000/8000 - 2s - loss: 0.3456 - accuracy: 0.8629\n",
            "Epoch 74/100\n",
            "8000/8000 - 2s - loss: 0.3439 - accuracy: 0.8608\n",
            "Epoch 75/100\n",
            "8000/8000 - 2s - loss: 0.3446 - accuracy: 0.8622\n",
            "Epoch 76/100\n",
            "8000/8000 - 2s - loss: 0.3427 - accuracy: 0.8619\n",
            "Epoch 77/100\n",
            "8000/8000 - 2s - loss: 0.3449 - accuracy: 0.8625\n",
            "Epoch 78/100\n",
            "8000/8000 - 2s - loss: 0.3432 - accuracy: 0.8615\n",
            "Epoch 79/100\n",
            "8000/8000 - 2s - loss: 0.3436 - accuracy: 0.8644\n",
            "Epoch 80/100\n",
            "8000/8000 - 2s - loss: 0.3440 - accuracy: 0.8596\n",
            "Epoch 81/100\n",
            "8000/8000 - 2s - loss: 0.3435 - accuracy: 0.8589\n",
            "Epoch 82/100\n",
            "8000/8000 - 2s - loss: 0.3430 - accuracy: 0.8620\n",
            "Epoch 83/100\n",
            "8000/8000 - 2s - loss: 0.3430 - accuracy: 0.8620\n",
            "Epoch 84/100\n",
            "8000/8000 - 2s - loss: 0.3434 - accuracy: 0.8590\n",
            "Epoch 85/100\n",
            "8000/8000 - 2s - loss: 0.3439 - accuracy: 0.8606\n",
            "Epoch 86/100\n",
            "8000/8000 - 2s - loss: 0.3436 - accuracy: 0.8610\n",
            "Epoch 87/100\n",
            "8000/8000 - 2s - loss: 0.3448 - accuracy: 0.8604\n",
            "Epoch 88/100\n",
            "8000/8000 - 2s - loss: 0.3423 - accuracy: 0.8611\n",
            "Epoch 89/100\n",
            "8000/8000 - 2s - loss: 0.3428 - accuracy: 0.8618\n",
            "Epoch 90/100\n",
            "8000/8000 - 2s - loss: 0.3417 - accuracy: 0.8627\n",
            "Epoch 91/100\n",
            "8000/8000 - 2s - loss: 0.3432 - accuracy: 0.8611\n",
            "Epoch 92/100\n",
            "8000/8000 - 2s - loss: 0.3419 - accuracy: 0.8622\n",
            "Epoch 93/100\n",
            "8000/8000 - 2s - loss: 0.3424 - accuracy: 0.8622\n",
            "Epoch 94/100\n",
            "8000/8000 - 2s - loss: 0.3432 - accuracy: 0.8604\n",
            "Epoch 95/100\n",
            "8000/8000 - 2s - loss: 0.3415 - accuracy: 0.8614\n",
            "Epoch 96/100\n",
            "8000/8000 - 2s - loss: 0.3431 - accuracy: 0.8614\n",
            "Epoch 97/100\n",
            "8000/8000 - 2s - loss: 0.3429 - accuracy: 0.8602\n",
            "Epoch 98/100\n",
            "8000/8000 - 2s - loss: 0.3425 - accuracy: 0.8602\n",
            "Epoch 99/100\n",
            "8000/8000 - 2s - loss: 0.3417 - accuracy: 0.8615\n",
            "Epoch 100/100\n",
            "8000/8000 - 2s - loss: 0.3421 - accuracy: 0.8622\n"
          ],
          "name": "stdout"
        }
      ]
    },
    {
      "cell_type": "markdown",
      "metadata": {
        "id": "kesJjME_zmMi",
        "colab_type": "text"
      },
      "source": [
        "Q7. Predict the results using 0.5 as a threshold "
      ]
    },
    {
      "cell_type": "code",
      "metadata": {
        "id": "I0EWfnA99cWg",
        "colab_type": "code",
        "colab": {
          "base_uri": "https://localhost:8080/",
          "height": 69
        },
        "outputId": "7e54c198-277f-4233-b01b-44f02daafbdb"
      },
      "source": [
        "y_pred = model.predict(X_test)\n",
        "y_pred = (y_pred > 0.5)\n",
        "test_loss, test_acc = model.evaluate(x=X_test,y=y_test.values)\n",
        "print(\"Accuracy: \",test_acc)\n",
        "print(\"Loss: \",test_loss)"
      ],
      "execution_count": 25,
      "outputs": [
        {
          "output_type": "stream",
          "text": [
            "2000/2000 [==============================] - 0s 72us/sample - loss: 0.3435 - accuracy: 0.8590\n",
            "Accuracy:  0.859\n",
            "Loss:  0.3434857120513916\n"
          ],
          "name": "stdout"
        }
      ]
    },
    {
      "cell_type": "markdown",
      "metadata": {
        "id": "DfSl0E3VJR85",
        "colab_type": "text"
      },
      "source": [
        "Q8 Print the Accuracy score and confusion matrix \n"
      ]
    },
    {
      "cell_type": "code",
      "metadata": {
        "id": "pZRe_s9jJYF2",
        "colab_type": "code",
        "colab": {
          "base_uri": "https://localhost:8080/",
          "height": 331
        },
        "outputId": "9a9da001-ed89-44a2-9751-8c003914b166"
      },
      "source": [
        "from sklearn.metrics import confusion_matrix\n",
        "from matplotlib import pyplot as plt\n",
        "\n",
        "conf_mat = confusion_matrix(y_true=y_test, y_pred=y_pred)\n",
        "print('Confusion matrix:\\n', conf_mat)\n",
        "\n",
        "labels = ['Class 0', 'Class 1']\n",
        "fig = plt.figure()\n",
        "ax = fig.add_subplot(111)\n",
        "cax = ax.matshow(conf_mat, cmap=plt.cm.Blues)\n",
        "fig.colorbar(cax)\n",
        "ax.set_xticklabels([''] + labels)\n",
        "ax.set_yticklabels([''] + labels)\n",
        "plt.xlabel('Predicted')\n",
        "plt.ylabel('Expected')\n",
        "plt.show()"
      ],
      "execution_count": 26,
      "outputs": [
        {
          "output_type": "stream",
          "text": [
            "Confusion matrix:\n",
            " [[1555   52]\n",
            " [ 230  163]]\n"
          ],
          "name": "stdout"
        },
        {
          "output_type": "display_data",
          "data": {
            "image/png": "[encoded data removed]",
            "text/plain": [
              "<Figure size 432x288 with 2 Axes>"
            ]
          },
          "metadata": {
            "tags": []
          }
        }
      ]
    },
    {
      "cell_type": "code",
      "metadata": {
        "id": "FOFFgyufJgT3",
        "colab_type": "code",
        "colab": {
          "base_uri": "https://localhost:8080/",
          "height": 265
        },
        "outputId": "3dfff0d9-6307-4b78-93d1-c176ced7137d"
      },
      "source": [
        "from matplotlib import pyplot\n",
        "# plot metrics\n",
        "\n",
        "pyplot.plot(history.history['accuracy'],label='sgd Optimiser')\n",
        "\n",
        "pyplot.legend()\n",
        "\n",
        "pyplot.show()"
      ],
      "execution_count": 27,
      "outputs": [
        {
          "output_type": "display_data",
          "data": {
            "image/png": "[encoded data removed]",
            "text/plain": [
              "<Figure size 432x288 with 1 Axes>"
            ]
          },
          "metadata": {
            "tags": []
          }
        }
      ]
    },
    {
      "cell_type": "code",
      "metadata": {
        "id": "pXZvozv3J7RX",
        "colab_type": "code",
        "colab": {
          "base_uri": "https://localhost:8080/",
          "height": 265
        },
        "outputId": "b77b930d-62f2-4b75-db0e-ca5e6f17904b"
      },
      "source": [
        "plt.plot(history.history['accuracy'])\n",
        "plt.plot(history.history['loss'])\n",
        "plt.legend(['accuracy', 'loss'], loc='upper left')\n",
        "plt.show()"
      ],
      "execution_count": 28,
      "outputs": [
        {
          "output_type": "display_data",
          "data": {
            "image/png": "[encoded data removed]",
            "text/plain": [
              "<Figure size 432x288 with 1 Axes>"
            ]
          },
          "metadata": {
            "tags": []
          }
        }
      ]
    }
  ]
}