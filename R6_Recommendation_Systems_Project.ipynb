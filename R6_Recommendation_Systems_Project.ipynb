{
 "cells": [
  {
   "cell_type": "code",
   "execution_count": 1,
   "metadata": {},
   "outputs": [],
   "source": [
    "import pandas as pd"
   ]
  },
  {
   "cell_type": "code",
   "execution_count": 2,
   "metadata": {},
   "outputs": [],
   "source": [
    "amazon_df = pd.read_csv(\"ratings_Electronics.csv\",names=['UserId','ProductId','Ratings','Timestamp'])"
   ]
  },
  {
   "cell_type": "code",
   "execution_count": 3,
   "metadata": {},
   "outputs": [
    {
     "data": {
      "text/html": [
       "<div>\n",
       "<style scoped>\n",
       "    .dataframe tbody tr th:only-of-type {\n",
       "        vertical-align: middle;\n",
       "    }\n",
       "\n",
       "    .dataframe tbody tr th {\n",
       "        vertical-align: top;\n",
       "    }\n",
       "\n",
       "    .dataframe thead th {\n",
       "        text-align: right;\n",
       "    }\n",
       "</style>\n",
       "<table border=\"1\" class=\"dataframe\">\n",
       "  <thead>\n",
       "    <tr style=\"text-align: right;\">\n",
       "      <th></th>\n",
       "      <th>UserId</th>\n",
       "      <th>ProductId</th>\n",
       "      <th>Ratings</th>\n",
       "      <th>Timestamp</th>\n",
       "    </tr>\n",
       "  </thead>\n",
       "  <tbody>\n",
       "    <tr>\n",
       "      <th>0</th>\n",
       "      <td>AKM1MP6P0OYPR</td>\n",
       "      <td>0132793040</td>\n",
       "      <td>5.0</td>\n",
       "      <td>1365811200</td>\n",
       "    </tr>\n",
       "    <tr>\n",
       "      <th>1</th>\n",
       "      <td>A2CX7LUOHB2NDG</td>\n",
       "      <td>0321732944</td>\n",
       "      <td>5.0</td>\n",
       "      <td>1341100800</td>\n",
       "    </tr>\n",
       "    <tr>\n",
       "      <th>2</th>\n",
       "      <td>A2NWSAGRHCP8N5</td>\n",
       "      <td>0439886341</td>\n",
       "      <td>1.0</td>\n",
       "      <td>1367193600</td>\n",
       "    </tr>\n",
       "    <tr>\n",
       "      <th>3</th>\n",
       "      <td>A2WNBOD3WNDNKT</td>\n",
       "      <td>0439886341</td>\n",
       "      <td>3.0</td>\n",
       "      <td>1374451200</td>\n",
       "    </tr>\n",
       "    <tr>\n",
       "      <th>4</th>\n",
       "      <td>A1GI0U4ZRJA8WN</td>\n",
       "      <td>0439886341</td>\n",
       "      <td>1.0</td>\n",
       "      <td>1334707200</td>\n",
       "    </tr>\n",
       "  </tbody>\n",
       "</table>\n",
       "</div>"
      ],
      "text/plain": [
       "           UserId   ProductId  Ratings   Timestamp\n",
       "0   AKM1MP6P0OYPR  0132793040      5.0  1365811200\n",
       "1  A2CX7LUOHB2NDG  0321732944      5.0  1341100800\n",
       "2  A2NWSAGRHCP8N5  0439886341      1.0  1367193600\n",
       "3  A2WNBOD3WNDNKT  0439886341      3.0  1374451200\n",
       "4  A1GI0U4ZRJA8WN  0439886341      1.0  1334707200"
      ]
     },
     "execution_count": 3,
     "metadata": {},
     "output_type": "execute_result"
    }
   ],
   "source": [
    "amazon_df.head()"
   ]
  },
  {
   "cell_type": "code",
   "execution_count": 4,
   "metadata": {},
   "outputs": [
    {
     "data": {
      "text/plain": [
       "(7824482, 4)"
      ]
     },
     "execution_count": 4,
     "metadata": {},
     "output_type": "execute_result"
    }
   ],
   "source": [
    "amazon_df.shape"
   ]
  },
  {
   "cell_type": "code",
   "execution_count": 5,
   "metadata": {},
   "outputs": [
    {
     "data": {
      "text/plain": [
       "UserId        object\n",
       "ProductId     object\n",
       "Ratings      float64\n",
       "Timestamp      int64\n",
       "dtype: object"
      ]
     },
     "execution_count": 5,
     "metadata": {},
     "output_type": "execute_result"
    }
   ],
   "source": [
    "amazon_df.dtypes"
   ]
  },
  {
   "cell_type": "code",
   "execution_count": 6,
   "metadata": {},
   "outputs": [],
   "source": [
    "amazon_df.drop('Timestamp', axis=1, inplace=True)"
   ]
  },
  {
   "cell_type": "code",
   "execution_count": 7,
   "metadata": {},
   "outputs": [
    {
     "data": {
      "text/plain": [
       "UserId       0\n",
       "ProductId    0\n",
       "Ratings      0\n",
       "dtype: int64"
      ]
     },
     "execution_count": 7,
     "metadata": {},
     "output_type": "execute_result"
    }
   ],
   "source": [
    "amazon_df.isnull().sum()"
   ]
  },
  {
   "cell_type": "code",
   "execution_count": 8,
   "metadata": {},
   "outputs": [
    {
     "data": {
      "text/plain": [
       "476002"
      ]
     },
     "execution_count": 8,
     "metadata": {},
     "output_type": "execute_result"
    }
   ],
   "source": [
    "amazon_df['ProductId'].nunique()"
   ]
  },
  {
   "cell_type": "code",
   "execution_count": 9,
   "metadata": {},
   "outputs": [
    {
     "data": {
      "text/plain": [
       "4201696"
      ]
     },
     "execution_count": 9,
     "metadata": {},
     "output_type": "execute_result"
    }
   ],
   "source": [
    "amazon_df['UserId'].nunique()"
   ]
  },
  {
   "cell_type": "code",
   "execution_count": 10,
   "metadata": {},
   "outputs": [
    {
     "data": {
      "text/plain": [
       "array([5., 1., 3., 2., 4.])"
      ]
     },
     "execution_count": 10,
     "metadata": {},
     "output_type": "execute_result"
    }
   ],
   "source": [
    "amazon_df['Ratings'].unique()"
   ]
  },
  {
   "cell_type": "code",
   "execution_count": 11,
   "metadata": {},
   "outputs": [
    {
     "data": {
      "text/plain": [
       "5.0    4347541\n",
       "4.0    1485781\n",
       "1.0     901765\n",
       "3.0     633073\n",
       "2.0     456322\n",
       "Name: Ratings, dtype: int64"
      ]
     },
     "execution_count": 11,
     "metadata": {},
     "output_type": "execute_result"
    }
   ],
   "source": [
    "amazon_df['Ratings'].value_counts()"
   ]
  },
  {
   "cell_type": "code",
   "execution_count": 12,
   "metadata": {},
   "outputs": [],
   "source": [
    "import matplotlib.pyplot as plt"
   ]
  },
  {
   "cell_type": "code",
   "execution_count": 13,
   "metadata": {},
   "outputs": [
    {
     "data": {
      "text/plain": [
       "Text(0.5, 0, 'Ratings')"
      ]
     },
     "execution_count": 13,
     "metadata": {},
     "output_type": "execute_result"
    },
    {
     "data": {
      "image/png": "[encoded data removed]",
      "text/plain": [
       "<Figure size 432x288 with 1 Axes>"
      ]
     },
     "metadata": {
      "needs_background": "light"
     },
     "output_type": "display_data"
    }
   ],
   "source": [
    "plt.hist(amazon_df['Ratings'])\n",
    "plt.title('Ratings Spread')\n",
    "plt.xlabel('Ratings')"
   ]
  },
  {
   "cell_type": "markdown",
   "metadata": {},
   "source": [
    "Observations -\n",
    "1. The dataset has 7824482 records\n",
    "2. There are 476002 unique product Ids\n",
    "3. There are 4201696 distinct users who have rated a product\n",
    "4. Ratings are given on a scale of 1 to 5 (only whole numbers)\n",
    "5. Rating of 5 has got the highest footprint off all the ratings given by the users\n",
    "6. The dataset doesnt have any null or missing values\n",
    "7. Listed below are some stats (top products, user ratings) on the products, users and ratings."
   ]
  },
  {
   "cell_type": "code",
   "execution_count": 14,
   "metadata": {},
   "outputs": [
    {
     "data": {
      "text/plain": [
       "B0074BW614    18244\n",
       "B00DR0PDNE    16454\n",
       "B007WTAJTO    14172\n",
       "B0019EHU8G    12285\n",
       "B006GWO5WK    12226\n",
       "B003ELYQGG    11617\n",
       "B003ES5ZUU    10276\n",
       "B007R5YDYA     9907\n",
       "B00622AG6S     9823\n",
       "B0002L5R78     9487\n",
       "Name: ProductId, dtype: int64"
      ]
     },
     "execution_count": 14,
     "metadata": {},
     "output_type": "execute_result"
    }
   ],
   "source": [
    "#Top 10 products purchased (rated)\n",
    "amazon_df['ProductId'].value_counts().head(10)"
   ]
  },
  {
   "cell_type": "code",
   "execution_count": 15,
   "metadata": {},
   "outputs": [
    {
     "data": {
      "text/html": [
       "<div>\n",
       "<style scoped>\n",
       "    .dataframe tbody tr th:only-of-type {\n",
       "        vertical-align: middle;\n",
       "    }\n",
       "\n",
       "    .dataframe tbody tr th {\n",
       "        vertical-align: top;\n",
       "    }\n",
       "\n",
       "    .dataframe thead th {\n",
       "        text-align: right;\n",
       "    }\n",
       "</style>\n",
       "<table border=\"1\" class=\"dataframe\">\n",
       "  <thead>\n",
       "    <tr style=\"text-align: right;\">\n",
       "      <th></th>\n",
       "      <th>Ratings</th>\n",
       "    </tr>\n",
       "    <tr>\n",
       "      <th>ProductId</th>\n",
       "      <th></th>\n",
       "    </tr>\n",
       "  </thead>\n",
       "  <tbody>\n",
       "    <tr>\n",
       "      <th>B0074BW614</th>\n",
       "      <td>81943.0</td>\n",
       "    </tr>\n",
       "    <tr>\n",
       "      <th>B00DR0PDNE</th>\n",
       "      <td>64681.0</td>\n",
       "    </tr>\n",
       "    <tr>\n",
       "      <th>B007WTAJTO</th>\n",
       "      <td>62697.0</td>\n",
       "    </tr>\n",
       "    <tr>\n",
       "      <th>B0019EHU8G</th>\n",
       "      <td>58409.0</td>\n",
       "    </tr>\n",
       "    <tr>\n",
       "      <th>B006GWO5WK</th>\n",
       "      <td>52751.0</td>\n",
       "    </tr>\n",
       "    <tr>\n",
       "      <th>B003ELYQGG</th>\n",
       "      <td>51028.0</td>\n",
       "    </tr>\n",
       "    <tr>\n",
       "      <th>B003ES5ZUU</th>\n",
       "      <td>48346.0</td>\n",
       "    </tr>\n",
       "    <tr>\n",
       "      <th>B007R5YDYA</th>\n",
       "      <td>46473.0</td>\n",
       "    </tr>\n",
       "    <tr>\n",
       "      <th>B00622AG6S</th>\n",
       "      <td>43419.0</td>\n",
       "    </tr>\n",
       "    <tr>\n",
       "      <th>B0002L5R78</th>\n",
       "      <td>42204.0</td>\n",
       "    </tr>\n",
       "  </tbody>\n",
       "</table>\n",
       "</div>"
      ],
      "text/plain": [
       "            Ratings\n",
       "ProductId          \n",
       "B0074BW614  81943.0\n",
       "B00DR0PDNE  64681.0\n",
       "B007WTAJTO  62697.0\n",
       "B0019EHU8G  58409.0\n",
       "B006GWO5WK  52751.0\n",
       "B003ELYQGG  51028.0\n",
       "B003ES5ZUU  48346.0\n",
       "B007R5YDYA  46473.0\n",
       "B00622AG6S  43419.0\n",
       "B0002L5R78  42204.0"
      ]
     },
     "execution_count": 15,
     "metadata": {},
     "output_type": "execute_result"
    }
   ],
   "source": [
    "#Top 10 products having highest rating count\n",
    "amazon_df.groupby(['ProductId']).sum().sort_values(by='Ratings',ascending=False)[['Ratings']].head(10)"
   ]
  },
  {
   "cell_type": "markdown",
   "metadata": {},
   "source": [
    "# Take a subset of the dataset to make it less sparse/ denser."
   ]
  },
  {
   "cell_type": "code",
   "execution_count": 82,
   "metadata": {},
   "outputs": [],
   "source": [
    "#taking users who have give minimum 50 ratings and 600 ratings\n",
    "amazon_users_50_ratings_df = amazon_df[amazon_df['UserId'].isin(user_rating_total_df[user_rating_total_df['Ratings'] >=50.0].reset_index()['UserId'])]\n",
    "amazon_users_600_ratings_df = amazon_df[amazon_df['UserId'].isin(user_rating_total_df[user_rating_total_df['Ratings'] >=600.0].reset_index()['UserId'])]"
   ]
  },
  {
   "cell_type": "code",
   "execution_count": 17,
   "metadata": {},
   "outputs": [
    {
     "data": {
      "text/plain": [
       "(853459, 3)"
      ]
     },
     "execution_count": 17,
     "metadata": {},
     "output_type": "execute_result"
    }
   ],
   "source": [
    "amazon_users_50_ratings_df.shape"
   ]
  },
  {
   "cell_type": "code",
   "execution_count": 83,
   "metadata": {},
   "outputs": [
    {
     "data": {
      "text/plain": [
       "(23431, 3)"
      ]
     },
     "execution_count": 83,
     "metadata": {},
     "output_type": "execute_result"
    }
   ],
   "source": [
    "#To avoid running out of memory we will take only a subset of data to give recommendations.\n",
    "amazon_users_600_ratings_df.shape"
   ]
  },
  {
   "cell_type": "code",
   "execution_count": 19,
   "metadata": {},
   "outputs": [
    {
     "data": {
      "text/plain": [
       "(7824482, 3)"
      ]
     },
     "execution_count": 19,
     "metadata": {},
     "output_type": "execute_result"
    }
   ],
   "source": [
    "amazon_df.shape"
   ]
  },
  {
   "cell_type": "markdown",
   "metadata": {},
   "source": [
    "# Popularity based model"
   ]
  },
  {
   "cell_type": "code",
   "execution_count": 54,
   "metadata": {},
   "outputs": [
    {
     "data": {
      "text/html": [
       "<div>\n",
       "<style scoped>\n",
       "    .dataframe tbody tr th:only-of-type {\n",
       "        vertical-align: middle;\n",
       "    }\n",
       "\n",
       "    .dataframe tbody tr th {\n",
       "        vertical-align: top;\n",
       "    }\n",
       "\n",
       "    .dataframe thead th {\n",
       "        text-align: right;\n",
       "    }\n",
       "</style>\n",
       "<table border=\"1\" class=\"dataframe\">\n",
       "  <thead>\n",
       "    <tr style=\"text-align: right;\">\n",
       "      <th></th>\n",
       "      <th>Ratings</th>\n",
       "    </tr>\n",
       "    <tr>\n",
       "      <th>ProductId</th>\n",
       "      <th></th>\n",
       "    </tr>\n",
       "  </thead>\n",
       "  <tbody>\n",
       "    <tr>\n",
       "      <th>B0074BW614</th>\n",
       "      <td>81943.0</td>\n",
       "    </tr>\n",
       "    <tr>\n",
       "      <th>B00DR0PDNE</th>\n",
       "      <td>64681.0</td>\n",
       "    </tr>\n",
       "    <tr>\n",
       "      <th>B007WTAJTO</th>\n",
       "      <td>62697.0</td>\n",
       "    </tr>\n",
       "    <tr>\n",
       "      <th>B0019EHU8G</th>\n",
       "      <td>58409.0</td>\n",
       "    </tr>\n",
       "    <tr>\n",
       "      <th>B006GWO5WK</th>\n",
       "      <td>52751.0</td>\n",
       "    </tr>\n",
       "    <tr>\n",
       "      <th>B003ELYQGG</th>\n",
       "      <td>51028.0</td>\n",
       "    </tr>\n",
       "    <tr>\n",
       "      <th>B003ES5ZUU</th>\n",
       "      <td>48346.0</td>\n",
       "    </tr>\n",
       "    <tr>\n",
       "      <th>B007R5YDYA</th>\n",
       "      <td>46473.0</td>\n",
       "    </tr>\n",
       "    <tr>\n",
       "      <th>B00622AG6S</th>\n",
       "      <td>43419.0</td>\n",
       "    </tr>\n",
       "    <tr>\n",
       "      <th>B0002L5R78</th>\n",
       "      <td>42204.0</td>\n",
       "    </tr>\n",
       "  </tbody>\n",
       "</table>\n",
       "</div>"
      ],
      "text/plain": [
       "            Ratings\n",
       "ProductId          \n",
       "B0074BW614  81943.0\n",
       "B00DR0PDNE  64681.0\n",
       "B007WTAJTO  62697.0\n",
       "B0019EHU8G  58409.0\n",
       "B006GWO5WK  52751.0\n",
       "B003ELYQGG  51028.0\n",
       "B003ES5ZUU  48346.0\n",
       "B007R5YDYA  46473.0\n",
       "B00622AG6S  43419.0\n",
       "B0002L5R78  42204.0"
      ]
     },
     "execution_count": 54,
     "metadata": {},
     "output_type": "execute_result"
    }
   ],
   "source": [
    "#All the products in the dataset have ratings (least being 1 and max being 5). Below are the top 10 popular products based on the cummulative ratings\n",
    "amazon_df.groupby(['ProductId']).sum().sort_values(by='Ratings',ascending=False)[['Ratings']].head(10)"
   ]
  },
  {
   "cell_type": "markdown",
   "metadata": {},
   "source": [
    "# Split the data randomly into train and test dataset."
   ]
  },
  {
   "cell_type": "code",
   "execution_count": 20,
   "metadata": {},
   "outputs": [],
   "source": [
    "from surprise.model_selection import train_test_split\n",
    "from surprise import Dataset  \n",
    "import random \n",
    "from surprise import Reader, Dataset"
   ]
  },
  {
   "cell_type": "code",
   "execution_count": 22,
   "metadata": {},
   "outputs": [],
   "source": [
    "reader = Reader()\n",
    "data = Dataset.load_from_df(amazon_users_50_ratings_df[['UserId', 'ProductId', 'Ratings']], reader)"
   ]
  },
  {
   "cell_type": "code",
   "execution_count": 23,
   "metadata": {},
   "outputs": [],
   "source": [
    "train_set, test_set = train_test_split(data, test_size=.30)"
   ]
  },
  {
   "cell_type": "markdown",
   "metadata": {},
   "source": [
    "# Collaborative Filtering Model - Matrix Factorization"
   ]
  },
  {
   "cell_type": "code",
   "execution_count": 21,
   "metadata": {},
   "outputs": [],
   "source": [
    "from surprise import SVD, accuracy"
   ]
  },
  {
   "cell_type": "code",
   "execution_count": 25,
   "metadata": {},
   "outputs": [
    {
     "data": {
      "text/plain": [
       "<surprise.prediction_algorithms.matrix_factorization.SVD at 0x117c74e80>"
      ]
     },
     "execution_count": 25,
     "metadata": {},
     "output_type": "execute_result"
    }
   ],
   "source": [
    "algo = SVD()\n",
    "algo.fit(train_set)"
   ]
  },
  {
   "cell_type": "code",
   "execution_count": 27,
   "metadata": {},
   "outputs": [],
   "source": [
    "predictions = algo.test(test_set)"
   ]
  },
  {
   "cell_type": "markdown",
   "metadata": {},
   "source": [
    "# Evaluate the above model"
   ]
  },
  {
   "cell_type": "code",
   "execution_count": 28,
   "metadata": {},
   "outputs": [
    {
     "name": "stdout",
     "output_type": "stream",
     "text": [
      "RMSE: 1.0290\n"
     ]
    },
    {
     "data": {
      "text/plain": [
       "1.0290088766248213"
      ]
     },
     "execution_count": 28,
     "metadata": {},
     "output_type": "execute_result"
    }
   ],
   "source": [
    "from surprise import accuracy\n",
    "accuracy.rmse(predictions)"
   ]
  },
  {
   "cell_type": "code",
   "execution_count": 51,
   "metadata": {},
   "outputs": [
    {
     "name": "stdout",
     "output_type": "stream",
     "text": [
      "user: A3CG93783LP0FO item: B00IOQOABM r_ui = None   est = 4.17   {'was_impossible': False}\n"
     ]
    }
   ],
   "source": [
    "#Example of the prediction for a user who has not rated a product and what the other users have rated and will be rated by the model\n",
    "uid = str('A3CG93783LP0FO')\n",
    "iid = str('B00IOQOABM')\n",
    "pred = algo.predict(uid, iid, verbose=True)"
   ]
  },
  {
   "cell_type": "code",
   "execution_count": 50,
   "metadata": {},
   "outputs": [
    {
     "data": {
      "text/html": [
       "<div>\n",
       "<style scoped>\n",
       "    .dataframe tbody tr th:only-of-type {\n",
       "        vertical-align: middle;\n",
       "    }\n",
       "\n",
       "    .dataframe tbody tr th {\n",
       "        vertical-align: top;\n",
       "    }\n",
       "\n",
       "    .dataframe thead th {\n",
       "        text-align: right;\n",
       "    }\n",
       "</style>\n",
       "<table border=\"1\" class=\"dataframe\">\n",
       "  <thead>\n",
       "    <tr style=\"text-align: right;\">\n",
       "      <th></th>\n",
       "      <th>UserId</th>\n",
       "      <th>ProductId</th>\n",
       "      <th>Ratings</th>\n",
       "    </tr>\n",
       "  </thead>\n",
       "  <tbody>\n",
       "  </tbody>\n",
       "</table>\n",
       "</div>"
      ],
      "text/plain": [
       "Empty DataFrame\n",
       "Columns: [UserId, ProductId, Ratings]\n",
       "Index: []"
      ]
     },
     "execution_count": 50,
     "metadata": {},
     "output_type": "execute_result"
    }
   ],
   "source": [
    "##B00IOQOABM Product not rated by the user A3CG93783LP0FO\n",
    "amazon_df[(amazon_df['UserId'] == 'A3CG93783LP0FO') & (amazon_df['ProductId'] == 'B00IOQOABM')]"
   ]
  },
  {
   "cell_type": "code",
   "execution_count": 53,
   "metadata": {},
   "outputs": [
    {
     "data": {
      "text/html": [
       "<div>\n",
       "<style scoped>\n",
       "    .dataframe tbody tr th:only-of-type {\n",
       "        vertical-align: middle;\n",
       "    }\n",
       "\n",
       "    .dataframe tbody tr th {\n",
       "        vertical-align: top;\n",
       "    }\n",
       "\n",
       "    .dataframe thead th {\n",
       "        text-align: right;\n",
       "    }\n",
       "</style>\n",
       "<table border=\"1\" class=\"dataframe\">\n",
       "  <thead>\n",
       "    <tr style=\"text-align: right;\">\n",
       "      <th></th>\n",
       "      <th>UserId</th>\n",
       "      <th>ProductId</th>\n",
       "      <th>Ratings</th>\n",
       "    </tr>\n",
       "  </thead>\n",
       "  <tbody>\n",
       "    <tr>\n",
       "      <th>7796966</th>\n",
       "      <td>A3KF3TLI2JPQ32</td>\n",
       "      <td>B00IOQOABM</td>\n",
       "      <td>5.0</td>\n",
       "    </tr>\n",
       "    <tr>\n",
       "      <th>7796967</th>\n",
       "      <td>A1UOUIB6X8T9YR</td>\n",
       "      <td>B00IOQOABM</td>\n",
       "      <td>1.0</td>\n",
       "    </tr>\n",
       "  </tbody>\n",
       "</table>\n",
       "</div>"
      ],
      "text/plain": [
       "                 UserId   ProductId  Ratings\n",
       "7796966  A3KF3TLI2JPQ32  B00IOQOABM      5.0\n",
       "7796967  A1UOUIB6X8T9YR  B00IOQOABM      1.0"
      ]
     },
     "execution_count": 53,
     "metadata": {},
     "output_type": "execute_result"
    }
   ],
   "source": [
    "#B00IOQOABM Product not rated by the user A3CG93783LP0FO\n",
    "amazon_df[amazon_df['ProductId'] == 'B00IOQOABM']"
   ]
  },
  {
   "cell_type": "markdown",
   "metadata": {},
   "source": [
    "Evaluate against other models [KNNWithMeans, BaselineOnly]"
   ]
  },
  {
   "cell_type": "code",
   "execution_count": 29,
   "metadata": {},
   "outputs": [],
   "source": [
    "from surprise import KNNWithMeans, BaselineOnly"
   ]
  },
  {
   "cell_type": "code",
   "execution_count": 30,
   "metadata": {},
   "outputs": [],
   "source": [
    "from surprise.model_selection.validation import cross_validate"
   ]
  },
  {
   "cell_type": "code",
   "execution_count": 31,
   "metadata": {},
   "outputs": [],
   "source": [
    "test_set_df = pd.DataFrame(test_set)"
   ]
  },
  {
   "cell_type": "code",
   "execution_count": 32,
   "metadata": {},
   "outputs": [],
   "source": [
    "test_set_df.columns = ['UserId', 'ProductId', 'Ratings']"
   ]
  },
  {
   "cell_type": "code",
   "execution_count": 33,
   "metadata": {},
   "outputs": [],
   "source": [
    "test_data = Dataset.load_from_df(test_set_df[['UserId', 'ProductId', 'Ratings']], reader)"
   ]
  },
  {
   "cell_type": "code",
   "execution_count": 84,
   "metadata": {},
   "outputs": [
    {
     "name": "stdout",
     "output_type": "stream",
     "text": [
      "Computing the msd similarity matrix...\n",
      "Done computing similarity matrix.\n",
      "Computing the msd similarity matrix...\n",
      "Done computing similarity matrix.\n",
      "Computing the msd similarity matrix...\n",
      "Done computing similarity matrix.\n",
      "Estimating biases using als...\n",
      "Estimating biases using als...\n",
      "Estimating biases using als...\n"
     ]
    },
    {
     "data": {
      "text/html": [
       "<div>\n",
       "<style scoped>\n",
       "    .dataframe tbody tr th:only-of-type {\n",
       "        vertical-align: middle;\n",
       "    }\n",
       "\n",
       "    .dataframe tbody tr th {\n",
       "        vertical-align: top;\n",
       "    }\n",
       "\n",
       "    .dataframe thead th {\n",
       "        text-align: right;\n",
       "    }\n",
       "</style>\n",
       "<table border=\"1\" class=\"dataframe\">\n",
       "  <thead>\n",
       "    <tr style=\"text-align: right;\">\n",
       "      <th></th>\n",
       "      <th>test_rmse</th>\n",
       "      <th>fit_time</th>\n",
       "      <th>test_time</th>\n",
       "    </tr>\n",
       "    <tr>\n",
       "      <th>Algorithm</th>\n",
       "      <th></th>\n",
       "      <th></th>\n",
       "      <th></th>\n",
       "    </tr>\n",
       "  </thead>\n",
       "  <tbody>\n",
       "    <tr>\n",
       "      <th>BaselineOnly</th>\n",
       "      <td>0.902867</td>\n",
       "      <td>0.050528</td>\n",
       "      <td>0.046463</td>\n",
       "    </tr>\n",
       "    <tr>\n",
       "      <th>SVD</th>\n",
       "      <td>0.907845</td>\n",
       "      <td>1.124713</td>\n",
       "      <td>0.051163</td>\n",
       "    </tr>\n",
       "    <tr>\n",
       "      <th>KNNWithMeans</th>\n",
       "      <td>0.982597</td>\n",
       "      <td>0.011416</td>\n",
       "      <td>0.098623</td>\n",
       "    </tr>\n",
       "  </tbody>\n",
       "</table>\n",
       "</div>"
      ],
      "text/plain": [
       "              test_rmse  fit_time  test_time\n",
       "Algorithm                                   \n",
       "BaselineOnly   0.902867  0.050528   0.046463\n",
       "SVD            0.907845  1.124713   0.051163\n",
       "KNNWithMeans   0.982597  0.011416   0.098623"
      ]
     },
     "execution_count": 84,
     "metadata": {},
     "output_type": "execute_result"
    }
   ],
   "source": [
    "benchmark = []\n",
    "# Iterate over all algorithms\n",
    "for algorithm in [SVD(), KNNWithMeans(), BaselineOnly()]:\n",
    "    # Perform cross validation\n",
    "    results = cross_validate(algorithm, data, measures=['RMSE'], cv=3, verbose=False)\n",
    "    \n",
    "    # Get results & append algorithm name\n",
    "    tmp = pd.DataFrame.from_dict(results).mean(axis=0)\n",
    "    tmp = tmp.append(pd.Series([str(algorithm).split(' ')[0].split('.')[-1]], index=['Algorithm']))\n",
    "    benchmark.append(tmp)\n",
    "    \n",
    "pd.DataFrame(benchmark).set_index('Algorithm').sort_values('test_rmse')   "
   ]
  },
  {
   "cell_type": "markdown",
   "metadata": {},
   "source": [
    "Conclusion: \n",
    "\n",
    "Out of the 3 models, BaselineOnly model gives us the best RMSE metric"
   ]
  },
  {
   "cell_type": "markdown",
   "metadata": {},
   "source": [
    "# Get top - K ( K = 5) recommendations"
   ]
  },
  {
   "cell_type": "code",
   "execution_count": 85,
   "metadata": {},
   "outputs": [],
   "source": [
    "#Use a sample of the dataset of users who have given a cummulative rating of 500. Avoid running out of memor           \n",
    "reader = Reader()\n",
    "data = Dataset.load_from_df(amazon_users_600_ratings_df[['UserId', 'ProductId', 'Ratings']], reader)"
   ]
  },
  {
   "cell_type": "code",
   "execution_count": 86,
   "metadata": {},
   "outputs": [
    {
     "data": {
      "text/plain": [
       "<surprise.prediction_algorithms.matrix_factorization.SVD at 0x1d4cab710>"
      ]
     },
     "execution_count": 86,
     "metadata": {},
     "output_type": "execute_result"
    }
   ],
   "source": [
    "trainset_SVD = data.build_full_trainset()\n",
    "algo = SVD()\n",
    "algo.fit(trainset_SVD)"
   ]
  },
  {
   "cell_type": "code",
   "execution_count": 87,
   "metadata": {},
   "outputs": [],
   "source": [
    "testset = trainset_SVD.build_anti_testset()"
   ]
  },
  {
   "cell_type": "code",
   "execution_count": 88,
   "metadata": {},
   "outputs": [],
   "source": [
    "predictions = algo.test(testset)"
   ]
  },
  {
   "cell_type": "code",
   "execution_count": 38,
   "metadata": {},
   "outputs": [],
   "source": [
    "from collections import defaultdict"
   ]
  },
  {
   "cell_type": "code",
   "execution_count": 94,
   "metadata": {},
   "outputs": [],
   "source": [
    "def get_top_n(predictions, n=5):\n",
    "    # First map the predictions to each user.\n",
    "    top_n = defaultdict(list)\n",
    "    for uid, iid, true_r, est, _ in predictions:\n",
    "        top_n[uid].append((iid, est))\n",
    "\n",
    "    # Then sort the predictions for each user and retrieve the k highest ones.\n",
    "    for uid, user_ratings in top_n.items():\n",
    "        user_ratings.sort(key=lambda x: x[1], reverse=True)\n",
    "        top_n[uid] = user_ratings[:n]\n",
    "\n",
    "    return top_n"
   ]
  },
  {
   "cell_type": "code",
   "execution_count": 89,
   "metadata": {},
   "outputs": [],
   "source": [
    "top_n = get_top_n(predictions, n=5)"
   ]
  },
  {
   "cell_type": "code",
   "execution_count": 92,
   "metadata": {},
   "outputs": [
    {
     "data": {
      "text/plain": [
       "[('B00000JDGO', 5),\n",
       " ('B00004RIPE', 5),\n",
       " ('B00004S9WR', 5),\n",
       " ('B00004TE75', 5),\n",
       " ('B00004Z6KW', 5)]"
      ]
     },
     "execution_count": 92,
     "metadata": {},
     "output_type": "execute_result"
    }
   ],
   "source": [
    "#Get the products and the ratings (estimated by the model) for the user 'A17HMM1M7T9PJ1'\n",
    "top_n.get('A3TAS1AG6FMBQW')"
   ]
  },
  {
   "cell_type": "code",
   "execution_count": 91,
   "metadata": {},
   "outputs": [
    {
     "name": "stdout",
     "output_type": "stream",
     "text": [
      "A17HMM1M7T9PJ1 ['B00BW6KCTU', 'B001SJVU24', 'B004ZP74IM', 'B000HGQJZW', 'B001M4HXB2']\n",
      "A3TAS1AG6FMBQW ['B00000JDGO', 'B00004RIPE', 'B00004S9WR', 'B00004TE75', 'B00004Z6KW']\n",
      "A5JLAU2ARJ0BO ['B000P1O73A', 'B0017Z9SWS', 'B001D7REIK', 'B001FA1NZK', 'B001S2PPT0']\n",
      "A3PD8JD9L4WEII ['B00BANM6HQ', 'B0079TOEQQ', 'B00BWHILCY', 'B00JDAIMQ2', 'B00DK2JQOQ']\n",
      "ABVYGB2TKBO8F ['B001CNR39U', 'B001TANZ0W', 'B001HBH1B2', 'B001TOD7ME', 'B005FDXZJU']\n",
      "A1ZU55TM45Y2R8 ['B008OIYDM6', 'B001TH7GUU', 'B000V1MLBE', 'B003ES5ZUU', 'B001D7REIK']\n",
      "A1VQHH85U7PX0 ['B000063SGW', 'B00007E89K', 'B0001DBEM4', 'B0002CPBUK', 'B0002GV876']\n",
      "A36K2N527TXXJN ['B000JMJWV2', 'B00BANM6HQ', 'B002WE4HE2', 'B002WE6D44', 'B0018LYCYK']\n",
      "ADLVFFE4VBT8 ['B002NPCK1W', 'B0036Q7MV0', 'B003BLQKI6', 'B004XC6GJ0', 'B00BF6HVG4']\n",
      "A250AXLRBVYKB4 ['B00007IFED', 'B004PDY8QK', 'B00G4UQ6U8', 'B004TS2AOS', 'B001G4QXTQ']\n",
      "A18HE80910BTZI ['B003ES5ZUU', 'B00B588HY2', 'B0018LYCYK', 'B000V1MLBE', 'B002WE6D44']\n",
      "A680RUE1FDO8B ['B00005NOKT', 'B00006B9H8', 'B00006I5J7', 'B00009R886', 'B00009RDIF']\n",
      "A3CG93783LP0FO ['B002JQNXZC', 'B0052SCU8U', 'B003NSBF32', 'B00EDCF0MY', 'B00E3W15P0']\n",
      "AEJAGHLC675A7 ['B00000JDGO', 'B00003006E', 'B00004SB92', 'B00004Y284', 'B00004Z5PY']\n",
      "A1T1YSCDW0PD25 ['B000EHUFLI', 'B000QWEN5K', 'B0045371FU', 'B004SKBILS', 'B00AR95EVE']\n",
      "AZ515FFZ7I2P7 ['B0036Q7MV0', 'B00B588HY2', 'B003ES5ZUU', 'B000S5Q9CA', 'B000063WQ0']\n",
      "A6FIAB28IS79 ['B005MR4OV2', 'B000059YXK', 'B008OEHPKM', 'B004SBBD1C', 'B002WE4HE2']\n",
      "A1RPTVW5VEOSI ['B000M17AVO', 'B00BERGFV6', 'B00004SABB', 'B00005NPWJ', 'B006FLENJC']\n",
      "A3NEAETOSXDBOM ['B000N99BBC', 'B000V6WD8A', 'B00DRKO290', 'B00004RERZ', 'B00BW6KCTU']\n",
      "A2HMF8ZR67BNZS ['B00005T3EV', 'B0000X0VCO', 'B000233ZMU', 'B00077AA5Q', 'B0007MGFFU']\n",
      "AZMY6E8B52L2T ['B00000J08C', 'B00000J1US', 'B00003006R', 'B00004S9AK', 'B00004T8R2']\n",
      "AWPODHOB4GFWL ['B0018LYCYK', 'B002QEBMAK', 'B00CPU8MOO', 'B0020ZDI5C', 'B0033WSDR4']\n",
      "A2BYV7S1QP2YIG ['B00001OPJZ', 'B00004Z5PY', 'B000058BCQ', 'B00005QFZG', 'B00006B7HB']\n",
      "AKT8TGIT6VVZ5 ['B00000J1EQ', 'B00000J4EY', 'B00000JDGO', 'B00001ZUNQ', 'B00003006E']\n",
      "A2NYK9KWFMJV4Y ['B00000K4KH', 'B00001P4XA', 'B00002NAXD', 'B0000304ZO', 'B00003G1RG']\n",
      "A2NB2E5DXE319Z ['B000LRMS66', 'B0018O9JIG', 'B003CFATT2', 'B00GMTN96U', 'B00F0H88AC']\n",
      "A231WM2Z2JL0U3 ['B003ES5ZUU', 'B0062EUE54', 'B009BZX340', 'B00JX1ZS5O', 'B005HJWWW8']\n",
      "A2B7BUH8834Y6M ['B000JMJWV2', 'B001QUA6R0', 'B002WE4HE2', 'B0093AN1OA', 'B00AX9ZAHG']\n",
      "A1J75JJ0Q2OEJN ['B003819S8S', 'B00BANM6HQ', 'B001FA1NK0', 'B004HO58SO', 'B001E0XDWM']\n",
      "A3J8A5L5AF5TX9 ['B0037LQY7M', 'B002APDFA0', 'B006TL5KWC', 'B002HWRJBM', 'B001A4HAFS']\n",
      "A3NHUQ33CFH3VM ['B000LRMS66', 'B000MP831G', 'B0014KRVQQ', 'B001TH7GUA', 'B00BB6LTI4']\n",
      "A3REK3OFONWB1Q ['B00000JDGO', 'B00004RERZ', 'B00004WCIA', 'B00004ZD39', 'B000066JQU']\n",
      "A1F1A0QQP2XVH5 ['B002ODIE54', 'B0097252UK', 'B00DTZYHX4', 'B000JMJWV2', 'B0093AN1OA']\n",
      "A1EH2S92FHWZRP ['B00139S3U6', 'B000JV9LUK', 'B0037LQY7M', 'B002WE6D44', 'B00GMTN96U']\n",
      "A1IU7S4HCK1XK0 ['B006JINHYS', 'B007R8U5R6', 'B003ES5ZUU', 'B003NSBF32', 'B0075SUK14']\n",
      "A1F9Z42CFF9IAY ['B003WGJYCY', 'B00006BAXT', 'B000L8CNAG', 'B000UE50O2', 'B00HZN1WXE']\n",
      "AEL6CQNQXONBX ['B001Q3MA80', 'B002WE6D44', 'B0034CL2ZI', 'B0062EUE54', 'B00HA4ORMQ']\n",
      "A3OXHLG6DIBRW8 ['B003HFCDLY', 'B00E3W15P0', 'B000LRMS66', 'B00ISFNSBW', 'B006K554BE']\n",
      "AT28RL25Q2OLK ['B005OLXASY', 'B00GMTN96U', 'B000HPV3RW', 'B0099SMFVQ', 'B0090S8WFS']\n",
      "A3CW0ZLUO5X2B1 ['B00077AA5Q', 'B005FYNSPK', 'B00IVPU6AA', 'B001F51G16', 'B000N99BBC']\n",
      "A22CW0ZHY3NJH8 ['B005OK73GU', 'B00DK2JQOQ', 'B00G4UQ6U8', 'B001TH7GUU', 'B000JFJZGG']\n",
      "A3EXWV8FNSSFL6 ['B00077AA5Q', 'B001E1Y5O6', 'B004HO58SO', 'B004LAEKBU', 'B005JLQL26']\n",
      "A38RMU1Y5TDP9 ['B001DBRZJY', 'B001FWU96M', 'B001GXRWBA', 'B003P2V52M', 'B004IK2EAW']\n",
      "A12DQZKRKTNF5E ['B00316263Y', 'B003ES5ZUU', 'B002OL2M18', 'B001DL9WDG', 'B000ENUCR4']\n",
      "A2BMZRO0H7TFCS ['B003ZSHNGS', 'B00F6E4HXG', 'B001P05NBA', 'B000N99BBC', 'B001D7REIK']\n",
      "A2WLNSZ9U0T1S3 ['B000JMJWV2', 'B000M6RX7K', 'B00HWSXXA2', 'B0090I9UG8', 'B002QGDWLK']\n",
      "AN81JUYW2SL24 ['B002ODUEDO', 'B005FDXZJU', 'B002QUZM0U', 'B0018LYCYK', 'B0019EHU8G']\n",
      "A3LGT6UZL99IW1 ['B001TH7GUU', 'B000053HC5', 'B0051BG48U', 'B00G335A58', 'B0045ERKA0']\n",
      "A11KZ906QD08C5 ['B000068BRE', 'B00006I57Q', 'B00007E7JU', 'B00008OTDY', 'B0000C4DX5']\n",
      "AOEAD7DPLZE53 ['B00004WCIA', 'B009P9TTQI', 'B005J0RAI6', 'B00A0HZOEA', 'B003BWGXWI']\n",
      "A31N0XY2UTB25C ['B00002NAXD', 'B00006B7HB', 'B00006JN3G', 'B000086G0D', 'B00009R6TA']\n",
      "A203OCQQ12MAVT ['B00000JDGO', 'B00004SQET', 'B00004VUGK', 'B00004Y284', 'B00004Z90O']\n",
      "A23GFTVIETX7DS ['B001TH7GUU', 'B001FA1NK0', 'B000JMJWV2', 'B003ZSHNGS', 'B00478VMT4']\n",
      "AT6CZDCP4TRGA ['B0001FV36E', 'B002WC6JFO', 'B00576APBQ', 'B00AEGFFM8', 'B00HZ9GPTE']\n",
      "A3OA4DV4L81N1D ['B0000511L5', 'B000065UTR', 'B00007B65J', 'B00013MLGM', 'B00077AA5Q']\n",
      "A6VPK7X53QNAQ ['B005FDXZJU', 'B003ES5ZUU', 'B00DB9WCR6', 'B00JX1ZS5O', 'B00CMJZAOI']\n",
      "A2NOW4U7W3F7RI ['B000001ON0', 'B00000DM9W', 'B00000K135', 'B00000K4KH', 'B00002NAXD']\n",
      "A6VXZ1EEPRTLV ['B003ES5ZUU', 'B00GDDQRH8', 'B00FW6T36Y', 'B001TH7GVE', 'B002WE6D44']\n",
      "A1ODOGXEYECQQ8 ['B00JOS04PK', 'B00HFW1DY8', 'B0079TOEQQ', 'B000GU4E1K', 'B002JQNXZC']\n",
      "A1EXGL6L0QQ0M5 ['B005FYNSPK', 'B003ES5ZUU', 'B000N99BBC', 'B002WE4HE2', 'B000S5Q9CA']\n",
      "A25HBO5V8S8SEA ['B000001ON0', 'B00000DM9M', 'B00000DM9W', 'B00000J08C', 'B00000J1TX']\n",
      "A1EKSETIBS9ETQ ['B003ES5ZUU', 'B002WE6D44', 'B000VDCTCI', 'B00B9KOCYA', 'B00263D7A4']\n",
      "A225G2TFM76GYX ['B00009R94Q', 'B000CF0ZXK', 'B00368CDH6', 'B00DK2JQOQ', 'B00HHRP11C']\n",
      "A19W47CXJJP1MI ['B00009XVDM', 'B0000T1R4O', 'B00028SPN4', 'B0006FRXI6', 'B000IALP88']\n",
      "A3T7V207KRDE2O ['B0079TOEQQ', 'B004CLYEDC', 'B003ES5ZUU', 'B0082E9K7U', 'B00HFRWWAM']\n",
      "A4WEZJOIZIV4U ['B000JMJWV2', 'B000N99BBC', 'B0011ZK6PC', 'B002TMRZOQ', 'B0052SCU8U']\n",
      "A5KMMY627T3W ['B00004TS16', 'B00004VVA4', 'B00004Z5M1', 'B00005MA9X', 'B00005OMN0']\n",
      "A15QYHQH80W30L ['B0001M2FVY', 'B002OL2NT4', 'B0082E9K7U', 'B008R7EWF2', 'B0070CNY9K']\n",
      "AYB4ELCS5AM8P ['B00000JDGO', 'B00000JSGF', 'B00001P4XA', 'B00003006R', 'B00004RF6K']\n",
      "ALDAF4VVLFRHP ['B000JMJWV2', 'B0052SCU8U', 'B000N99BBC', 'B0034CL2ZI', 'B0007LJHVA']\n",
      "A2AY4YUOX2N1BQ ['B0012GK3MQ', 'B002OL2NT4', 'B003ES5ZUU', 'B00429N18S', 'B00BB6DCUC']\n",
      "A3Q4TYJVAM4IRM ['B000JMJWV2', 'B001TH7GUU', 'B00G4UQ6U8', 'B00E3W15P0', 'B00HZN1WTI']\n",
      "AIJQU979J6UFY ['B0013FRNKG', 'B0079TOEQQ', 'B000N99BBC', 'B001U02JZ8', 'B009BZX340']\n",
      "A25C2M3QF9G7OQ ['B00006HXJ6', 'B000233ZMU', 'B000M17AVO', 'B000N99BBC', 'B0013G8PTS']\n",
      "A1X1CEGHTHMBL1 ['B00000J1V3', 'B00004THDE', 'B00004Z5PY', 'B00005MA7J', 'B00005Q7DH']\n",
      "A1CMD08Z49PGKQ ['0972683275', '1400699169', 'B00000JBVO', 'B00000JLSJ', 'B00000K135']\n",
      "ARBKYIVNYWK3C ['B0020ZDI5C', 'B00IX2VGFA', 'B003ES5ZUU', 'B004XC6GJ0', 'B0002WRGW6']\n",
      "A2KYRPDKVBI2R4 ['B00004S9WQ', 'B000050ZTY', 'B000068O1A', 'B00006BBK6', 'B000083JZG']\n",
      "A376OJHLE6SU9Q ['B003ZSHNGS', 'B003ES5ZUU', 'B000M17AVO', 'B006FLENJC', 'B0002CPBUK']\n",
      "AGVWTYW0ULXHT ['B005FYNSPK', 'B00BW6KCTU', 'B000BQ7GW8', 'B00KXMN08E', 'B003ES5ZUU']\n",
      "A2XRMQA6PJ5ZJ8 ['B000063WQ0', 'B00006B7DA', 'B000AS66QY', 'B000AZ57M6', 'B000N99BBC']\n",
      "A1YEPFLLH42OU1 ['B001TH7GUU', 'B003ES5ZUU', 'B009BZX340', 'B00JF0D7RE', 'B00CSDMWGW']\n",
      "A18FLOC8YQY0P8 ['B00G4UQ6U8', 'B002O3KVSC', 'B00DTZYHX4', 'B000LRMS66', 'B00829THK0']\n",
      "A32O5FZH994CNY ['B00BB72WX4', 'B0017T9XDI', 'B00005U0I5', 'B00EHZYWGM', 'B005GTNZUM']\n",
      "A38KK0SZYEH5UD ['B003ES5ZUU', 'B002WE4HE2', 'B001LQSFKY', 'B005KFONIU', 'B001TH7GUU']\n",
      "A3FEGTOLCWXSV4 ['B00JZXDG7M', 'B0018LYCYK', 'B0012L50Y2', 'B0012R9T0M', 'B005OBV8JW']\n",
      "A3QNQQKJTL76H0 ['B00DW374W4', 'B00F6E4HXG', 'B003ES5ZUU', 'B00015GYU4', 'B00HHRP11C']\n",
      "ABDR6IJ93HFIO ['9800359788', 'B00000J1TX', 'B00000J570', 'B00001YVG4', 'B000023VW2']\n",
      "A1BT6TL7UCIC5Y ['B002WE6D44', 'B00DVFLJDS', 'B0000899QP', 'B004IKAPOO', 'B001O4EPHA']\n",
      "A3L1VJMHFWONCB ['B000R805L4', 'B0062EUE54', 'B004QC6VAG', 'B006TZGBYE', 'B005FDXZJU']\n",
      "A2BLFCOPSMBOZ9 ['B005KFONIU', 'B00IX2VGFA', 'B005FYNSPK', 'B00CMJZAOI', 'B001Q3MA80']\n",
      "AEWYUPCNDV7HY ['B00BERGFV6', 'B00005V14C', 'B00DIYS976', 'B00009V3DO', 'B002WE4HE2']\n",
      "A2UOHALGF2X77Q ['B0013FRNKG', 'B002ZIN9DU', 'B00368CDH6', 'B00HJ1NQLS', 'B002TMRZOQ']\n",
      "ABQWMANK4AR63 ['B001TH7GUU', 'B0002YE6EU', 'B0073FE1F0', 'B00CO8TBOW', 'B0007Z1M50']\n",
      "A3AYSYSLHU26U9 ['B00G4UQ6U8', 'B003ES5ZUU', 'B002WE6D44', 'B00CXNEDU0', 'B00BWH7TIG']\n",
      "ACJT8MUC0LRF0 ['B00000J1EQ', 'B00001QHP5', 'B00003WGP5', 'B00004SB92', 'B00004SD85']\n",
      "A3A4ZAIBQWKOZS ['B00004SB92', 'B00004VVA4', 'B000BHGWZ4', 'B000F7JCRA', 'B000JV9LUK']\n",
      "A17BUUBOU0598B ['B003ES5ZUU', 'B001TH7GUU', 'B00D5Q75RC', 'B002TMRZOQ', 'B00B9KOCYA']\n",
      "A3R4794K2RVU1S ['B00004X107', 'B000JMJWV2', 'B0010Z28XG', 'B0012GK3MQ', 'B002TMRZOQ']\n",
      "AQIJ3ZEEVCIKU ['B000JMJWV2', 'B001E1Y5O6', 'B003XIJ3MW', 'B0042X9LBK', 'B00JDAIMQ2']\n",
      "A3S3R88HA0HZG3 ['B00004XRDN', 'B00004Z5QU', 'B00005137P', 'B00005NFPU', 'B00005V7L8']\n",
      "A3V7D0LH8L7BG0 ['B002WE6D44', 'B003ES5ZUU', 'B007G5NNOW', 'B007I5JT4S', 'B000P6M6HY']\n",
      "AVPNQUVZWMDSX ['B0001FV36E', 'B003HFCDLY', 'B004SBBD8U', 'B00JEOC1LO', 'B003UEWF8I']\n",
      "A1E1LEVQ9VQNK ['9800359788', 'B00000J4EY', 'B00001P4WE', 'B00001P4XA', 'B00003006E']\n",
      "A3U41ZL33SS92P ['B001KJ91V4', 'B001HBH1B2', 'B000LRMS66', 'B0007LI13U', 'B008OEHPKM']\n",
      "A1F7YU6O5RU432 ['0972683275', 'B00000JDGO', 'B000062VUO', 'B00006B7DA', 'B00006B80O']\n",
      "A1UQBFCERIP7VJ ['B0000BZL1P', 'B0007TSYCK', 'B000F7QRTG', 'B000HRYV38', 'B000V1MLBE']\n",
      "A1EVV74UQYVKRY ['B000067RT6', 'B0002J2TLC', 'B000M17AVO', 'B000WOIFO2', 'B001HBH1B2']\n",
      "A11I1I9QLMAM1A ['B000LRMS66', 'B000N99BBC', 'B0018LYCYK', 'B001TH7GUU', 'B001UI2FPE']\n",
      "A34BZM6S9L7QI4 ['B00004S9AK', 'B000JMJWV2', 'B000M2TAN4', 'B000RZQZM0', 'B001DJ7Y2O']\n"
     ]
    }
   ],
   "source": [
    "# Print the recommended items for each user\n",
    "for uid, user_ratings in top_n.items():\n",
    "    print(uid, [iid for (iid, _) in user_ratings])"
   ]
  },
  {
   "cell_type": "code",
   "execution_count": 93,
   "metadata": {},
   "outputs": [
    {
     "data": {
      "text/html": [
       "<div>\n",
       "<style scoped>\n",
       "    .dataframe tbody tr th:only-of-type {\n",
       "        vertical-align: middle;\n",
       "    }\n",
       "\n",
       "    .dataframe tbody tr th {\n",
       "        vertical-align: top;\n",
       "    }\n",
       "\n",
       "    .dataframe thead th {\n",
       "        text-align: right;\n",
       "    }\n",
       "</style>\n",
       "<table border=\"1\" class=\"dataframe\">\n",
       "  <thead>\n",
       "    <tr style=\"text-align: right;\">\n",
       "      <th></th>\n",
       "      <th>UserId</th>\n",
       "      <th>ProductId</th>\n",
       "      <th>Ratings</th>\n",
       "    </tr>\n",
       "  </thead>\n",
       "  <tbody>\n",
       "  </tbody>\n",
       "</table>\n",
       "</div>"
      ],
      "text/plain": [
       "Empty DataFrame\n",
       "Columns: [UserId, ProductId, Ratings]\n",
       "Index: []"
      ]
     },
     "execution_count": 93,
     "metadata": {},
     "output_type": "execute_result"
    }
   ],
   "source": [
    "# User Id = A3TAS1AG6FMBQW \n",
    "# Product Ids ['B00000JDGO', 'B00004RIPE', 'B00004S9WR', 'B00004TE75', 'B00004Z6KW']\n",
    "amazon_users_600_ratings_df[(amazon_users_600_ratings_df['UserId'] == 'A3TAS1AG6FMBQW')\n",
    "                            & (amazon_users_600_ratings_df['ProductId'] == 'B00000JDGO')\n",
    "                            & (amazon_users_600_ratings_df['ProductId'] == 'B00004RIPE')\n",
    "                            & (amazon_users_600_ratings_df['ProductId'] == 'B00004S9WR')\n",
    "                            & (amazon_users_600_ratings_df['ProductId'] == 'B00004TE75')\n",
    "                            & (amazon_users_600_ratings_df['ProductId'] == 'B00004Z6KW')]"
   ]
  },
  {
   "cell_type": "markdown",
   "metadata": {},
   "source": [
    "# Summary"
   ]
  },
  {
   "cell_type": "markdown",
   "metadata": {},
   "source": [
    "For the user A3TAS1AG6FMBQW, the 5 products recommended by the model are new products which are not already rated by the user. We will recommend these  5 products for the user -\n",
    "User Id = A3TAS1AG6FMBQW \n",
    "Product Ids ['B00000JDGO', 'B00004RIPE', 'B00004S9WR', 'B00004TE75', 'B00004Z6KW']\n",
    "\n",
    "We can see the estimated rating given by the model below (stored in defaultdict)\n",
    "\n",
    "[('B00000JDGO', 5),\n",
    " ('B00004RIPE', 5),\n",
    " ('B00004S9WR', 5),\n",
    " ('B00004TE75', 5),\n",
    " ('B00004Z6KW', 5)]"
   ]
  }
 ],
 "metadata": {
  "kernelspec": {
   "display_name": "Python 3",
   "language": "python",
   "name": "python3"
  },
  "language_info": {
   "codemirror_mode": {
    "name": "ipython",
    "version": 3
   },
   "file_extension": ".py",
   "mimetype": "text/x-python",
   "name": "python",
   "nbconvert_exporter": "python",
   "pygments_lexer": "ipython3",
   "version": "3.7.3"
  }
 },
 "nbformat": 4,
 "nbformat_minor": 2
}
