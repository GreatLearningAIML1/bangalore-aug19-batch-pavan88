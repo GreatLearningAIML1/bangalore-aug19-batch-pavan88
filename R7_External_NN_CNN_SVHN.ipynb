{
  "nbformat": 4,
  "nbformat_minor": 0,
  "metadata": {
    "colab": {
      "name": "R7_External_NN_CNN_SVHN",
      "provenance": [],
      "collapsed_sections": []
    },
    "kernelspec": {
      "name": "python3",
      "display_name": "Python 3"
    }
  },
  "cells": [
    {
      "cell_type": "code",
      "metadata": {
        "id": "mmz38kNPp3eg",
        "colab_type": "code",
        "colab": {}
      },
      "source": [
        ""
      ],
      "execution_count": 0,
      "outputs": []
    },
    {
      "cell_type": "markdown",
      "metadata": {
        "id": "CN2drp9hrlVp",
        "colab_type": "text"
      },
      "source": [
        "**The Street View House Numbers (SVHN) Dataset**\n",
        "\n",
        "SVHN is a real-world image dataset for developing machine learning and object\n",
        "recognition algorithms with minimal requirement on data formatting but comes from a\n",
        "significantly harder, unsolved, real world problem (recognizing digits and numbers in\n",
        "natural scene images). SVHN is obtained from house numbers in Google Street View\n",
        "images. "
      ]
    },
    {
      "cell_type": "code",
      "metadata": {
        "id": "ciD3pPuZrxJ7",
        "colab_type": "code",
        "colab": {
          "base_uri": "https://localhost:8080/",
          "height": 81
        },
        "outputId": "a7d24c14-a519-4113-e679-5fea877c75fd"
      },
      "source": [
        "import numpy as np\n",
        "import pandas as pd\n",
        "import h5py\n",
        "from sklearn.model_selection import train_test_split\n",
        "from sklearn.metrics import accuracy_score, confusion_matrix, recall_score, precision_score, f1_score, auc,roc_curve\n",
        "import matplotlib.pyplot as plt   \n",
        "import seaborn as sns\n",
        "%matplotlib inline\n",
        "import tensorflow as tf\n",
        "import keras\n"
      ],
      "execution_count": 14,
      "outputs": [
        {
          "output_type": "display_data",
          "data": {
            "text/html": [
              "<p style=\"color: red;\">\n",
              "The default version of TensorFlow in Colab will soon switch to TensorFlow 2.x.<br>\n",
              "We recommend you <a href=\"https://www.tensorflow.org/guide/migrate\" target=\"_blank\">upgrade</a> now \n",
              "or ensure your notebook will continue to use TensorFlow 1.x via the <code>%tensorflow_version 1.x</code> magic:\n",
              "<a href=\"https://colab.research.google.com/notebooks/tensorflow_version.ipynb\" target=\"_blank\">more info</a>.</p>\n"
            ],
            "text/plain": [
              "<IPython.core.display.HTML object>"
            ]
          },
          "metadata": {
            "tags": []
          }
        },
        {
          "output_type": "stream",
          "text": [
            "Using TensorFlow backend.\n"
          ],
          "name": "stderr"
        }
      ]
    },
    {
      "cell_type": "code",
      "metadata": {
        "id": "D5-7YuMIvBYI",
        "colab_type": "code",
        "outputId": "5dc54e77-845c-4873-901f-f6f3e35c96c5",
        "colab": {
          "base_uri": "https://localhost:8080/",
          "height": 124
        }
      },
      "source": [
        "from google.colab import drive\n",
        "drive.mount('/content/drive')"
      ],
      "execution_count": 2,
      "outputs": [
        {
          "output_type": "stream",
          "text": [
            "Go to this URL in a browser: https://accounts.google.com/o/oauth2/auth?client_id=947318989803-6bn6qk8qdgf4n4g3pfee6491hc0brc4i.apps.googleusercontent.com&redirect_uri=urn%3aietf%3awg%3aoauth%3a2.0%3aoob&response_type=code&scope=email%20https%3a%2f%2fwww.googleapis.com%2fauth%2fdocs.test%20https%3a%2f%2fwww.googleapis.com%2fauth%2fdrive%20https%3a%2f%2fwww.googleapis.com%2fauth%2fdrive.photos.readonly%20https%3a%2f%2fwww.googleapis.com%2fauth%2fpeopleapi.readonly\n",
            "\n",
            "Enter your authorization code:\n",
            "··········\n",
            "Mounted at /content/drive\n"
          ],
          "name": "stdout"
        }
      ]
    },
    {
      "cell_type": "code",
      "metadata": {
        "id": "QKxC1Lt2y_8B",
        "colab_type": "code",
        "colab": {}
      },
      "source": [
        "h5FilePath=\"/content/drive/My Drive/Pavan/SVHN_single_grey1.h5\""
      ],
      "execution_count": 0,
      "outputs": []
    },
    {
      "cell_type": "code",
      "metadata": {
        "id": "d_4sCIPtvBu5",
        "colab_type": "code",
        "outputId": "5deaf2d0-31b1-4917-9fbf-56254b946a7f",
        "colab": {
          "base_uri": "https://localhost:8080/",
          "height": 35
        }
      },
      "source": [
        "h5FilePath"
      ],
      "execution_count": 4,
      "outputs": [
        {
          "output_type": "execute_result",
          "data": {
            "text/plain": [
              "'/content/drive/My Drive/Pavan/SVHN_single_grey1.h5'"
            ]
          },
          "metadata": {
            "tags": []
          },
          "execution_count": 4
        }
      ]
    },
    {
      "cell_type": "code",
      "metadata": {
        "id": "Zmu6QgIJzGQC",
        "colab_type": "code",
        "colab": {}
      },
      "source": [
        "svhn_h5f = h5py.File(h5FilePath,\"r\")"
      ],
      "execution_count": 0,
      "outputs": []
    },
    {
      "cell_type": "code",
      "metadata": {
        "id": "fqrAWAzHzPrt",
        "colab_type": "code",
        "colab": {
          "base_uri": "https://localhost:8080/",
          "height": 121
        },
        "outputId": "039e3a00-4d18-44fd-ac0f-8866745e0002"
      },
      "source": [
        "keys=svhn_h5f.keys()\n",
        "for key in keys:\n",
        "    print(key)"
      ],
      "execution_count": 6,
      "outputs": [
        {
          "output_type": "stream",
          "text": [
            "X_test\n",
            "X_train\n",
            "X_val\n",
            "y_test\n",
            "y_train\n",
            "y_val\n"
          ],
          "name": "stdout"
        }
      ]
    },
    {
      "cell_type": "code",
      "metadata": {
        "id": "s5QHq4pwYa8C",
        "colab_type": "code",
        "colab": {}
      },
      "source": [
        "\n",
        "X_train=svhn_h5f['X_train'][:]\n",
        "y_train=svhn_h5f['y_train'][:]\n",
        "\n",
        "X_test=svhn_h5f['X_test'][:]\n",
        "y_test=svhn_h5f['y_test'][:]\n",
        "\n",
        "X_val=svhn_h5f['X_val'][:]\n",
        "y_val=svhn_h5f['y_val'][:]"
      ],
      "execution_count": 0,
      "outputs": []
    },
    {
      "cell_type": "code",
      "metadata": {
        "id": "0_yrhl8PYh6B",
        "colab_type": "code",
        "colab": {
          "base_uri": "https://localhost:8080/",
          "height": 35
        },
        "outputId": "470594b3-bebf-46af-c39e-c55866a4f8ed"
      },
      "source": [
        "np.unique(y_train)"
      ],
      "execution_count": 8,
      "outputs": [
        {
          "output_type": "execute_result",
          "data": {
            "text/plain": [
              "array([0, 1, 2, 3, 4, 5, 6, 7, 8, 9], dtype=uint8)"
            ]
          },
          "metadata": {
            "tags": []
          },
          "execution_count": 8
        }
      ]
    },
    {
      "cell_type": "code",
      "metadata": {
        "id": "-v9vuOHVYkmq",
        "colab_type": "code",
        "colab": {
          "base_uri": "https://localhost:8080/",
          "height": 35
        },
        "outputId": "0a1614df-b45c-44bd-ac1a-025ad674ec77"
      },
      "source": [
        "np.unique(y_test)"
      ],
      "execution_count": 9,
      "outputs": [
        {
          "output_type": "execute_result",
          "data": {
            "text/plain": [
              "array([0, 1, 2, 3, 4, 5, 6, 7, 8, 9], dtype=uint8)"
            ]
          },
          "metadata": {
            "tags": []
          },
          "execution_count": 9
        }
      ]
    },
    {
      "cell_type": "code",
      "metadata": {
        "id": "uDPOZ_axYm7e",
        "colab_type": "code",
        "colab": {
          "base_uri": "https://localhost:8080/",
          "height": 35
        },
        "outputId": "b2538868-52cc-4dc3-85df-3a8a8a866e20"
      },
      "source": [
        "np.unique(y_val)"
      ],
      "execution_count": 10,
      "outputs": [
        {
          "output_type": "execute_result",
          "data": {
            "text/plain": [
              "array([0, 1, 2, 3, 4, 5, 6, 7, 8, 9], dtype=uint8)"
            ]
          },
          "metadata": {
            "tags": []
          },
          "execution_count": 10
        }
      ]
    },
    {
      "cell_type": "code",
      "metadata": {
        "id": "dGyZE_XMYotz",
        "colab_type": "code",
        "colab": {}
      },
      "source": [
        "svhn_h5f.close()"
      ],
      "execution_count": 0,
      "outputs": []
    },
    {
      "cell_type": "code",
      "metadata": {
        "id": "dS4GUiXbYqnM",
        "colab_type": "code",
        "colab": {
          "base_uri": "https://localhost:8080/",
          "height": 69
        },
        "outputId": "0dcac6f3-cedc-45bc-ec3a-142ed53aad13"
      },
      "source": [
        "\n",
        "print(\"Training Set\",X_train.shape, y_train.shape )\n",
        "print(\"Validation Set\",X_val.shape, y_val.shape )\n",
        "print(\"Test Set\",X_test.shape, y_test.shape )"
      ],
      "execution_count": 12,
      "outputs": [
        {
          "output_type": "stream",
          "text": [
            "Training Set (42000, 32, 32) (42000,)\n",
            "Validation Set (60000, 32, 32) (60000,)\n",
            "Test Set (18000, 32, 32) (18000,)\n"
          ],
          "name": "stdout"
        }
      ]
    },
    {
      "cell_type": "code",
      "metadata": {
        "id": "0JF2wOYrYs5Y",
        "colab_type": "code",
        "colab": {
          "base_uri": "https://localhost:8080/",
          "height": 285
        },
        "outputId": "46c1b481-195f-4e3b-8295-1379e463e5e4"
      },
      "source": [
        "labels = []\n",
        "\n",
        "plt.figure(figsize=(5,5))\n",
        "for i in range(10):\n",
        "    plt.subplot(5,3,i+1)\n",
        "    plt.xticks([])\n",
        "    plt.yticks([])\n",
        "    plt.grid(False)\n",
        "    plt.imshow(X_train[i], cmap=plt.get_cmap('gray'))\n",
        "    lbl=y_train[i]\n",
        "    labels.append(lbl)\n",
        "plt.show()\n",
        "print(\"label for each of the above image:\\n\", labels)"
      ],
      "execution_count": 15,
      "outputs": [
        {
          "output_type": "display_data",
          "data": {
            "image/png": "[encoded data removed]",
            "text/plain": [
              "<Figure size 360x360 with 10 Axes>"
            ]
          },
          "metadata": {
            "tags": []
          }
        },
        {
          "output_type": "stream",
          "text": [
            "label for each of the above image:\n",
            " [2, 6, 7, 4, 4, 0, 3, 0, 7, 3]\n"
          ],
          "name": "stdout"
        }
      ]
    },
    {
      "cell_type": "code",
      "metadata": {
        "id": "Ve0gVK9zYv1J",
        "colab_type": "code",
        "colab": {}
      },
      "source": [
        "num_classes = 10 \n",
        "# Converting class vectors to binary class matrices\n",
        "y_train = keras.utils.to_categorical(y_train, num_classes)\n",
        "y_test = keras.utils.to_categorical(y_test, num_classes)\n",
        "y_val = keras.utils.to_categorical(y_val, num_classes)"
      ],
      "execution_count": 0,
      "outputs": []
    },
    {
      "cell_type": "code",
      "metadata": {
        "id": "vns0RN3_ZEsm",
        "colab_type": "code",
        "colab": {
          "base_uri": "https://localhost:8080/",
          "height": 138
        },
        "outputId": "5989296a-bad0-4a15-9fda-26b8cb1e2b50"
      },
      "source": [
        "\n",
        "print(y_train.shape)\n",
        "print('First 5 examples now are: \\n', y_train[0:5])"
      ],
      "execution_count": 17,
      "outputs": [
        {
          "output_type": "stream",
          "text": [
            "(42000, 10)\n",
            "First 5 examples now are: \n",
            " [[0. 0. 1. 0. 0. 0. 0. 0. 0. 0.]\n",
            " [0. 0. 0. 0. 0. 0. 1. 0. 0. 0.]\n",
            " [0. 0. 0. 0. 0. 0. 0. 1. 0. 0.]\n",
            " [0. 0. 0. 0. 1. 0. 0. 0. 0. 0.]\n",
            " [0. 0. 0. 0. 1. 0. 0. 0. 0. 0.]]\n"
          ],
          "name": "stdout"
        }
      ]
    },
    {
      "cell_type": "code",
      "metadata": {
        "id": "xqRLjOFcZHq4",
        "colab_type": "code",
        "colab": {}
      },
      "source": [
        "X_train = X_train.astype('float32') / 255\n",
        "X_test = X_test.astype('float32') / 255\n",
        "X_val = X_val.astype('float32') / 255"
      ],
      "execution_count": 0,
      "outputs": []
    },
    {
      "cell_type": "code",
      "metadata": {
        "id": "MlZSRiVPZKuq",
        "colab_type": "code",
        "colab": {}
      },
      "source": [
        "X_train = X_train.reshape((X_train.shape[0], 32, 32, 1))\n",
        "X_test = X_test.reshape((X_test.shape[0], 32, 32, 1))\n",
        "X_val = X_val.reshape((X_val.shape[0], 32, 32, 1))"
      ],
      "execution_count": 0,
      "outputs": []
    },
    {
      "cell_type": "code",
      "metadata": {
        "id": "IwK3cBy4ZNF-",
        "colab_type": "code",
        "colab": {
          "base_uri": "https://localhost:8080/",
          "height": 69
        },
        "outputId": "665c894b-dd80-4a33-c52d-29dae0802c92"
      },
      "source": [
        "print(\"Training Set\",X_train.shape )\n",
        "print(\"Validation Set\",X_val.shape )\n",
        "print(\"Test Set\",X_test.shape )"
      ],
      "execution_count": 20,
      "outputs": [
        {
          "output_type": "stream",
          "text": [
            "Training Set (42000, 32, 32, 1)\n",
            "Validation Set (60000, 32, 32, 1)\n",
            "Test Set (18000, 32, 32, 1)\n"
          ],
          "name": "stdout"
        }
      ]
    },
    {
      "cell_type": "code",
      "metadata": {
        "id": "5JvD3JRPZRAm",
        "colab_type": "code",
        "colab": {
          "base_uri": "https://localhost:8080/",
          "height": 89
        },
        "outputId": "af9927eb-0471-4aa0-c73d-67584be0d2f0"
      },
      "source": [
        "model1 = tf.keras.models.Sequential()\n",
        "\n",
        "model1.add(tf.keras.layers.Conv2D(32, kernel_size=(3,3), activation='relu', input_shape=(32, 32, 1)))\n",
        "model1.add(tf.keras.layers.Flatten())\n",
        "#Adding - Dense Layer - 128 Nurons with Relu\n",
        "model1.add(tf.keras.layers.Dense(128, activation='relu'))\n",
        "#Adding - Dense Layer/output layer - 10 Nurons with Softmax\n",
        "model1.add(tf.keras.layers.Dense(10, activation='softmax'))"
      ],
      "execution_count": 22,
      "outputs": [
        {
          "output_type": "stream",
          "text": [
            "WARNING:tensorflow:From /usr/local/lib/python3.6/dist-packages/tensorflow_core/python/ops/resource_variable_ops.py:1630: calling BaseResourceVariable.__init__ (from tensorflow.python.ops.resource_variable_ops) with constraint is deprecated and will be removed in a future version.\n",
            "Instructions for updating:\n",
            "If using Keras pass *_constraint arguments to layers.\n"
          ],
          "name": "stdout"
        }
      ]
    },
    {
      "cell_type": "code",
      "metadata": {
        "id": "nzY6U06LZTPH",
        "colab_type": "code",
        "colab": {}
      },
      "source": [
        "\n",
        "model1.compile(optimizer='sgd', loss='categorical_crossentropy', metrics=['accuracy'])"
      ],
      "execution_count": 0,
      "outputs": []
    },
    {
      "cell_type": "code",
      "metadata": {
        "id": "L63HhRXMZZpr",
        "colab_type": "code",
        "colab": {
          "base_uri": "https://localhost:8080/",
          "height": 380
        },
        "outputId": "02546d4a-712c-42ab-ecaf-86464491c2bb"
      },
      "source": [
        "m1_history=model1.fit(X_train, y_train, \n",
        "          validation_data=(X_val, y_val), \n",
        "          epochs=10,\n",
        "          batch_size=32)"
      ],
      "execution_count": 24,
      "outputs": [
        {
          "output_type": "stream",
          "text": [
            "Train on 42000 samples, validate on 60000 samples\n",
            "Epoch 1/10\n",
            "42000/42000 [==============================] - 67s 2ms/sample - loss: 2.2503 - acc: 0.1961 - val_loss: 2.0439 - val_acc: 0.3426\n",
            "Epoch 2/10\n",
            "42000/42000 [==============================] - 67s 2ms/sample - loss: 1.5710 - acc: 0.5068 - val_loss: 1.4958 - val_acc: 0.5359\n",
            "Epoch 3/10\n",
            "42000/42000 [==============================] - 66s 2ms/sample - loss: 1.1835 - acc: 0.6396 - val_loss: 1.0672 - val_acc: 0.6804\n",
            "Epoch 4/10\n",
            "42000/42000 [==============================] - 66s 2ms/sample - loss: 1.0615 - acc: 0.6781 - val_loss: 1.1673 - val_acc: 0.6410\n",
            "Epoch 5/10\n",
            "42000/42000 [==============================] - 66s 2ms/sample - loss: 0.9843 - acc: 0.7032 - val_loss: 1.1291 - val_acc: 0.6528\n",
            "Epoch 6/10\n",
            "42000/42000 [==============================] - 66s 2ms/sample - loss: 0.9247 - acc: 0.7193 - val_loss: 0.9210 - val_acc: 0.7190\n",
            "Epoch 7/10\n",
            "42000/42000 [==============================] - 67s 2ms/sample - loss: 0.8759 - acc: 0.7375 - val_loss: 0.9239 - val_acc: 0.7229\n",
            "Epoch 8/10\n",
            "42000/42000 [==============================] - 67s 2ms/sample - loss: 0.8296 - acc: 0.7518 - val_loss: 0.9513 - val_acc: 0.7090\n",
            "Epoch 9/10\n",
            "42000/42000 [==============================] - 66s 2ms/sample - loss: 0.7913 - acc: 0.7638 - val_loss: 0.7864 - val_acc: 0.7710\n",
            "Epoch 10/10\n",
            "42000/42000 [==============================] - 66s 2ms/sample - loss: 0.7647 - acc: 0.7732 - val_loss: 0.7635 - val_acc: 0.7731\n"
          ],
          "name": "stdout"
        }
      ]
    },
    {
      "cell_type": "code",
      "metadata": {
        "id": "lY9JuaDmZecK",
        "colab_type": "code",
        "colab": {
          "base_uri": "https://localhost:8080/",
          "height": 573
        },
        "outputId": "8f4476d4-79aa-4927-d823-a0c85bbdce2a"
      },
      "source": [
        "# summarizing history for accuracy\n",
        "plt.plot(m1_history.history['acc'])\n",
        "plt.plot(m1_history.history['val_acc'])\n",
        "plt.title('Model1 Accuracy')\n",
        "plt.ylabel('accuracy')\n",
        "plt.xlabel('epoch')\n",
        "plt.legend(['Train', 'Validation'], loc='upper left')\n",
        "plt.show()\n",
        "# summarizing history for loss\n",
        "plt.plot(m1_history.history['loss'])\n",
        "plt.plot(m1_history.history['val_loss'])\n",
        "plt.title('Model1 Loss')\n",
        "plt.ylabel('loss')\n",
        "plt.xlabel('epoch')\n",
        "plt.legend(['Train', 'Validation'], loc='upper left')\n",
        "plt.show()"
      ],
      "execution_count": 25,
      "outputs": [
        {
          "output_type": "display_data",
          "data": {
            "image/png": "[encoded data removed]",
            "text/plain": [
              "<Figure size 432x288 with 1 Axes>"
            ]
          },
          "metadata": {
            "tags": []
          }
        },
        {
          "output_type": "display_data",
          "data": {
            "image/png": "[encoded data removed]",
            "text/plain": [
              "<Figure size 432x288 with 1 Axes>"
            ]
          },
          "metadata": {
            "tags": []
          }
        }
      ]
    },
    {
      "cell_type": "code",
      "metadata": {
        "id": "M0PrW8M9ZgnV",
        "colab_type": "code",
        "colab": {
          "base_uri": "https://localhost:8080/",
          "height": 35
        },
        "outputId": "d3dad837-6027-42aa-c8d5-2ba1a39adc7f"
      },
      "source": [
        "model1_result=model1.evaluate(X_test,y_test,verbose=1)"
      ],
      "execution_count": 26,
      "outputs": [
        {
          "output_type": "stream",
          "text": [
            "18000/18000 [==============================] - 5s 301us/sample - loss: 0.8250 - acc: 0.7619\n"
          ],
          "name": "stdout"
        }
      ]
    },
    {
      "cell_type": "code",
      "metadata": {
        "id": "nJ6SSU86Zjly",
        "colab_type": "code",
        "colab": {
          "base_uri": "https://localhost:8080/",
          "height": 35
        },
        "outputId": "d014808e-da60-4d4d-b25e-e32b80b6a546"
      },
      "source": [
        "\n",
        "print(\"Model1 Accuracy : {0}\".format(model1_result[1]*100))"
      ],
      "execution_count": 27,
      "outputs": [
        {
          "output_type": "stream",
          "text": [
            "Model1 Accuracy : 76.19444727897644\n"
          ],
          "name": "stdout"
        }
      ]
    },
    {
      "cell_type": "code",
      "metadata": {
        "id": "1XaChnkjZlrV",
        "colab_type": "code",
        "colab": {
          "base_uri": "https://localhost:8080/",
          "height": 35
        },
        "outputId": "d9646719-6aad-4a06-e7d2-9c972b684d41"
      },
      "source": [
        "print(\"Model1 Loss : {0}\".format(model1_result[0]*100))"
      ],
      "execution_count": 28,
      "outputs": [
        {
          "output_type": "stream",
          "text": [
            "Model1 Loss : 82.49857704904345\n"
          ],
          "name": "stdout"
        }
      ]
    },
    {
      "cell_type": "code",
      "metadata": {
        "id": "VMN5GPSOZnwl",
        "colab_type": "code",
        "colab": {
          "base_uri": "https://localhost:8080/",
          "height": 294
        },
        "outputId": "4ee78003-6789-486a-9386-edf15168b1fd"
      },
      "source": [
        "model1.summary()"
      ],
      "execution_count": 29,
      "outputs": [
        {
          "output_type": "stream",
          "text": [
            "Model: \"sequential_1\"\n",
            "_________________________________________________________________\n",
            "Layer (type)                 Output Shape              Param #   \n",
            "=================================================================\n",
            "conv2d (Conv2D)              (None, 30, 30, 32)        320       \n",
            "_________________________________________________________________\n",
            "flatten (Flatten)            (None, 28800)             0         \n",
            "_________________________________________________________________\n",
            "dense (Dense)                (None, 128)               3686528   \n",
            "_________________________________________________________________\n",
            "dense_1 (Dense)              (None, 10)                1290      \n",
            "=================================================================\n",
            "Total params: 3,688,138\n",
            "Trainable params: 3,688,138\n",
            "Non-trainable params: 0\n",
            "_________________________________________________________________\n"
          ],
          "name": "stdout"
        }
      ]
    },
    {
      "cell_type": "code",
      "metadata": {
        "id": "oV3XvRKYZpOF",
        "colab_type": "code",
        "colab": {}
      },
      "source": [
        ""
      ],
      "execution_count": 0,
      "outputs": []
    }
  ]
}